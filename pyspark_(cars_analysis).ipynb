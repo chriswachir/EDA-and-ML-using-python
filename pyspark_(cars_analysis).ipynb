{
  "nbformat": 4,
  "nbformat_minor": 5,
  "metadata": {
    "kernelspec": {
      "display_name": "Python 3",
      "language": "python",
      "name": "python3"
    },
    "language_info": {
      "codemirror_mode": {
        "name": "ipython",
        "version": 3
      },
      "file_extension": ".py",
      "mimetype": "text/x-python",
      "name": "python",
      "nbconvert_exporter": "python",
      "pygments_lexer": "ipython3",
      "version": "3.8.8"
    },
    "colab": {
      "name": "pyspark (cars analysis).ipynb",
      "provenance": []
    }
  },
  "cells": [
    {
      "cell_type": "markdown",
      "metadata": {
        "id": "f5f4fe91"
      },
      "source": [
        "## Introduction to Google Colab and PySpark"
      ],
      "id": "f5f4fe91"
    },
    {
      "cell_type": "markdown",
      "metadata": {
        "id": "1b17e393"
      },
      "source": [
        "https://jacobcelestine.com/knowledge_repo/colab_and_pyspark/#Sorting-Rows"
      ],
      "id": "1b17e393"
    },
    {
      "cell_type": "markdown",
      "metadata": {
        "id": "d2a02a3b"
      },
      "source": [
        "https://docs.oracle.com/javase/7/docs/api/java/text/SimpleDateFormat.html"
      ],
      "id": "d2a02a3b"
    },
    {
      "cell_type": "markdown",
      "metadata": {
        "id": "47219d3d"
      },
      "source": [
        "#### Installing Pyspark"
      ],
      "id": "47219d3d"
    },
    {
      "cell_type": "raw",
      "metadata": {
        "id": "c023042f"
      },
      "source": [
        "!apt-get install openjdk-8-jdk-headless -qq > /dev/null\n",
        "!wget -q http://archive.apache.org/dist/spark/spark-3.1.1/spark-3.1.1-bin-hadoop3.2.tgz\n",
        "!tar xf spark-3.1.1-bin-hadoop3.2.tgz\n",
        "!pip install -q findspark"
      ],
      "id": "c023042f"
    },
    {
      "cell_type": "markdown",
      "metadata": {
        "id": "c901f2c0"
      },
      "source": [
        "#### Setting environment for the variables"
      ],
      "id": "c901f2c0"
    },
    {
      "cell_type": "raw",
      "metadata": {
        "id": "a656e6c3"
      },
      "source": [
        "import os\n",
        "os.environ[\"JAVA_HOME\"] = \"/usr/lib/jvm/java-8-openjdk-amd64\"\n",
        "os.environ[\"SPARK_HOME\"] = \"/content/spark-3.1.1-bin-hadoop3.2\""
      ],
      "id": "a656e6c3"
    },
    {
      "cell_type": "raw",
      "metadata": {
        "id": "cdd2c8a6"
      },
      "source": [
        "!ls"
      ],
      "id": "cdd2c8a6"
    },
    {
      "cell_type": "code",
      "metadata": {
        "id": "e7249b5d"
      },
      "source": [
        "!pip install findspark\n",
        "import findspark\n",
        "findspark.init()\n",
        "from pyspark.sql import SparkSession\n",
        "spark = SparkSession.builder.master(\"local[*]\").getOrCreate()\n",
        "spark.conf.set(\"spark.sql.repl.eagerEval.enabled\", True) # Property used to format output tables better\n",
        "spark"
      ],
      "id": "e7249b5d",
      "execution_count": null,
      "outputs": []
    },
    {
      "cell_type": "markdown",
      "metadata": {
        "id": "1c96776a"
      },
      "source": [
        "## Exloring the dataset"
      ],
      "id": "1c96776a"
    },
    {
      "cell_type": "markdown",
      "metadata": {
        "id": "8829b138"
      },
      "source": [
        "#### Loading the dataset"
      ],
      "id": "8829b138"
    },
    {
      "cell_type": "code",
      "metadata": {
        "id": "4822d082",
        "outputId": "5e60dec6-d20e-4dcf-b94c-bc2bbe7c1db4"
      },
      "source": [
        "# Downloading and preprocessing Cars Data downloaded origianlly from https://perso.telecom-paristech.fr/eagan/class/igr204/datasets\n",
        "# Many of these datasets have been cleaned up by Petra Isenberg, Pierre Dragicevic and Yvonne Jansen\n",
        "d https://jacobceles.github.io/knowledge_repo/colab_and_pyspark/cars.csv"
      ],
      "id": "4822d082",
      "execution_count": null,
      "outputs": [
        {
          "name": "stderr",
          "output_type": "stream",
          "text": [
            "'wget' is not recognized as an internal or external command,\n",
            "operable program or batch file.\n"
          ]
        }
      ]
    },
    {
      "cell_type": "code",
      "metadata": {
        "id": "212d5b50",
        "outputId": "13dc89a9-1a82-41d6-b38d-44ab5f445762"
      },
      "source": [
        "# Load data from csv to a dataframe. \n",
        "# header=True means the first row is a header \n",
        "# sep=';' means the column are seperated using ''\n",
        "df = spark.read.csv('cars.csv', header=True, sep=\";\")\n",
        "df.show(5)"
      ],
      "id": "212d5b50",
      "execution_count": null,
      "outputs": [
        {
          "name": "stdout",
          "output_type": "stream",
          "text": [
            "+--------------------+----+---------+------------+----------+------+------------+-----+------+\n",
            "|                 Car| MPG|Cylinders|Displacement|Horsepower|Weight|Acceleration|Model|Origin|\n",
            "+--------------------+----+---------+------------+----------+------+------------+-----+------+\n",
            "|Chevrolet Chevell...|18.0|        8|       307.0|     130.0| 3504.|        12.0|   70|    US|\n",
            "|   Buick Skylark 320|15.0|        8|       350.0|     165.0| 3693.|        11.5|   70|    US|\n",
            "|  Plymouth Satellite|18.0|        8|       318.0|     150.0| 3436.|        11.0|   70|    US|\n",
            "|       AMC Rebel SST|16.0|        8|       304.0|     150.0| 3433.|        12.0|   70|    US|\n",
            "|         Ford Torino|17.0|        8|       302.0|     140.0| 3449.|        10.5|   70|    US|\n",
            "+--------------------+----+---------+------------+----------+------+------------+-----+------+\n",
            "only showing top 5 rows\n",
            "\n"
          ]
        }
      ]
    },
    {
      "cell_type": "markdown",
      "metadata": {
        "id": "6ce2181e"
      },
      "source": [
        "The above command loads our data from into a dataframe (DF). A dataframe is a 2-dimensional labeled data structure with columns of potentially different types."
      ],
      "id": "6ce2181e"
    },
    {
      "cell_type": "markdown",
      "metadata": {
        "id": "0e202fd5"
      },
      "source": [
        "#### Viewing the Dataframe"
      ],
      "id": "0e202fd5"
    },
    {
      "cell_type": "markdown",
      "metadata": {
        "id": "e9048120"
      },
      "source": [
        "There are a couple of ways to view your dataframe(DF) in PySpark:\n",
        "\n",
        "1. df.take(5) will return a list of five Row objects.\n",
        "2. df.collect() will get all of the data from the entire DataFrame. Be really careful when using it, because if you have a large data set, you can easily crash the driver node.\n",
        "3. df.show() is the most commonly used method to view a dataframe. There are a few parameters we can pass to this method, like the number of rows and truncaiton. For example, df.show(5, False) or df.show(5, truncate=False) will show the entire data wihtout any truncation.\n",
        "4. df.limit(5) will return a new DataFrame by taking the first n rows. As spark is distributed in nature, there is no guarantee  that df.limit() will give you the same results each time.\n",
        "Let us see some of them in action below:"
      ],
      "id": "e9048120"
    },
    {
      "cell_type": "markdown",
      "metadata": {
        "id": "b222109a"
      },
      "source": [
        "# "
      ],
      "id": "b222109a"
    },
    {
      "cell_type": "code",
      "metadata": {
        "id": "4428af5d",
        "outputId": "ed5099af-9e67-4798-e633-387e8f63fac4"
      },
      "source": [
        "df.show(5, truncate=False)"
      ],
      "id": "4428af5d",
      "execution_count": null,
      "outputs": [
        {
          "name": "stdout",
          "output_type": "stream",
          "text": [
            "+-------------------------+----+---------+------------+----------+------+------------+-----+------+\n",
            "|Car                      |MPG |Cylinders|Displacement|Horsepower|Weight|Acceleration|Model|Origin|\n",
            "+-------------------------+----+---------+------------+----------+------+------------+-----+------+\n",
            "|Chevrolet Chevelle Malibu|18.0|8        |307.0       |130.0     |3504. |12.0        |70   |US    |\n",
            "|Buick Skylark 320        |15.0|8        |350.0       |165.0     |3693. |11.5        |70   |US    |\n",
            "|Plymouth Satellite       |18.0|8        |318.0       |150.0     |3436. |11.0        |70   |US    |\n",
            "|AMC Rebel SST            |16.0|8        |304.0       |150.0     |3433. |12.0        |70   |US    |\n",
            "|Ford Torino              |17.0|8        |302.0       |140.0     |3449. |10.5        |70   |US    |\n",
            "+-------------------------+----+---------+------------+----------+------+------------+-----+------+\n",
            "only showing top 5 rows\n",
            "\n"
          ]
        }
      ]
    },
    {
      "cell_type": "code",
      "metadata": {
        "id": "8a428e03",
        "outputId": "48a08e42-aa51-46d9-fe55-a3e39797be1c"
      },
      "source": [
        "df.limit(5)"
      ],
      "id": "8a428e03",
      "execution_count": null,
      "outputs": [
        {
          "data": {
            "text/html": [
              "<table border='1'>\n",
              "<tr><th>Car</th><th>MPG</th><th>Cylinders</th><th>Displacement</th><th>Horsepower</th><th>Weight</th><th>Acceleration</th><th>Model</th><th>Origin</th></tr>\n",
              "<tr><td>Chevrolet Chevell...</td><td>18.0</td><td>8</td><td>307.0</td><td>130.0</td><td>3504.</td><td>12.0</td><td>70</td><td>US</td></tr>\n",
              "<tr><td>Buick Skylark 320</td><td>15.0</td><td>8</td><td>350.0</td><td>165.0</td><td>3693.</td><td>11.5</td><td>70</td><td>US</td></tr>\n",
              "<tr><td>Plymouth Satellite</td><td>18.0</td><td>8</td><td>318.0</td><td>150.0</td><td>3436.</td><td>11.0</td><td>70</td><td>US</td></tr>\n",
              "<tr><td>AMC Rebel SST</td><td>16.0</td><td>8</td><td>304.0</td><td>150.0</td><td>3433.</td><td>12.0</td><td>70</td><td>US</td></tr>\n",
              "<tr><td>Ford Torino</td><td>17.0</td><td>8</td><td>302.0</td><td>140.0</td><td>3449.</td><td>10.5</td><td>70</td><td>US</td></tr>\n",
              "</table>\n"
            ],
            "text/plain": [
              "+--------------------+----+---------+------------+----------+------+------------+-----+------+\n",
              "|                 Car| MPG|Cylinders|Displacement|Horsepower|Weight|Acceleration|Model|Origin|\n",
              "+--------------------+----+---------+------------+----------+------+------------+-----+------+\n",
              "|Chevrolet Chevell...|18.0|        8|       307.0|     130.0| 3504.|        12.0|   70|    US|\n",
              "|   Buick Skylark 320|15.0|        8|       350.0|     165.0| 3693.|        11.5|   70|    US|\n",
              "|  Plymouth Satellite|18.0|        8|       318.0|     150.0| 3436.|        11.0|   70|    US|\n",
              "|       AMC Rebel SST|16.0|        8|       304.0|     150.0| 3433.|        12.0|   70|    US|\n",
              "|         Ford Torino|17.0|        8|       302.0|     140.0| 3449.|        10.5|   70|    US|\n",
              "+--------------------+----+---------+------------+----------+------+------------+-----+------+"
            ]
          },
          "execution_count": 5,
          "metadata": {},
          "output_type": "execute_result"
        }
      ]
    },
    {
      "cell_type": "markdown",
      "metadata": {
        "id": "f068bdaa"
      },
      "source": [
        "#### Viewing Dataframe Columns"
      ],
      "id": "f068bdaa"
    },
    {
      "cell_type": "code",
      "metadata": {
        "id": "8002fc7f",
        "outputId": "c3e993ae-0653-40de-f63b-12e8d4361415"
      },
      "source": [
        "df.columns"
      ],
      "id": "8002fc7f",
      "execution_count": null,
      "outputs": [
        {
          "data": {
            "text/plain": [
              "['Car',\n",
              " 'MPG',\n",
              " 'Cylinders',\n",
              " 'Displacement',\n",
              " 'Horsepower',\n",
              " 'Weight',\n",
              " 'Acceleration',\n",
              " 'Model',\n",
              " 'Origin']"
            ]
          },
          "execution_count": 6,
          "metadata": {},
          "output_type": "execute_result"
        }
      ]
    },
    {
      "cell_type": "markdown",
      "metadata": {
        "id": "ea237e25"
      },
      "source": [
        "#### Dataframe Schema"
      ],
      "id": "ea237e25"
    },
    {
      "cell_type": "markdown",
      "metadata": {
        "id": "940a1db9"
      },
      "source": [
        "There are two methods commonly used to view the data types of a dataframe:"
      ],
      "id": "940a1db9"
    },
    {
      "cell_type": "code",
      "metadata": {
        "id": "b92fa9c0",
        "outputId": "af63de80-17bf-436e-cc2d-0b7ca2715896"
      },
      "source": [
        "df.dtypes"
      ],
      "id": "b92fa9c0",
      "execution_count": null,
      "outputs": [
        {
          "data": {
            "text/plain": [
              "[('Car', 'string'),\n",
              " ('MPG', 'string'),\n",
              " ('Cylinders', 'string'),\n",
              " ('Displacement', 'string'),\n",
              " ('Horsepower', 'string'),\n",
              " ('Weight', 'string'),\n",
              " ('Acceleration', 'string'),\n",
              " ('Model', 'string'),\n",
              " ('Origin', 'string')]"
            ]
          },
          "execution_count": 8,
          "metadata": {},
          "output_type": "execute_result"
        }
      ]
    },
    {
      "cell_type": "code",
      "metadata": {
        "id": "7e699802",
        "outputId": "40329587-4e9f-4e97-b012-08accc985b0d"
      },
      "source": [
        "df.printSchema()"
      ],
      "id": "7e699802",
      "execution_count": null,
      "outputs": [
        {
          "name": "stdout",
          "output_type": "stream",
          "text": [
            "root\n",
            " |-- Car: string (nullable = true)\n",
            " |-- MPG: string (nullable = true)\n",
            " |-- Cylinders: string (nullable = true)\n",
            " |-- Displacement: string (nullable = true)\n",
            " |-- Horsepower: string (nullable = true)\n",
            " |-- Weight: string (nullable = true)\n",
            " |-- Acceleration: string (nullable = true)\n",
            " |-- Model: string (nullable = true)\n",
            " |-- Origin: string (nullable = true)\n",
            "\n"
          ]
        }
      ]
    },
    {
      "cell_type": "markdown",
      "metadata": {
        "id": "0cb33a7c"
      },
      "source": [
        "#### Inferring Schema Implicitly"
      ],
      "id": "0cb33a7c"
    },
    {
      "cell_type": "markdown",
      "metadata": {
        "id": "015a1ab4"
      },
      "source": [
        "We can use the parameter inferschema=true to infer the input schema automatically while loading the data. An example is shown below:"
      ],
      "id": "015a1ab4"
    },
    {
      "cell_type": "code",
      "metadata": {
        "id": "67136b18",
        "outputId": "95e6f140-f740-47d6-9cf4-faa52186ecb6"
      },
      "source": [
        "df = spark.read.csv('cars.csv', header=True, sep=\";\", inferSchema=True)\n",
        "df.printSchema()"
      ],
      "id": "67136b18",
      "execution_count": null,
      "outputs": [
        {
          "name": "stdout",
          "output_type": "stream",
          "text": [
            "root\n",
            " |-- Car: string (nullable = true)\n",
            " |-- MPG: double (nullable = true)\n",
            " |-- Cylinders: integer (nullable = true)\n",
            " |-- Displacement: double (nullable = true)\n",
            " |-- Horsepower: double (nullable = true)\n",
            " |-- Weight: decimal(4,0) (nullable = true)\n",
            " |-- Acceleration: double (nullable = true)\n",
            " |-- Model: integer (nullable = true)\n",
            " |-- Origin: string (nullable = true)\n",
            "\n"
          ]
        }
      ]
    },
    {
      "cell_type": "markdown",
      "metadata": {
        "id": "69f500ac"
      },
      "source": [
        "As you can see, the datatype has been infered automatically spark with even the correct precison for decimal type. A problem that might arise here is that sometimes, when you have to read multiple files with different schemas in different files, there might be an issue with implicit inferring leading to null values in some columns. Therefore, let us also see how to define schemas explicitly."
      ],
      "id": "69f500ac"
    },
    {
      "cell_type": "markdown",
      "metadata": {
        "id": "f4e7095d"
      },
      "source": [
        "#### Defining Schema Explicitly"
      ],
      "id": "f4e7095d"
    },
    {
      "cell_type": "code",
      "metadata": {
        "id": "5c9aee35",
        "outputId": "666a44c9-2856-40d7-8685-8f001fe1eae0"
      },
      "source": [
        "from pyspark.sql.types import *\n",
        "df.columns"
      ],
      "id": "5c9aee35",
      "execution_count": null,
      "outputs": [
        {
          "data": {
            "text/plain": [
              "['Car',\n",
              " 'MPG',\n",
              " 'Cylinders',\n",
              " 'Displacement',\n",
              " 'Horsepower',\n",
              " 'Weight',\n",
              " 'Acceleration',\n",
              " 'Model',\n",
              " 'Origin']"
            ]
          },
          "execution_count": 11,
          "metadata": {},
          "output_type": "execute_result"
        }
      ]
    },
    {
      "cell_type": "code",
      "metadata": {
        "id": "93b0fda9"
      },
      "source": [
        "# Creating a list of the schema in the format column_name, data_type\n",
        "labels = [\n",
        "     ('Car',StringType()),\n",
        "     ('MPG',DoubleType()),\n",
        "     ('Cylinders',IntegerType()),\n",
        "     ('Displacement',DoubleType()),\n",
        "     ('Horsepower',DoubleType()),\n",
        "     ('Weight',DoubleType()),\n",
        "     ('Acceleration',DoubleType()),\n",
        "     ('Model',IntegerType()),\n",
        "     ('Origin',StringType())\n",
        "]"
      ],
      "id": "93b0fda9",
      "execution_count": null,
      "outputs": []
    },
    {
      "cell_type": "code",
      "metadata": {
        "id": "e02dabe4",
        "outputId": "fa547e57-84ae-40f5-95e1-928a15164725"
      },
      "source": [
        "# Creating the schema that will be passed when reading the csv\n",
        "schema = StructType([StructField (x[0], x[1], True) for x in labels])\n",
        "schema"
      ],
      "id": "e02dabe4",
      "execution_count": null,
      "outputs": [
        {
          "data": {
            "text/plain": [
              "StructType(List(StructField(Car,StringType,true),StructField(MPG,DoubleType,true),StructField(Cylinders,IntegerType,true),StructField(Displacement,DoubleType,true),StructField(Horsepower,DoubleType,true),StructField(Weight,DoubleType,true),StructField(Acceleration,DoubleType,true),StructField(Model,IntegerType,true),StructField(Origin,StringType,true)))"
            ]
          },
          "execution_count": 13,
          "metadata": {},
          "output_type": "execute_result"
        }
      ]
    },
    {
      "cell_type": "code",
      "metadata": {
        "id": "71eeafd7",
        "outputId": "e264c342-c5bb-4935-ac10-d995c1f05ae3"
      },
      "source": [
        "df = spark.read.csv('cars.csv', header=True, sep=\";\", schema=schema)\n",
        "df.printSchema()\n",
        "# The schema comes as we gave!"
      ],
      "id": "71eeafd7",
      "execution_count": null,
      "outputs": [
        {
          "name": "stdout",
          "output_type": "stream",
          "text": [
            "root\n",
            " |-- Car: string (nullable = true)\n",
            " |-- MPG: double (nullable = true)\n",
            " |-- Cylinders: integer (nullable = true)\n",
            " |-- Displacement: double (nullable = true)\n",
            " |-- Horsepower: double (nullable = true)\n",
            " |-- Weight: double (nullable = true)\n",
            " |-- Acceleration: double (nullable = true)\n",
            " |-- Model: integer (nullable = true)\n",
            " |-- Origin: string (nullable = true)\n",
            "\n"
          ]
        }
      ]
    },
    {
      "cell_type": "code",
      "metadata": {
        "id": "2c76a290",
        "outputId": "71bedc42-22a4-4d44-d1b3-ad4ab84d51d2"
      },
      "source": [
        "df.show(truncate=False)"
      ],
      "id": "2c76a290",
      "execution_count": null,
      "outputs": [
        {
          "name": "stdout",
          "output_type": "stream",
          "text": [
            "+--------------------------------+----+---------+------------+----------+------+------------+-----+------+\n",
            "|Car                             |MPG |Cylinders|Displacement|Horsepower|Weight|Acceleration|Model|Origin|\n",
            "+--------------------------------+----+---------+------------+----------+------+------------+-----+------+\n",
            "|Chevrolet Chevelle Malibu       |18.0|8        |307.0       |130.0     |3504.0|12.0        |70   |US    |\n",
            "|Buick Skylark 320               |15.0|8        |350.0       |165.0     |3693.0|11.5        |70   |US    |\n",
            "|Plymouth Satellite              |18.0|8        |318.0       |150.0     |3436.0|11.0        |70   |US    |\n",
            "|AMC Rebel SST                   |16.0|8        |304.0       |150.0     |3433.0|12.0        |70   |US    |\n",
            "|Ford Torino                     |17.0|8        |302.0       |140.0     |3449.0|10.5        |70   |US    |\n",
            "|Ford Galaxie 500                |15.0|8        |429.0       |198.0     |4341.0|10.0        |70   |US    |\n",
            "|Chevrolet Impala                |14.0|8        |454.0       |220.0     |4354.0|9.0         |70   |US    |\n",
            "|Plymouth Fury iii               |14.0|8        |440.0       |215.0     |4312.0|8.5         |70   |US    |\n",
            "|Pontiac Catalina                |14.0|8        |455.0       |225.0     |4425.0|10.0        |70   |US    |\n",
            "|AMC Ambassador DPL              |15.0|8        |390.0       |190.0     |3850.0|8.5         |70   |US    |\n",
            "|Citroen DS-21 Pallas            |0.0 |4        |133.0       |115.0     |3090.0|17.5        |70   |Europe|\n",
            "|Chevrolet Chevelle Concours (sw)|0.0 |8        |350.0       |165.0     |4142.0|11.5        |70   |US    |\n",
            "|Ford Torino (sw)                |0.0 |8        |351.0       |153.0     |4034.0|11.0        |70   |US    |\n",
            "|Plymouth Satellite (sw)         |0.0 |8        |383.0       |175.0     |4166.0|10.5        |70   |US    |\n",
            "|AMC Rebel SST (sw)              |0.0 |8        |360.0       |175.0     |3850.0|11.0        |70   |US    |\n",
            "|Dodge Challenger SE             |15.0|8        |383.0       |170.0     |3563.0|10.0        |70   |US    |\n",
            "|Plymouth 'Cuda 340              |14.0|8        |340.0       |160.0     |3609.0|8.0         |70   |US    |\n",
            "|Ford Mustang Boss 302           |0.0 |8        |302.0       |140.0     |3353.0|8.0         |70   |US    |\n",
            "|Chevrolet Monte Carlo           |15.0|8        |400.0       |150.0     |3761.0|9.5         |70   |US    |\n",
            "|Buick Estate Wagon (sw)         |14.0|8        |455.0       |225.0     |3086.0|10.0        |70   |US    |\n",
            "+--------------------------------+----+---------+------------+----------+------+------------+-----+------+\n",
            "only showing top 20 rows\n",
            "\n"
          ]
        }
      ]
    },
    {
      "cell_type": "markdown",
      "metadata": {
        "id": "4188950a"
      },
      "source": [
        "As we can see here, the data has been successully loaded with the specified datatypes."
      ],
      "id": "4188950a"
    },
    {
      "cell_type": "markdown",
      "metadata": {
        "id": "eb968454"
      },
      "source": [
        "## DataFrame Operations on Columns"
      ],
      "id": "eb968454"
    },
    {
      "cell_type": "markdown",
      "metadata": {
        "id": "0f25d401"
      },
      "source": [
        "We will go over the following in this section:\n",
        "\n",
        "1. Selecting Columns\n",
        "2. Selecting Multiple Columns\n",
        "3. Adding New Columns\n",
        "4. Renaming Columns\n",
        "5. Grouping By Columns\n",
        "6. Removing Columns"
      ],
      "id": "0f25d401"
    },
    {
      "cell_type": "markdown",
      "metadata": {
        "id": "7d308273"
      },
      "source": [
        "#### Selecting Columns"
      ],
      "id": "7d308273"
    },
    {
      "cell_type": "markdown",
      "metadata": {
        "id": "9f9995b7"
      },
      "source": [
        "There are multiple ways to do a select in PySpark. You can find how they differ and how each below:"
      ],
      "id": "9f9995b7"
    },
    {
      "cell_type": "code",
      "metadata": {
        "id": "d322c0c6",
        "outputId": "083beb69-8d6e-41f8-f33f-66ac8ee23a71"
      },
      "source": [
        "# 1st method\n",
        "# Column name is case sensitive in this usage\n",
        "print(df.Car)\n",
        "print(\"*\"*20)\n",
        "df.select(df.Car).show(truncate=False)"
      ],
      "id": "d322c0c6",
      "execution_count": null,
      "outputs": [
        {
          "name": "stdout",
          "output_type": "stream",
          "text": [
            "Column<b'Car'>\n",
            "********************\n",
            "+--------------------------------+\n",
            "|Car                             |\n",
            "+--------------------------------+\n",
            "|Chevrolet Chevelle Malibu       |\n",
            "|Buick Skylark 320               |\n",
            "|Plymouth Satellite              |\n",
            "|AMC Rebel SST                   |\n",
            "|Ford Torino                     |\n",
            "|Ford Galaxie 500                |\n",
            "|Chevrolet Impala                |\n",
            "|Plymouth Fury iii               |\n",
            "|Pontiac Catalina                |\n",
            "|AMC Ambassador DPL              |\n",
            "|Citroen DS-21 Pallas            |\n",
            "|Chevrolet Chevelle Concours (sw)|\n",
            "|Ford Torino (sw)                |\n",
            "|Plymouth Satellite (sw)         |\n",
            "|AMC Rebel SST (sw)              |\n",
            "|Dodge Challenger SE             |\n",
            "|Plymouth 'Cuda 340              |\n",
            "|Ford Mustang Boss 302           |\n",
            "|Chevrolet Monte Carlo           |\n",
            "|Buick Estate Wagon (sw)         |\n",
            "+--------------------------------+\n",
            "only showing top 20 rows\n",
            "\n"
          ]
        }
      ]
    },
    {
      "cell_type": "markdown",
      "metadata": {
        "id": "2d1ea365"
      },
      "source": [
        "#### NOTE:\n",
        "\n",
        "#### We can't always use the dot notation because this will break when the column names have reserved names or attributes to the data frame class. Additionally, the column names are case sensitive in nature so we need to always make sure the column names have been changed to a paticular case before using it."
      ],
      "id": "2d1ea365"
    },
    {
      "cell_type": "code",
      "metadata": {
        "id": "5b5dbb22",
        "outputId": "7d24c136-f5cd-4cc6-94bc-d4d8ad5e0d05"
      },
      "source": [
        "# 2nd method\n",
        "# Column name is case insensitive here\n",
        "print(df['car'])\n",
        "print(\"*\"*20)\n",
        "df.select(df['car']).show(truncate=False)"
      ],
      "id": "5b5dbb22",
      "execution_count": null,
      "outputs": [
        {
          "name": "stdout",
          "output_type": "stream",
          "text": [
            "Column<b'car'>\n",
            "********************\n",
            "+--------------------------------+\n",
            "|car                             |\n",
            "+--------------------------------+\n",
            "|Chevrolet Chevelle Malibu       |\n",
            "|Buick Skylark 320               |\n",
            "|Plymouth Satellite              |\n",
            "|AMC Rebel SST                   |\n",
            "|Ford Torino                     |\n",
            "|Ford Galaxie 500                |\n",
            "|Chevrolet Impala                |\n",
            "|Plymouth Fury iii               |\n",
            "|Pontiac Catalina                |\n",
            "|AMC Ambassador DPL              |\n",
            "|Citroen DS-21 Pallas            |\n",
            "|Chevrolet Chevelle Concours (sw)|\n",
            "|Ford Torino (sw)                |\n",
            "|Plymouth Satellite (sw)         |\n",
            "|AMC Rebel SST (sw)              |\n",
            "|Dodge Challenger SE             |\n",
            "|Plymouth 'Cuda 340              |\n",
            "|Ford Mustang Boss 302           |\n",
            "|Chevrolet Monte Carlo           |\n",
            "|Buick Estate Wagon (sw)         |\n",
            "+--------------------------------+\n",
            "only showing top 20 rows\n",
            "\n"
          ]
        }
      ]
    },
    {
      "cell_type": "code",
      "metadata": {
        "scrolled": true,
        "id": "8a050d7e",
        "outputId": "3188aded-5e1a-401b-ce74-f709ba8136fb"
      },
      "source": [
        "# 3rd method\n",
        "# Column name is case insensitive here\n",
        "from pyspark.sql.functions import col\n",
        "df.select(col('car')).show(truncate=False)"
      ],
      "id": "8a050d7e",
      "execution_count": null,
      "outputs": [
        {
          "name": "stdout",
          "output_type": "stream",
          "text": [
            "+--------------------------------+\n",
            "|car                             |\n",
            "+--------------------------------+\n",
            "|Chevrolet Chevelle Malibu       |\n",
            "|Buick Skylark 320               |\n",
            "|Plymouth Satellite              |\n",
            "|AMC Rebel SST                   |\n",
            "|Ford Torino                     |\n",
            "|Ford Galaxie 500                |\n",
            "|Chevrolet Impala                |\n",
            "|Plymouth Fury iii               |\n",
            "|Pontiac Catalina                |\n",
            "|AMC Ambassador DPL              |\n",
            "|Citroen DS-21 Pallas            |\n",
            "|Chevrolet Chevelle Concours (sw)|\n",
            "|Ford Torino (sw)                |\n",
            "|Plymouth Satellite (sw)         |\n",
            "|AMC Rebel SST (sw)              |\n",
            "|Dodge Challenger SE             |\n",
            "|Plymouth 'Cuda 340              |\n",
            "|Ford Mustang Boss 302           |\n",
            "|Chevrolet Monte Carlo           |\n",
            "|Buick Estate Wagon (sw)         |\n",
            "+--------------------------------+\n",
            "only showing top 20 rows\n",
            "\n"
          ]
        }
      ]
    },
    {
      "cell_type": "markdown",
      "metadata": {
        "id": "99e88bb2"
      },
      "source": [
        "#### Selecting Multiple Columns"
      ],
      "id": "99e88bb2"
    },
    {
      "cell_type": "code",
      "metadata": {
        "id": "7f3fe247",
        "outputId": "60af4257-8a62-4ad9-8551-975d4e60e022"
      },
      "source": [
        "# 1st method\n",
        "# Column name is case sensitive in this usage\n",
        "print(df.Car, df.Cylinders)\n",
        "print(\"*\"*40)\n",
        "df.select(df.Car, df.Cylinders).show(truncate=False)"
      ],
      "id": "7f3fe247",
      "execution_count": null,
      "outputs": [
        {
          "name": "stdout",
          "output_type": "stream",
          "text": [
            "Column<b'Car'> Column<b'Cylinders'>\n",
            "****************************************\n",
            "+--------------------------------+---------+\n",
            "|Car                             |Cylinders|\n",
            "+--------------------------------+---------+\n",
            "|Chevrolet Chevelle Malibu       |8        |\n",
            "|Buick Skylark 320               |8        |\n",
            "|Plymouth Satellite              |8        |\n",
            "|AMC Rebel SST                   |8        |\n",
            "|Ford Torino                     |8        |\n",
            "|Ford Galaxie 500                |8        |\n",
            "|Chevrolet Impala                |8        |\n",
            "|Plymouth Fury iii               |8        |\n",
            "|Pontiac Catalina                |8        |\n",
            "|AMC Ambassador DPL              |8        |\n",
            "|Citroen DS-21 Pallas            |4        |\n",
            "|Chevrolet Chevelle Concours (sw)|8        |\n",
            "|Ford Torino (sw)                |8        |\n",
            "|Plymouth Satellite (sw)         |8        |\n",
            "|AMC Rebel SST (sw)              |8        |\n",
            "|Dodge Challenger SE             |8        |\n",
            "|Plymouth 'Cuda 340              |8        |\n",
            "|Ford Mustang Boss 302           |8        |\n",
            "|Chevrolet Monte Carlo           |8        |\n",
            "|Buick Estate Wagon (sw)         |8        |\n",
            "+--------------------------------+---------+\n",
            "only showing top 20 rows\n",
            "\n"
          ]
        }
      ]
    },
    {
      "cell_type": "code",
      "metadata": {
        "id": "b9876030",
        "outputId": "13221d84-f6f1-4a28-f9b2-b82ec3fd0084"
      },
      "source": [
        "# 2nd method\n",
        "# Column name is case insensitive in this usage\n",
        "print(df['car'],df['cylinders'])\n",
        "print(\"*\"*40)\n",
        "df.select(df['car'],df['cylinders']).show(truncate=False)"
      ],
      "id": "b9876030",
      "execution_count": null,
      "outputs": [
        {
          "name": "stdout",
          "output_type": "stream",
          "text": [
            "Column<b'car'> Column<b'cylinders'>\n",
            "****************************************\n",
            "+--------------------------------+---------+\n",
            "|car                             |cylinders|\n",
            "+--------------------------------+---------+\n",
            "|Chevrolet Chevelle Malibu       |8        |\n",
            "|Buick Skylark 320               |8        |\n",
            "|Plymouth Satellite              |8        |\n",
            "|AMC Rebel SST                   |8        |\n",
            "|Ford Torino                     |8        |\n",
            "|Ford Galaxie 500                |8        |\n",
            "|Chevrolet Impala                |8        |\n",
            "|Plymouth Fury iii               |8        |\n",
            "|Pontiac Catalina                |8        |\n",
            "|AMC Ambassador DPL              |8        |\n",
            "|Citroen DS-21 Pallas            |4        |\n",
            "|Chevrolet Chevelle Concours (sw)|8        |\n",
            "|Ford Torino (sw)                |8        |\n",
            "|Plymouth Satellite (sw)         |8        |\n",
            "|AMC Rebel SST (sw)              |8        |\n",
            "|Dodge Challenger SE             |8        |\n",
            "|Plymouth 'Cuda 340              |8        |\n",
            "|Ford Mustang Boss 302           |8        |\n",
            "|Chevrolet Monte Carlo           |8        |\n",
            "|Buick Estate Wagon (sw)         |8        |\n",
            "+--------------------------------+---------+\n",
            "only showing top 20 rows\n",
            "\n"
          ]
        }
      ]
    },
    {
      "cell_type": "code",
      "metadata": {
        "id": "459a40b6",
        "outputId": "67c7b035-d713-44df-ca49-c634f4e1f748"
      },
      "source": [
        "# 3rd method\n",
        "# Column name is case insensitive in this usage\n",
        "from pyspark.sql.functions import col\n",
        "df.select(col('car'),col('cylinders')).show(truncate=False)"
      ],
      "id": "459a40b6",
      "execution_count": null,
      "outputs": [
        {
          "name": "stdout",
          "output_type": "stream",
          "text": [
            "+--------------------------------+---------+\n",
            "|car                             |cylinders|\n",
            "+--------------------------------+---------+\n",
            "|Chevrolet Chevelle Malibu       |8        |\n",
            "|Buick Skylark 320               |8        |\n",
            "|Plymouth Satellite              |8        |\n",
            "|AMC Rebel SST                   |8        |\n",
            "|Ford Torino                     |8        |\n",
            "|Ford Galaxie 500                |8        |\n",
            "|Chevrolet Impala                |8        |\n",
            "|Plymouth Fury iii               |8        |\n",
            "|Pontiac Catalina                |8        |\n",
            "|AMC Ambassador DPL              |8        |\n",
            "|Citroen DS-21 Pallas            |4        |\n",
            "|Chevrolet Chevelle Concours (sw)|8        |\n",
            "|Ford Torino (sw)                |8        |\n",
            "|Plymouth Satellite (sw)         |8        |\n",
            "|AMC Rebel SST (sw)              |8        |\n",
            "|Dodge Challenger SE             |8        |\n",
            "|Plymouth 'Cuda 340              |8        |\n",
            "|Ford Mustang Boss 302           |8        |\n",
            "|Chevrolet Monte Carlo           |8        |\n",
            "|Buick Estate Wagon (sw)         |8        |\n",
            "+--------------------------------+---------+\n",
            "only showing top 20 rows\n",
            "\n"
          ]
        }
      ]
    },
    {
      "cell_type": "markdown",
      "metadata": {
        "id": "01da4eda"
      },
      "source": [
        "### Adding New Columns"
      ],
      "id": "01da4eda"
    },
    {
      "cell_type": "markdown",
      "metadata": {
        "id": "b83b05b5"
      },
      "source": [
        "We will take a look at three cases here:\n",
        "\n",
        "1. Adding a new column\n",
        "2. Adding multiple columns\n",
        "3. Deriving a new column from an exisitng one"
      ],
      "id": "b83b05b5"
    },
    {
      "cell_type": "code",
      "metadata": {
        "id": "bca60bb3",
        "outputId": "bc440f49-1930-4de2-fc88-75d7aacba44b"
      },
      "source": [
        "# CASE 1: Adding a new column\n",
        "# We will add a new column called 'first_column' at the end\n",
        "from pyspark.sql.functions import lit\n",
        "df = df.withColumn('first_column',lit(1))\n",
        "# lit means literal. It populates the row with the literal value given.\n",
        "# When adding static data / constant values, it is a good practice to use it.\n",
        "df.show(5,truncate=False)"
      ],
      "id": "bca60bb3",
      "execution_count": null,
      "outputs": [
        {
          "name": "stdout",
          "output_type": "stream",
          "text": [
            "+-------------------------+----+---------+------------+----------+------+------------+-----+------+------------+\n",
            "|Car                      |MPG |Cylinders|Displacement|Horsepower|Weight|Acceleration|Model|Origin|first_column|\n",
            "+-------------------------+----+---------+------------+----------+------+------------+-----+------+------------+\n",
            "|Chevrolet Chevelle Malibu|18.0|8        |307.0       |130.0     |3504.0|12.0        |70   |US    |1           |\n",
            "|Buick Skylark 320        |15.0|8        |350.0       |165.0     |3693.0|11.5        |70   |US    |1           |\n",
            "|Plymouth Satellite       |18.0|8        |318.0       |150.0     |3436.0|11.0        |70   |US    |1           |\n",
            "|AMC Rebel SST            |16.0|8        |304.0       |150.0     |3433.0|12.0        |70   |US    |1           |\n",
            "|Ford Torino              |17.0|8        |302.0       |140.0     |3449.0|10.5        |70   |US    |1           |\n",
            "+-------------------------+----+---------+------------+----------+------+------------+-----+------+------------+\n",
            "only showing top 5 rows\n",
            "\n"
          ]
        }
      ]
    },
    {
      "cell_type": "code",
      "metadata": {
        "id": "e7e3ef99",
        "outputId": "997d27d3-182f-49cc-b12a-1f1dd42a932b"
      },
      "source": [
        "# CASE 2: Adding multiple columns\n",
        "# We will add two new columns called 'second_column' and 'third_column' at the end\n",
        "df = df.withColumn('second_column', lit(2)) \\\n",
        "       .withColumn('third_column', lit('Third Column'))\n",
        "# lit means literal. It populates the row with the literal value given.\n",
        "# When adding static data / constant values, it is a good practice to use it.\n",
        "df.show(5,truncate=False)"
      ],
      "id": "e7e3ef99",
      "execution_count": null,
      "outputs": [
        {
          "name": "stdout",
          "output_type": "stream",
          "text": [
            "+-------------------------+----+---------+------------+----------+------+------------+-----+------+------------+-------------+------------+\n",
            "|Car                      |MPG |Cylinders|Displacement|Horsepower|Weight|Acceleration|Model|Origin|first_column|second_column|third_column|\n",
            "+-------------------------+----+---------+------------+----------+------+------------+-----+------+------------+-------------+------------+\n",
            "|Chevrolet Chevelle Malibu|18.0|8        |307.0       |130.0     |3504.0|12.0        |70   |US    |1           |2            |Third Column|\n",
            "|Buick Skylark 320        |15.0|8        |350.0       |165.0     |3693.0|11.5        |70   |US    |1           |2            |Third Column|\n",
            "|Plymouth Satellite       |18.0|8        |318.0       |150.0     |3436.0|11.0        |70   |US    |1           |2            |Third Column|\n",
            "|AMC Rebel SST            |16.0|8        |304.0       |150.0     |3433.0|12.0        |70   |US    |1           |2            |Third Column|\n",
            "|Ford Torino              |17.0|8        |302.0       |140.0     |3449.0|10.5        |70   |US    |1           |2            |Third Column|\n",
            "+-------------------------+----+---------+------------+----------+------+------------+-----+------+------------+-------------+------------+\n",
            "only showing top 5 rows\n",
            "\n"
          ]
        }
      ]
    },
    {
      "cell_type": "code",
      "metadata": {
        "id": "71c228e7",
        "outputId": "0505ee81-f0c7-459b-d7a1-6ef19459032a"
      },
      "source": [
        "# CASE 3: Deriving a new column from an exisitng one\n",
        "# We will add a new column called 'car_model' which has the value of car and model appended together with a space in between \n",
        "from pyspark.sql.functions import concat\n",
        "df = df.withColumn('car_model', concat(col(\"Car\"), lit(\" \"), col(\"model\")))\n",
        "# lit means literal. It populates the row with the literal value given.\n",
        "# When adding static data / constant values, it is a good practice to use it.\n",
        "df.show(5,truncate=False)"
      ],
      "id": "71c228e7",
      "execution_count": null,
      "outputs": [
        {
          "name": "stdout",
          "output_type": "stream",
          "text": [
            "+-------------------------+----+---------+------------+----------+------+------------+-----+------+------------+-------------+------------+----------------------------+\n",
            "|Car                      |MPG |Cylinders|Displacement|Horsepower|Weight|Acceleration|Model|Origin|first_column|second_column|third_column|car_model                   |\n",
            "+-------------------------+----+---------+------------+----------+------+------------+-----+------+------------+-------------+------------+----------------------------+\n",
            "|Chevrolet Chevelle Malibu|18.0|8        |307.0       |130.0     |3504.0|12.0        |70   |US    |1           |2            |Third Column|Chevrolet Chevelle Malibu 70|\n",
            "|Buick Skylark 320        |15.0|8        |350.0       |165.0     |3693.0|11.5        |70   |US    |1           |2            |Third Column|Buick Skylark 320 70        |\n",
            "|Plymouth Satellite       |18.0|8        |318.0       |150.0     |3436.0|11.0        |70   |US    |1           |2            |Third Column|Plymouth Satellite 70       |\n",
            "|AMC Rebel SST            |16.0|8        |304.0       |150.0     |3433.0|12.0        |70   |US    |1           |2            |Third Column|AMC Rebel SST 70            |\n",
            "|Ford Torino              |17.0|8        |302.0       |140.0     |3449.0|10.5        |70   |US    |1           |2            |Third Column|Ford Torino 70              |\n",
            "+-------------------------+----+---------+------------+----------+------+------------+-----+------+------------+-------------+------------+----------------------------+\n",
            "only showing top 5 rows\n",
            "\n"
          ]
        }
      ]
    },
    {
      "cell_type": "markdown",
      "metadata": {
        "id": "f0338fd2"
      },
      "source": [
        "As we can see, the new column car model has been created from existing columns. Since our aim was to create a column which has the value of car and model appended together with a space in between we have used the concat operator."
      ],
      "id": "f0338fd2"
    },
    {
      "cell_type": "markdown",
      "metadata": {
        "id": "974cca63"
      },
      "source": [
        "### Renaming Columns"
      ],
      "id": "974cca63"
    },
    {
      "cell_type": "markdown",
      "metadata": {
        "id": "370e09eb"
      },
      "source": [
        "We use the withColumnRenamed function to rename a columm in PySpark. Let us see it in action below:"
      ],
      "id": "370e09eb"
    },
    {
      "cell_type": "code",
      "metadata": {
        "id": "85fa44e3",
        "outputId": "489895ec-c46f-4a95-91f8-d4d12945db2b"
      },
      "source": [
        "#Renaming a column in PySpark\n",
        "df = df.withColumnRenamed('first_column', 'new_column_one') \\\n",
        "       .withColumnRenamed('second_column', 'new_column_two') \\\n",
        "       .withColumnRenamed('third_column', 'new_column_three')\n",
        "df.show(truncate=False)"
      ],
      "id": "85fa44e3",
      "execution_count": null,
      "outputs": [
        {
          "name": "stdout",
          "output_type": "stream",
          "text": [
            "+--------------------------------+----+---------+------------+----------+------+------------+-----+------+--------------+--------------+----------------+-----------------------------------+\n",
            "|Car                             |MPG |Cylinders|Displacement|Horsepower|Weight|Acceleration|Model|Origin|new_column_one|new_column_two|new_column_three|car_model                          |\n",
            "+--------------------------------+----+---------+------------+----------+------+------------+-----+------+--------------+--------------+----------------+-----------------------------------+\n",
            "|Chevrolet Chevelle Malibu       |18.0|8        |307.0       |130.0     |3504.0|12.0        |70   |US    |1             |2             |Third Column    |Chevrolet Chevelle Malibu 70       |\n",
            "|Buick Skylark 320               |15.0|8        |350.0       |165.0     |3693.0|11.5        |70   |US    |1             |2             |Third Column    |Buick Skylark 320 70               |\n",
            "|Plymouth Satellite              |18.0|8        |318.0       |150.0     |3436.0|11.0        |70   |US    |1             |2             |Third Column    |Plymouth Satellite 70              |\n",
            "|AMC Rebel SST                   |16.0|8        |304.0       |150.0     |3433.0|12.0        |70   |US    |1             |2             |Third Column    |AMC Rebel SST 70                   |\n",
            "|Ford Torino                     |17.0|8        |302.0       |140.0     |3449.0|10.5        |70   |US    |1             |2             |Third Column    |Ford Torino 70                     |\n",
            "|Ford Galaxie 500                |15.0|8        |429.0       |198.0     |4341.0|10.0        |70   |US    |1             |2             |Third Column    |Ford Galaxie 500 70                |\n",
            "|Chevrolet Impala                |14.0|8        |454.0       |220.0     |4354.0|9.0         |70   |US    |1             |2             |Third Column    |Chevrolet Impala 70                |\n",
            "|Plymouth Fury iii               |14.0|8        |440.0       |215.0     |4312.0|8.5         |70   |US    |1             |2             |Third Column    |Plymouth Fury iii 70               |\n",
            "|Pontiac Catalina                |14.0|8        |455.0       |225.0     |4425.0|10.0        |70   |US    |1             |2             |Third Column    |Pontiac Catalina 70                |\n",
            "|AMC Ambassador DPL              |15.0|8        |390.0       |190.0     |3850.0|8.5         |70   |US    |1             |2             |Third Column    |AMC Ambassador DPL 70              |\n",
            "|Citroen DS-21 Pallas            |0.0 |4        |133.0       |115.0     |3090.0|17.5        |70   |Europe|1             |2             |Third Column    |Citroen DS-21 Pallas 70            |\n",
            "|Chevrolet Chevelle Concours (sw)|0.0 |8        |350.0       |165.0     |4142.0|11.5        |70   |US    |1             |2             |Third Column    |Chevrolet Chevelle Concours (sw) 70|\n",
            "|Ford Torino (sw)                |0.0 |8        |351.0       |153.0     |4034.0|11.0        |70   |US    |1             |2             |Third Column    |Ford Torino (sw) 70                |\n",
            "|Plymouth Satellite (sw)         |0.0 |8        |383.0       |175.0     |4166.0|10.5        |70   |US    |1             |2             |Third Column    |Plymouth Satellite (sw) 70         |\n",
            "|AMC Rebel SST (sw)              |0.0 |8        |360.0       |175.0     |3850.0|11.0        |70   |US    |1             |2             |Third Column    |AMC Rebel SST (sw) 70              |\n",
            "|Dodge Challenger SE             |15.0|8        |383.0       |170.0     |3563.0|10.0        |70   |US    |1             |2             |Third Column    |Dodge Challenger SE 70             |\n",
            "|Plymouth 'Cuda 340              |14.0|8        |340.0       |160.0     |3609.0|8.0         |70   |US    |1             |2             |Third Column    |Plymouth 'Cuda 340 70              |\n",
            "|Ford Mustang Boss 302           |0.0 |8        |302.0       |140.0     |3353.0|8.0         |70   |US    |1             |2             |Third Column    |Ford Mustang Boss 302 70           |\n",
            "|Chevrolet Monte Carlo           |15.0|8        |400.0       |150.0     |3761.0|9.5         |70   |US    |1             |2             |Third Column    |Chevrolet Monte Carlo 70           |\n",
            "|Buick Estate Wagon (sw)         |14.0|8        |455.0       |225.0     |3086.0|10.0        |70   |US    |1             |2             |Third Column    |Buick Estate Wagon (sw) 70         |\n",
            "+--------------------------------+----+---------+------------+----------+------+------------+-----+------+--------------+--------------+----------------+-----------------------------------+\n",
            "only showing top 20 rows\n",
            "\n"
          ]
        }
      ]
    },
    {
      "cell_type": "markdown",
      "metadata": {
        "id": "51edc359"
      },
      "source": [
        "### Grouping By Columns"
      ],
      "id": "51edc359"
    },
    {
      "cell_type": "markdown",
      "metadata": {
        "id": "4569c77a"
      },
      "source": [
        "  Here, we see the Dataframe API way of grouping values. We will discuss how to:\n",
        "  \n",
        "    1. Group By a single column\n",
        "    2. Group By multiple columns"
      ],
      "id": "4569c77a"
    },
    {
      "cell_type": "code",
      "metadata": {
        "id": "06226dbf",
        "outputId": "8bec8f36-8970-49da-b9c1-161ca3149733"
      },
      "source": [
        "# Group By a column in PySpark\n",
        "df.groupBy('Origin').count().show(5)"
      ],
      "id": "06226dbf",
      "execution_count": null,
      "outputs": [
        {
          "name": "stdout",
          "output_type": "stream",
          "text": [
            "+------+-----+\n",
            "|Origin|count|\n",
            "+------+-----+\n",
            "|Europe|   73|\n",
            "|    US|  254|\n",
            "| Japan|   79|\n",
            "+------+-----+\n",
            "\n"
          ]
        }
      ]
    },
    {
      "cell_type": "code",
      "metadata": {
        "id": "ba2703f2",
        "outputId": "7fa6ef06-ec8b-4e79-f29a-c9d287bf62b7"
      },
      "source": [
        "# Group By multiple columns in PySpark\n",
        "df.groupBy('Origin', 'Model').count().show(5)"
      ],
      "id": "ba2703f2",
      "execution_count": null,
      "outputs": [
        {
          "name": "stdout",
          "output_type": "stream",
          "text": [
            "+------+-----+-----+\n",
            "|Origin|Model|count|\n",
            "+------+-----+-----+\n",
            "|Europe|   71|    5|\n",
            "|Europe|   80|    9|\n",
            "|Europe|   79|    4|\n",
            "| Japan|   75|    4|\n",
            "|    US|   72|   18|\n",
            "+------+-----+-----+\n",
            "only showing top 5 rows\n",
            "\n"
          ]
        }
      ]
    },
    {
      "cell_type": "markdown",
      "metadata": {
        "id": "f34ee3c0"
      },
      "source": [
        "### Removing Columns"
      ],
      "id": "f34ee3c0"
    },
    {
      "cell_type": "code",
      "metadata": {
        "id": "644d7380",
        "outputId": "6b71343a-bae0-4453-d605-10ddd786faea"
      },
      "source": [
        "#Remove columns in PySpark\n",
        "df = df.drop('new_column_one')\n",
        "df.show(5,truncate=False)"
      ],
      "id": "644d7380",
      "execution_count": null,
      "outputs": [
        {
          "name": "stdout",
          "output_type": "stream",
          "text": [
            "+-------------------------+----+---------+------------+----------+------+------------+-----+------+--------------+----------------+----------------------------+\n",
            "|Car                      |MPG |Cylinders|Displacement|Horsepower|Weight|Acceleration|Model|Origin|new_column_two|new_column_three|car_model                   |\n",
            "+-------------------------+----+---------+------------+----------+------+------------+-----+------+--------------+----------------+----------------------------+\n",
            "|Chevrolet Chevelle Malibu|18.0|8        |307.0       |130.0     |3504.0|12.0        |70   |US    |2             |Third Column    |Chevrolet Chevelle Malibu 70|\n",
            "|Buick Skylark 320        |15.0|8        |350.0       |165.0     |3693.0|11.5        |70   |US    |2             |Third Column    |Buick Skylark 320 70        |\n",
            "|Plymouth Satellite       |18.0|8        |318.0       |150.0     |3436.0|11.0        |70   |US    |2             |Third Column    |Plymouth Satellite 70       |\n",
            "|AMC Rebel SST            |16.0|8        |304.0       |150.0     |3433.0|12.0        |70   |US    |2             |Third Column    |AMC Rebel SST 70            |\n",
            "|Ford Torino              |17.0|8        |302.0       |140.0     |3449.0|10.5        |70   |US    |2             |Third Column    |Ford Torino 70              |\n",
            "+-------------------------+----+---------+------------+----------+------+------------+-----+------+--------------+----------------+----------------------------+\n",
            "only showing top 5 rows\n",
            "\n"
          ]
        }
      ]
    },
    {
      "cell_type": "code",
      "metadata": {
        "id": "d9cd726a",
        "outputId": "44af46ac-56bd-4f63-9a76-7422e70a7731"
      },
      "source": [
        "#Remove multiple columnss in one go\n",
        "df = df.drop('new_column_two') \\\n",
        "       .drop('new_column_three')\n",
        "df.show(5,truncate=False)"
      ],
      "id": "d9cd726a",
      "execution_count": null,
      "outputs": [
        {
          "name": "stdout",
          "output_type": "stream",
          "text": [
            "+-------------------------+----+---------+------------+----------+------+------------+-----+------+----------------------------+\n",
            "|Car                      |MPG |Cylinders|Displacement|Horsepower|Weight|Acceleration|Model|Origin|car_model                   |\n",
            "+-------------------------+----+---------+------------+----------+------+------------+-----+------+----------------------------+\n",
            "|Chevrolet Chevelle Malibu|18.0|8        |307.0       |130.0     |3504.0|12.0        |70   |US    |Chevrolet Chevelle Malibu 70|\n",
            "|Buick Skylark 320        |15.0|8        |350.0       |165.0     |3693.0|11.5        |70   |US    |Buick Skylark 320 70        |\n",
            "|Plymouth Satellite       |18.0|8        |318.0       |150.0     |3436.0|11.0        |70   |US    |Plymouth Satellite 70       |\n",
            "|AMC Rebel SST            |16.0|8        |304.0       |150.0     |3433.0|12.0        |70   |US    |AMC Rebel SST 70            |\n",
            "|Ford Torino              |17.0|8        |302.0       |140.0     |3449.0|10.5        |70   |US    |Ford Torino 70              |\n",
            "+-------------------------+----+---------+------------+----------+------+------------+-----+------+----------------------------+\n",
            "only showing top 5 rows\n",
            "\n"
          ]
        }
      ]
    },
    {
      "cell_type": "markdown",
      "metadata": {
        "id": "aee0032d"
      },
      "source": [
        "### DataFrame Operations on Rows"
      ],
      "id": "aee0032d"
    },
    {
      "cell_type": "markdown",
      "metadata": {
        "id": "1f7dc910"
      },
      "source": [
        "We will discuss the follwoing in this section:\n",
        "\n",
        "1. Filtering Rows\n",
        "2. Get Distinct Rows\n",
        "3. Sorting Rows\n",
        "4. Union Dataframes"
      ],
      "id": "1f7dc910"
    },
    {
      "cell_type": "markdown",
      "metadata": {
        "id": "b66b37a1"
      },
      "source": [
        "#### Filtering Rows"
      ],
      "id": "b66b37a1"
    },
    {
      "cell_type": "code",
      "metadata": {
        "id": "3709efde",
        "outputId": "1f6d7cc6-28b3-4825-f8a9-cee313d6ea0e"
      },
      "source": [
        "# Filtering rows in PySpark\n",
        "total_count = df.count()\n",
        "print(\"TOTAL RECORD COUNT: \" + str(total_count))\n",
        "europe_filtered_count = df.filter(col('Origin')=='Europe').count()\n",
        "print(\"EUROPE FILTERED RECORD COUNT: \" + str(europe_filtered_count))\n",
        "df.filter(col('Origin')=='Europe').show(truncate=False)"
      ],
      "id": "3709efde",
      "execution_count": null,
      "outputs": [
        {
          "name": "stdout",
          "output_type": "stream",
          "text": [
            "TOTAL RECORD COUNT: 406\n",
            "EUROPE FILTERED RECORD COUNT: 73\n",
            "+----------------------------+----+---------+------------+----------+------+------------+-----+------+-------------------------------+\n",
            "|Car                         |MPG |Cylinders|Displacement|Horsepower|Weight|Acceleration|Model|Origin|car_model                      |\n",
            "+----------------------------+----+---------+------------+----------+------+------------+-----+------+-------------------------------+\n",
            "|Citroen DS-21 Pallas        |0.0 |4        |133.0       |115.0     |3090.0|17.5        |70   |Europe|Citroen DS-21 Pallas 70        |\n",
            "|Volkswagen 1131 Deluxe Sedan|26.0|4        |97.0        |46.0      |1835.0|20.5        |70   |Europe|Volkswagen 1131 Deluxe Sedan 70|\n",
            "|Peugeot 504                 |25.0|4        |110.0       |87.0      |2672.0|17.5        |70   |Europe|Peugeot 504 70                 |\n",
            "|Audi 100 LS                 |24.0|4        |107.0       |90.0      |2430.0|14.5        |70   |Europe|Audi 100 LS 70                 |\n",
            "|Saab 99e                    |25.0|4        |104.0       |95.0      |2375.0|17.5        |70   |Europe|Saab 99e 70                    |\n",
            "|BMW 2002                    |26.0|4        |121.0       |113.0     |2234.0|12.5        |70   |Europe|BMW 2002 70                    |\n",
            "|Volkswagen Super Beetle 117 |0.0 |4        |97.0        |48.0      |1978.0|20.0        |71   |Europe|Volkswagen Super Beetle 117 71 |\n",
            "|Opel 1900                   |28.0|4        |116.0       |90.0      |2123.0|14.0        |71   |Europe|Opel 1900 71                   |\n",
            "|Peugeot 304                 |30.0|4        |79.0        |70.0      |2074.0|19.5        |71   |Europe|Peugeot 304 71                 |\n",
            "|Fiat 124B                   |30.0|4        |88.0        |76.0      |2065.0|14.5        |71   |Europe|Fiat 124B 71                   |\n",
            "|Volkswagen Model 111        |27.0|4        |97.0        |60.0      |1834.0|19.0        |71   |Europe|Volkswagen Model 111 71        |\n",
            "|Volkswagen Type 3           |23.0|4        |97.0        |54.0      |2254.0|23.5        |72   |Europe|Volkswagen Type 3 72           |\n",
            "|Volvo 145e (sw)             |18.0|4        |121.0       |112.0     |2933.0|14.5        |72   |Europe|Volvo 145e (sw) 72             |\n",
            "|Volkswagen 411 (sw)         |22.0|4        |121.0       |76.0      |2511.0|18.0        |72   |Europe|Volkswagen 411 (sw) 72         |\n",
            "|Peugeot 504 (sw)            |21.0|4        |120.0       |87.0      |2979.0|19.5        |72   |Europe|Peugeot 504 (sw) 72            |\n",
            "|Renault 12 (sw)             |26.0|4        |96.0        |69.0      |2189.0|18.0        |72   |Europe|Renault 12 (sw) 72             |\n",
            "|Volkswagen Super Beetle     |26.0|4        |97.0        |46.0      |1950.0|21.0        |73   |Europe|Volkswagen Super Beetle 73     |\n",
            "|Fiat 124 Sport Coupe        |26.0|4        |98.0        |90.0      |2265.0|15.5        |73   |Europe|Fiat 124 Sport Coupe 73        |\n",
            "|Fiat 128                    |29.0|4        |68.0        |49.0      |1867.0|19.5        |73   |Europe|Fiat 128 73                    |\n",
            "|Opel Manta                  |24.0|4        |116.0       |75.0      |2158.0|15.5        |73   |Europe|Opel Manta 73                  |\n",
            "+----------------------------+----+---------+------------+----------+------+------------+-----+------+-------------------------------+\n",
            "only showing top 20 rows\n",
            "\n"
          ]
        }
      ]
    },
    {
      "cell_type": "code",
      "metadata": {
        "id": "dba6569e",
        "outputId": "95bd338c-85d0-4991-f555-382c8f6ae8d8"
      },
      "source": [
        "# Filtering rows in PySpark based on Multiple conditions\n",
        "total_count = df.count()\n",
        "print(\"TOTAL RECORD COUNT: \" + str(total_count))\n",
        "europe_filtered_count = df.filter((col('Origin')=='Europe') &\n",
        "                                  (col('Cylinders')==4)).count() # Two conditions added here\n",
        "print(\"EUROPE FILTERED RECORD COUNT: \" + str(europe_filtered_count))\n",
        "df.filter(col('Origin')=='Europe').show(truncate=False)"
      ],
      "id": "dba6569e",
      "execution_count": null,
      "outputs": [
        {
          "name": "stdout",
          "output_type": "stream",
          "text": [
            "TOTAL RECORD COUNT: 406\n",
            "EUROPE FILTERED RECORD COUNT: 66\n",
            "+----------------------------+----+---------+------------+----------+------+------------+-----+------+-------------------------------+\n",
            "|Car                         |MPG |Cylinders|Displacement|Horsepower|Weight|Acceleration|Model|Origin|car_model                      |\n",
            "+----------------------------+----+---------+------------+----------+------+------------+-----+------+-------------------------------+\n",
            "|Citroen DS-21 Pallas        |0.0 |4        |133.0       |115.0     |3090.0|17.5        |70   |Europe|Citroen DS-21 Pallas 70        |\n",
            "|Volkswagen 1131 Deluxe Sedan|26.0|4        |97.0        |46.0      |1835.0|20.5        |70   |Europe|Volkswagen 1131 Deluxe Sedan 70|\n",
            "|Peugeot 504                 |25.0|4        |110.0       |87.0      |2672.0|17.5        |70   |Europe|Peugeot 504 70                 |\n",
            "|Audi 100 LS                 |24.0|4        |107.0       |90.0      |2430.0|14.5        |70   |Europe|Audi 100 LS 70                 |\n",
            "|Saab 99e                    |25.0|4        |104.0       |95.0      |2375.0|17.5        |70   |Europe|Saab 99e 70                    |\n",
            "|BMW 2002                    |26.0|4        |121.0       |113.0     |2234.0|12.5        |70   |Europe|BMW 2002 70                    |\n",
            "|Volkswagen Super Beetle 117 |0.0 |4        |97.0        |48.0      |1978.0|20.0        |71   |Europe|Volkswagen Super Beetle 117 71 |\n",
            "|Opel 1900                   |28.0|4        |116.0       |90.0      |2123.0|14.0        |71   |Europe|Opel 1900 71                   |\n",
            "|Peugeot 304                 |30.0|4        |79.0        |70.0      |2074.0|19.5        |71   |Europe|Peugeot 304 71                 |\n",
            "|Fiat 124B                   |30.0|4        |88.0        |76.0      |2065.0|14.5        |71   |Europe|Fiat 124B 71                   |\n",
            "|Volkswagen Model 111        |27.0|4        |97.0        |60.0      |1834.0|19.0        |71   |Europe|Volkswagen Model 111 71        |\n",
            "|Volkswagen Type 3           |23.0|4        |97.0        |54.0      |2254.0|23.5        |72   |Europe|Volkswagen Type 3 72           |\n",
            "|Volvo 145e (sw)             |18.0|4        |121.0       |112.0     |2933.0|14.5        |72   |Europe|Volvo 145e (sw) 72             |\n",
            "|Volkswagen 411 (sw)         |22.0|4        |121.0       |76.0      |2511.0|18.0        |72   |Europe|Volkswagen 411 (sw) 72         |\n",
            "|Peugeot 504 (sw)            |21.0|4        |120.0       |87.0      |2979.0|19.5        |72   |Europe|Peugeot 504 (sw) 72            |\n",
            "|Renault 12 (sw)             |26.0|4        |96.0        |69.0      |2189.0|18.0        |72   |Europe|Renault 12 (sw) 72             |\n",
            "|Volkswagen Super Beetle     |26.0|4        |97.0        |46.0      |1950.0|21.0        |73   |Europe|Volkswagen Super Beetle 73     |\n",
            "|Fiat 124 Sport Coupe        |26.0|4        |98.0        |90.0      |2265.0|15.5        |73   |Europe|Fiat 124 Sport Coupe 73        |\n",
            "|Fiat 128                    |29.0|4        |68.0        |49.0      |1867.0|19.5        |73   |Europe|Fiat 128 73                    |\n",
            "|Opel Manta                  |24.0|4        |116.0       |75.0      |2158.0|15.5        |73   |Europe|Opel Manta 73                  |\n",
            "+----------------------------+----+---------+------------+----------+------+------------+-----+------+-------------------------------+\n",
            "only showing top 20 rows\n",
            "\n"
          ]
        }
      ]
    },
    {
      "cell_type": "markdown",
      "metadata": {
        "id": "4a0d9381"
      },
      "source": [
        "#### Get Distinct Rows"
      ],
      "id": "4a0d9381"
    },
    {
      "cell_type": "code",
      "metadata": {
        "id": "6a10289e",
        "outputId": "9f127417-d17b-43ef-dd42-af12c9dd4af2"
      },
      "source": [
        "#Get Unique Rows in PySpark\n",
        "df.select('Origin').distinct().show()"
      ],
      "id": "6a10289e",
      "execution_count": null,
      "outputs": [
        {
          "name": "stdout",
          "output_type": "stream",
          "text": [
            "+------+\n",
            "|Origin|\n",
            "+------+\n",
            "|Europe|\n",
            "|    US|\n",
            "| Japan|\n",
            "+------+\n",
            "\n"
          ]
        }
      ]
    },
    {
      "cell_type": "code",
      "metadata": {
        "id": "3ed4e008",
        "outputId": "301f2a06-f4b3-4a35-ce5f-9655bf132528"
      },
      "source": [
        "#Get Unique Rows in PySpark based on mutliple columns\n",
        "df.select('Origin','model').distinct().show()"
      ],
      "id": "3ed4e008",
      "execution_count": null,
      "outputs": [
        {
          "name": "stdout",
          "output_type": "stream",
          "text": [
            "+------+-----+\n",
            "|Origin|model|\n",
            "+------+-----+\n",
            "|Europe|   71|\n",
            "|Europe|   80|\n",
            "|Europe|   79|\n",
            "| Japan|   75|\n",
            "|    US|   72|\n",
            "|    US|   80|\n",
            "|Europe|   74|\n",
            "| Japan|   79|\n",
            "|Europe|   76|\n",
            "|    US|   75|\n",
            "| Japan|   77|\n",
            "|    US|   82|\n",
            "| Japan|   80|\n",
            "| Japan|   78|\n",
            "|    US|   78|\n",
            "|Europe|   75|\n",
            "|    US|   71|\n",
            "|    US|   77|\n",
            "| Japan|   70|\n",
            "| Japan|   71|\n",
            "+------+-----+\n",
            "only showing top 20 rows\n",
            "\n"
          ]
        }
      ]
    },
    {
      "cell_type": "markdown",
      "metadata": {
        "id": "f1d82071"
      },
      "source": [
        "### Sorting Rows"
      ],
      "id": "f1d82071"
    },
    {
      "cell_type": "code",
      "metadata": {
        "id": "7aa9c1c5",
        "outputId": "2dfbbc1f-7acc-4fd1-a4e1-e42574c36cdd"
      },
      "source": [
        "# Sort Rows in PySpark\n",
        "# By default the data will be sorted in ascending order\n",
        "df.orderBy('Cylinders').show(truncate=False)"
      ],
      "id": "7aa9c1c5",
      "execution_count": null,
      "outputs": [
        {
          "name": "stdout",
          "output_type": "stream",
          "text": [
            "+----------------------------+----+---------+------------+----------+------+------------+-----+------+-------------------------------+\n",
            "|Car                         |MPG |Cylinders|Displacement|Horsepower|Weight|Acceleration|Model|Origin|car_model                      |\n",
            "+----------------------------+----+---------+------------+----------+------+------------+-----+------+-------------------------------+\n",
            "|Mazda RX-4                  |21.5|3        |80.0        |110.0     |2720.0|13.5        |77   |Japan |Mazda RX-4 77                  |\n",
            "|Mazda RX-7 GS               |23.7|3        |70.0        |100.0     |2420.0|12.5        |80   |Japan |Mazda RX-7 GS 80               |\n",
            "|Mazda RX2 Coupe             |19.0|3        |70.0        |97.0      |2330.0|13.5        |72   |Japan |Mazda RX2 Coupe 72             |\n",
            "|Mazda RX3                   |18.0|3        |70.0        |90.0      |2124.0|13.5        |73   |Japan |Mazda RX3 73                   |\n",
            "|Datsun 510 (sw)             |28.0|4        |97.0        |92.0      |2288.0|17.0        |72   |Japan |Datsun 510 (sw) 72             |\n",
            "|Opel 1900                   |28.0|4        |116.0       |90.0      |2123.0|14.0        |71   |Europe|Opel 1900 71                   |\n",
            "|Mercury Capri 2000          |23.0|4        |122.0       |86.0      |2220.0|14.0        |71   |US    |Mercury Capri 2000 71          |\n",
            "|Volkswagen 1131 Deluxe Sedan|26.0|4        |97.0        |46.0      |1835.0|20.5        |70   |Europe|Volkswagen 1131 Deluxe Sedan 70|\n",
            "|Peugeot 304                 |30.0|4        |79.0        |70.0      |2074.0|19.5        |71   |Europe|Peugeot 304 71                 |\n",
            "|Fiat 124B                   |30.0|4        |88.0        |76.0      |2065.0|14.5        |71   |Europe|Fiat 124B 71                   |\n",
            "|Chevrolet Vega (sw)         |22.0|4        |140.0       |72.0      |2408.0|19.0        |71   |US    |Chevrolet Vega (sw) 71         |\n",
            "|Datsun 1200                 |35.0|4        |72.0        |69.0      |1613.0|18.0        |71   |Japan |Datsun 1200 71                 |\n",
            "|Volkswagen Model 111        |27.0|4        |97.0        |60.0      |1834.0|19.0        |71   |Europe|Volkswagen Model 111 71        |\n",
            "|Volkswagen Type 3           |23.0|4        |97.0        |54.0      |2254.0|23.5        |72   |Europe|Volkswagen Type 3 72           |\n",
            "|Audi 100 LS                 |24.0|4        |107.0       |90.0      |2430.0|14.5        |70   |Europe|Audi 100 LS 70                 |\n",
            "|BMW 2002                    |26.0|4        |121.0       |113.0     |2234.0|12.5        |70   |Europe|BMW 2002 70                    |\n",
            "|Toyota Corolla 1200         |31.0|4        |71.0        |65.0      |1773.0|19.0        |71   |Japan |Toyota Corolla 1200 71         |\n",
            "|Chevrolet Vega 2300         |28.0|4        |140.0       |90.0      |2264.0|15.5        |71   |US    |Chevrolet Vega 2300 71         |\n",
            "|Ford Pinto                  |25.0|4        |98.0        |0.0       |2046.0|19.0        |71   |US    |Ford Pinto 71                  |\n",
            "|Dodge Colt Hardtop          |25.0|4        |97.5        |80.0      |2126.0|17.0        |72   |US    |Dodge Colt Hardtop 72          |\n",
            "+----------------------------+----+---------+------------+----------+------+------------+-----+------+-------------------------------+\n",
            "only showing top 20 rows\n",
            "\n"
          ]
        }
      ]
    },
    {
      "cell_type": "code",
      "metadata": {
        "id": "45fd982b",
        "outputId": "486c4db3-47df-4aad-e19e-b410e54cfe2d"
      },
      "source": [
        "# To change the sorting order, you can use the ascending parameter\n",
        "df.orderBy('Cylinders', ascending=False).show(truncate=False)"
      ],
      "id": "45fd982b",
      "execution_count": null,
      "outputs": [
        {
          "name": "stdout",
          "output_type": "stream",
          "text": [
            "+-------------------------+----+---------+------------+----------+------+------------+-----+------+----------------------------+\n",
            "|Car                      |MPG |Cylinders|Displacement|Horsepower|Weight|Acceleration|Model|Origin|car_model                   |\n",
            "+-------------------------+----+---------+------------+----------+------+------------+-----+------+----------------------------+\n",
            "|Plymouth 'Cuda 340       |14.0|8        |340.0       |160.0     |3609.0|8.0         |70   |US    |Plymouth 'Cuda 340 70       |\n",
            "|Pontiac Safari (sw)      |13.0|8        |400.0       |175.0     |5140.0|12.0        |71   |US    |Pontiac Safari (sw) 71      |\n",
            "|Ford Mustang Boss 302    |0.0 |8        |302.0       |140.0     |3353.0|8.0         |70   |US    |Ford Mustang Boss 302 70    |\n",
            "|Buick Skylark 320        |15.0|8        |350.0       |165.0     |3693.0|11.5        |70   |US    |Buick Skylark 320 70        |\n",
            "|Chevrolet Monte Carlo    |15.0|8        |400.0       |150.0     |3761.0|9.5         |70   |US    |Chevrolet Monte Carlo 70    |\n",
            "|AMC Rebel SST            |16.0|8        |304.0       |150.0     |3433.0|12.0        |70   |US    |AMC Rebel SST 70            |\n",
            "|Buick Estate Wagon (sw)  |14.0|8        |455.0       |225.0     |3086.0|10.0        |70   |US    |Buick Estate Wagon (sw) 70  |\n",
            "|Ford Galaxie 500         |15.0|8        |429.0       |198.0     |4341.0|10.0        |70   |US    |Ford Galaxie 500 70         |\n",
            "|Ford F250                |10.0|8        |360.0       |215.0     |4615.0|14.0        |70   |US    |Ford F250 70                |\n",
            "|Plymouth Fury iii        |14.0|8        |440.0       |215.0     |4312.0|8.5         |70   |US    |Plymouth Fury iii 70        |\n",
            "|Chevy C20                |10.0|8        |307.0       |200.0     |4376.0|15.0        |70   |US    |Chevy C20 70                |\n",
            "|AMC Ambassador DPL       |15.0|8        |390.0       |190.0     |3850.0|8.5         |70   |US    |AMC Ambassador DPL 70       |\n",
            "|Dodge D200               |11.0|8        |318.0       |210.0     |4382.0|13.5        |70   |US    |Dodge D200 70               |\n",
            "|Ford Torino (sw)         |0.0 |8        |351.0       |153.0     |4034.0|11.0        |70   |US    |Ford Torino (sw) 70         |\n",
            "|Hi 1200D                 |9.0 |8        |304.0       |193.0     |4732.0|18.5        |70   |US    |Hi 1200D 70                 |\n",
            "|AMC Rebel SST (sw)       |0.0 |8        |360.0       |175.0     |3850.0|11.0        |70   |US    |AMC Rebel SST (sw) 70       |\n",
            "|Chevrolet Impala         |14.0|8        |350.0       |165.0     |4209.0|12.0        |71   |US    |Chevrolet Impala 71         |\n",
            "|Chevrolet Chevelle Malibu|18.0|8        |307.0       |130.0     |3504.0|12.0        |70   |US    |Chevrolet Chevelle Malibu 70|\n",
            "|Pontiac Catalina Brougham|14.0|8        |400.0       |175.0     |4464.0|11.5        |71   |US    |Pontiac Catalina Brougham 71|\n",
            "|Ford Torino              |17.0|8        |302.0       |140.0     |3449.0|10.5        |70   |US    |Ford Torino 70              |\n",
            "+-------------------------+----+---------+------------+----------+------+------------+-----+------+----------------------------+\n",
            "only showing top 20 rows\n",
            "\n"
          ]
        }
      ]
    },
    {
      "cell_type": "code",
      "metadata": {
        "id": "6dc37023",
        "outputId": "56046732-3d99-4f60-dc8c-e7fc64c1261f"
      },
      "source": [
        "# Using groupBy aand orderBy together\n",
        "df.groupBy(\"Origin\").count().orderBy('count', ascending=False).show(10)"
      ],
      "id": "6dc37023",
      "execution_count": null,
      "outputs": [
        {
          "name": "stdout",
          "output_type": "stream",
          "text": [
            "+------+-----+\n",
            "|Origin|count|\n",
            "+------+-----+\n",
            "|    US|  254|\n",
            "| Japan|   79|\n",
            "|Europe|   73|\n",
            "+------+-----+\n",
            "\n"
          ]
        }
      ]
    },
    {
      "cell_type": "markdown",
      "metadata": {
        "id": "7ca98575"
      },
      "source": [
        "#### Union Dataframes\n",
        "\n",
        "You will see three main methods for performing union of dataframes. It is important to know the difference between them and which one is preferred:\n",
        "\n",
        "  1. union() – It is used to merge two DataFrames of the same structure/schema. If schemas are not the same, it returns an error\n",
        "  2. unionAll() – This function is deprecated since Spark 2.0.0, and replaced with union()\n",
        "  3. unionByName() - This function is used to merge two dataframes based on column name.\n",
        "  \n",
        "     Since unionAll() is deprecated, union() is the preferred method for merging dataframes.\n",
        "     The difference between unionByName() and union() is that unionByName() resolves columns by name, not by position.\n",
        "\n",
        "    In other SQLs, Union eliminates the duplicates but UnionAll merges two datasets, thereby including duplicate records. But, in PySpark, both behave the same and includes duplicate records. The recommendation is to use distinct() or dropDuplicates() to remove duplicate records."
      ],
      "id": "7ca98575"
    },
    {
      "cell_type": "code",
      "metadata": {
        "id": "d4c084d3",
        "outputId": "0508aada-01a8-405a-9afa-f3349531ec6f"
      },
      "source": [
        "# CASE 1: Union When columns are in order\n",
        "df = spark.read.csv('cars.csv', header=True, sep=\";\", inferSchema=True)\n",
        "europe_cars = df.filter((col('Origin')=='Europe') & (col('Cylinders')==5))\n",
        "japan_cars = df.filter((col('Origin')=='Japan') & (col('Cylinders')==3))\n",
        "print(\"EUROPE CARS: \"+str(europe_cars.count()))\n",
        "print(\"JAPAN CARS: \"+str(japan_cars.count()))\n",
        "print(\"AFTER UNION: \"+str(europe_cars.union(japan_cars).count()))"
      ],
      "id": "d4c084d3",
      "execution_count": null,
      "outputs": [
        {
          "name": "stdout",
          "output_type": "stream",
          "text": [
            "EUROPE CARS: 3\n",
            "JAPAN CARS: 4\n",
            "AFTER UNION: 7\n"
          ]
        }
      ]
    },
    {
      "cell_type": "markdown",
      "metadata": {
        "id": "32629de6"
      },
      "source": [
        "#### Result:\n",
        "\n",
        " As you can see here, there were 3 cars from Europe with 5 Cylinders, and 4 cars from Japan with 3 Cylinders. After union, there are 7 cars in total."
      ],
      "id": "32629de6"
    },
    {
      "cell_type": "code",
      "metadata": {
        "id": "f1f6c0ee",
        "outputId": "6bec0338-24e1-4598-e01e-52783dbfc88a"
      },
      "source": [
        "# CASE 1: Union When columns are not in order\n",
        "# Creating two dataframes with jumbled columns\n",
        "df1 = spark.createDataFrame([[1, 2, 3]], [\"col0\", \"col1\", \"col2\"])\n",
        "df2 = spark.createDataFrame([[4, 5, 6]], [\"col1\", \"col2\", \"col0\"])\n",
        "df1.unionByName(df2).show()"
      ],
      "id": "f1f6c0ee",
      "execution_count": null,
      "outputs": [
        {
          "name": "stdout",
          "output_type": "stream",
          "text": [
            "+----+----+----+\n",
            "|col0|col1|col2|\n",
            "+----+----+----+\n",
            "|   1|   2|   3|\n",
            "|   6|   4|   5|\n",
            "+----+----+----+\n",
            "\n"
          ]
        }
      ]
    },
    {
      "cell_type": "markdown",
      "metadata": {
        "id": "66b53ff8"
      },
      "source": [
        "#### Result:\n",
        "\n",
        "As you can see here, the two dataframes have been successfully merged based on their column names."
      ],
      "id": "66b53ff8"
    },
    {
      "cell_type": "markdown",
      "metadata": {
        "id": "abe1ab73"
      },
      "source": [
        "### Common Data Manipulation Functions"
      ],
      "id": "abe1ab73"
    },
    {
      "cell_type": "code",
      "metadata": {
        "id": "962fc027"
      },
      "source": [
        "\n",
        "# Loading the data\n",
        "from pyspark.sql.functions import col\n",
        "df = spark.read.csv('cars.csv', header=True, sep=\";\", inferSchema=True)"
      ],
      "id": "962fc027",
      "execution_count": null,
      "outputs": []
    },
    {
      "cell_type": "markdown",
      "metadata": {
        "id": "1e2cd4b8"
      },
      "source": [
        "#### Display the Car column in exisitng, lower and upper characters, and the first 4 characters of the column"
      ],
      "id": "1e2cd4b8"
    },
    {
      "cell_type": "code",
      "metadata": {
        "id": "db160eb4",
        "outputId": "06952c5c-0d1e-488b-c4aa-d5a092a7c81d"
      },
      "source": [
        "from pyspark.sql.functions import col,lower, upper, substring\n",
        "# Prints out the details of a function\n",
        "help(substring)\n",
        "# alias is used to rename the column name in the output\n",
        "df.select(col('Car'),lower(col('Car')),upper(col('Car')),substring(col('Car'),1,4).alias(\"concatenated value\")).show(5, False)"
      ],
      "id": "db160eb4",
      "execution_count": null,
      "outputs": [
        {
          "name": "stdout",
          "output_type": "stream",
          "text": [
            "Help on function substring in module pyspark.sql.functions:\n",
            "\n",
            "substring(str, pos, len)\n",
            "    Substring starts at `pos` and is of length `len` when str is String type or\n",
            "    returns the slice of byte array that starts at `pos` in byte and is of length `len`\n",
            "    when str is Binary type.\n",
            "    \n",
            "    .. note:: The position is not zero based, but 1 based index.\n",
            "    \n",
            "    >>> df = spark.createDataFrame([('abcd',)], ['s',])\n",
            "    >>> df.select(substring(df.s, 1, 2).alias('s')).collect()\n",
            "    [Row(s='ab')]\n",
            "    \n",
            "    .. versionadded:: 1.5\n",
            "\n",
            "+-------------------------+-------------------------+-------------------------+------------------+\n",
            "|Car                      |lower(Car)               |upper(Car)               |concatenated value|\n",
            "+-------------------------+-------------------------+-------------------------+------------------+\n",
            "|Chevrolet Chevelle Malibu|chevrolet chevelle malibu|CHEVROLET CHEVELLE MALIBU|Chev              |\n",
            "|Buick Skylark 320        |buick skylark 320        |BUICK SKYLARK 320        |Buic              |\n",
            "|Plymouth Satellite       |plymouth satellite       |PLYMOUTH SATELLITE       |Plym              |\n",
            "|AMC Rebel SST            |amc rebel sst            |AMC REBEL SST            |AMC               |\n",
            "|Ford Torino              |ford torino              |FORD TORINO              |Ford              |\n",
            "+-------------------------+-------------------------+-------------------------+------------------+\n",
            "only showing top 5 rows\n",
            "\n"
          ]
        }
      ]
    },
    {
      "cell_type": "markdown",
      "metadata": {
        "id": "c30d822d"
      },
      "source": [
        "#### Concatenate the Car column and Model column and add a space between them."
      ],
      "id": "c30d822d"
    },
    {
      "cell_type": "code",
      "metadata": {
        "id": "b027eecf",
        "outputId": "8aac0603-3aba-4121-ad47-d27c3c090f86"
      },
      "source": [
        "from pyspark.sql.functions import concat\n",
        "df.select(col(\"Car\"),col(\"model\"),concat(col(\"Car\"), lit(\" \"), col(\"model\"))).show(5, False)"
      ],
      "id": "b027eecf",
      "execution_count": null,
      "outputs": [
        {
          "name": "stdout",
          "output_type": "stream",
          "text": [
            "+-------------------------+-----+----------------------------+\n",
            "|Car                      |model|concat(Car,  , model)       |\n",
            "+-------------------------+-----+----------------------------+\n",
            "|Chevrolet Chevelle Malibu|70   |Chevrolet Chevelle Malibu 70|\n",
            "|Buick Skylark 320        |70   |Buick Skylark 320 70        |\n",
            "|Plymouth Satellite       |70   |Plymouth Satellite 70       |\n",
            "|AMC Rebel SST            |70   |AMC Rebel SST 70            |\n",
            "|Ford Torino              |70   |Ford Torino 70              |\n",
            "+-------------------------+-----+----------------------------+\n",
            "only showing top 5 rows\n",
            "\n"
          ]
        }
      ]
    },
    {
      "cell_type": "markdown",
      "metadata": {
        "id": "6264ff24"
      },
      "source": [
        "### Numeric functions"
      ],
      "id": "6264ff24"
    },
    {
      "cell_type": "markdown",
      "metadata": {
        "id": "114f3df2"
      },
      "source": [
        "#### Show the oldest date and the most recent date"
      ],
      "id": "114f3df2"
    },
    {
      "cell_type": "code",
      "metadata": {
        "id": "8697426f",
        "outputId": "87ad042a-7aa1-4116-d208-29a1a2eabeb5"
      },
      "source": [
        "from pyspark.sql.functions import min, max\n",
        "df.select(min(col('Weight')), max(col('Weight'))).show()"
      ],
      "id": "8697426f",
      "execution_count": null,
      "outputs": [
        {
          "name": "stdout",
          "output_type": "stream",
          "text": [
            "+-----------+-----------+\n",
            "|min(Weight)|max(Weight)|\n",
            "+-----------+-----------+\n",
            "|       1613|       5140|\n",
            "+-----------+-----------+\n",
            "\n"
          ]
        }
      ]
    },
    {
      "cell_type": "markdown",
      "metadata": {
        "id": "5afb8133"
      },
      "source": [
        "#### Add 10 to the minimum and maximum weight"
      ],
      "id": "5afb8133"
    },
    {
      "cell_type": "code",
      "metadata": {
        "id": "321f4c07",
        "outputId": "09cbe09e-6188-44cf-c1d1-49bb217b8dd4"
      },
      "source": [
        "from pyspark.sql.functions import min, max, lit\n",
        "df.select(min(col('Weight'))+lit(10), max(col('Weight')+lit(10))).show()\n"
      ],
      "id": "321f4c07",
      "execution_count": null,
      "outputs": [
        {
          "name": "stdout",
          "output_type": "stream",
          "text": [
            "+------------------+------------------+\n",
            "|(min(Weight) + 10)|max((Weight + 10))|\n",
            "+------------------+------------------+\n",
            "|              1623|              5150|\n",
            "+------------------+------------------+\n",
            "\n"
          ]
        }
      ]
    },
    {
      "cell_type": "markdown",
      "metadata": {
        "id": "b5e626ea"
      },
      "source": [
        "### Operations on Date\n",
        "\n",
        "    PySpark follows SimpleDateFormat table of Java. Click here to view the docs."
      ],
      "id": "b5e626ea"
    },
    {
      "cell_type": "code",
      "metadata": {
        "id": "f2778d61",
        "outputId": "d9874a35-c882-4aeb-9736-de6fd411d803"
      },
      "source": [
        "from pyspark.sql.functions import to_date, to_timestamp, lit\n",
        "df = spark.createDataFrame([('2019-12-25 13:30:00',)], ['DOB'])\n",
        "df.show()\n",
        "df.printSchema()"
      ],
      "id": "f2778d61",
      "execution_count": null,
      "outputs": [
        {
          "name": "stdout",
          "output_type": "stream",
          "text": [
            "+-------------------+\n",
            "|                DOB|\n",
            "+-------------------+\n",
            "|2019-12-25 13:30:00|\n",
            "+-------------------+\n",
            "\n",
            "root\n",
            " |-- DOB: string (nullable = true)\n",
            "\n"
          ]
        }
      ]
    },
    {
      "cell_type": "code",
      "metadata": {
        "id": "564c7f24",
        "outputId": "41752b96-a440-45dd-c30f-a6ff74c0ed79"
      },
      "source": [
        "df = spark.createDataFrame([('2019-12-25 13:30:00',)], ['DOB'])\n",
        "df = df.select(to_date(col('DOB'),'yyyy-MM-dd HH:mm:ss'), to_timestamp(col('DOB'),'yyyy-MM-dd HH:mm:ss'))\n",
        "df.show()\n",
        "df.printSchema()"
      ],
      "id": "564c7f24",
      "execution_count": null,
      "outputs": [
        {
          "name": "stdout",
          "output_type": "stream",
          "text": [
            "+-------------------------------------+------------------------------------------+\n",
            "|to_date(`DOB`, 'yyyy-MM-dd HH:mm:ss')|to_timestamp(`DOB`, 'yyyy-MM-dd HH:mm:ss')|\n",
            "+-------------------------------------+------------------------------------------+\n",
            "|                           2019-12-25|                       2019-12-25 13:30:00|\n",
            "+-------------------------------------+------------------------------------------+\n",
            "\n",
            "root\n",
            " |-- to_date(`DOB`, 'yyyy-MM-dd HH:mm:ss'): date (nullable = true)\n",
            " |-- to_timestamp(`DOB`, 'yyyy-MM-dd HH:mm:ss'): timestamp (nullable = true)\n",
            "\n"
          ]
        }
      ]
    },
    {
      "cell_type": "code",
      "metadata": {
        "id": "91a2f1fc",
        "outputId": "6443276c-9092-4396-821d-d88fdf92dcf7"
      },
      "source": [
        "df = spark.createDataFrame([('25/Dec/2019 13:30:00',)], ['DOB'])\n",
        "df = df.select(to_date(col('DOB'),'dd/MMM/yyyy HH:mm:ss'), to_timestamp(col('DOB'),'dd/MMM/yyyy HH:mm:ss'))\n",
        "df.show()\n",
        "df.printSchema()"
      ],
      "id": "91a2f1fc",
      "execution_count": null,
      "outputs": [
        {
          "name": "stdout",
          "output_type": "stream",
          "text": [
            "+--------------------------------------+-------------------------------------------+\n",
            "|to_date(`DOB`, 'dd/MMM/yyyy HH:mm:ss')|to_timestamp(`DOB`, 'dd/MMM/yyyy HH:mm:ss')|\n",
            "+--------------------------------------+-------------------------------------------+\n",
            "|                            2019-12-25|                        2019-12-25 13:30:00|\n",
            "+--------------------------------------+-------------------------------------------+\n",
            "\n",
            "root\n",
            " |-- to_date(`DOB`, 'dd/MMM/yyyy HH:mm:ss'): date (nullable = true)\n",
            " |-- to_timestamp(`DOB`, 'dd/MMM/yyyy HH:mm:ss'): timestamp (nullable = true)\n",
            "\n"
          ]
        }
      ]
    },
    {
      "cell_type": "markdown",
      "metadata": {
        "id": "1acfc92a"
      },
      "source": [
        "#### What is 3 days earlier that the oldest date and 3 days later than the most recent date?"
      ],
      "id": "1acfc92a"
    },
    {
      "cell_type": "code",
      "metadata": {
        "id": "445f6cff",
        "outputId": "51856d59-4166-41df-d074-4641fbbc8e3f"
      },
      "source": [
        "from pyspark.sql.functions import date_add, date_sub\n",
        "# create a dummy dataframe\n",
        "df = spark.createDataFrame([('1990-01-01',),('1995-01-03',),('2021-03-30',)], ['Date'])\n",
        "# find out the required dates\n",
        "df.select(date_add(max(col('Date')),3), date_sub(min(col('Date')),3)).show()"
      ],
      "id": "445f6cff",
      "execution_count": null,
      "outputs": [
        {
          "name": "stdout",
          "output_type": "stream",
          "text": [
            "+----------------------+----------------------+\n",
            "|date_add(max(Date), 3)|date_sub(min(Date), 3)|\n",
            "+----------------------+----------------------+\n",
            "|            2021-04-02|            1989-12-29|\n",
            "+----------------------+----------------------+\n",
            "\n"
          ]
        }
      ]
    },
    {
      "cell_type": "markdown",
      "metadata": {
        "id": "1361f122"
      },
      "source": [
        "### Joins in PySpark"
      ],
      "id": "1361f122"
    },
    {
      "cell_type": "code",
      "metadata": {
        "id": "2ba88674",
        "outputId": "eb0afd33-0ce7-4c59-ca4c-422c40c4f2f5"
      },
      "source": [
        "# Create two dataframes\n",
        "cars_df = spark.createDataFrame([[1, 'Car A'],[2, 'Car B'],[3, 'Car C']], [\"id\", \"car_name\"])\n",
        "car_price_df = spark.createDataFrame([[1, 1000],[2, 2000],[3, 3000]], [\"id\", \"car_price\"])\n",
        "cars_df.show()\n",
        "car_price_df.show()"
      ],
      "id": "2ba88674",
      "execution_count": null,
      "outputs": [
        {
          "name": "stdout",
          "output_type": "stream",
          "text": [
            "+---+--------+\n",
            "| id|car_name|\n",
            "+---+--------+\n",
            "|  1|   Car A|\n",
            "|  2|   Car B|\n",
            "|  3|   Car C|\n",
            "+---+--------+\n",
            "\n",
            "+---+---------+\n",
            "| id|car_price|\n",
            "+---+---------+\n",
            "|  1|     1000|\n",
            "|  2|     2000|\n",
            "|  3|     3000|\n",
            "+---+---------+\n",
            "\n"
          ]
        }
      ]
    },
    {
      "cell_type": "code",
      "metadata": {
        "id": "fa85e570",
        "outputId": "6ab2085c-7ca5-4fab-92be-02000eca0731"
      },
      "source": [
        "# Executing an inner join so we can see the id, name and price of each car in one row\n",
        "cars_df.join(car_price_df, cars_df.id == car_price_df.id, 'inner').select(cars_df['id'],cars_df['car_name'],car_price_df['car_price']).show(truncate=False)"
      ],
      "id": "fa85e570",
      "execution_count": null,
      "outputs": [
        {
          "name": "stdout",
          "output_type": "stream",
          "text": [
            "+---+--------+---------+\n",
            "|id |car_name|car_price|\n",
            "+---+--------+---------+\n",
            "|1  |Car A   |1000     |\n",
            "|3  |Car C   |3000     |\n",
            "|2  |Car B   |2000     |\n",
            "+---+--------+---------+\n",
            "\n"
          ]
        }
      ]
    },
    {
      "cell_type": "markdown",
      "metadata": {
        "id": "2510dfbe"
      },
      "source": [
        "As you can see, we have done an inner join between two dataframes. The following joins are supported by PySpark:\n",
        "\n",
        "1. inner (default)\n",
        "2. cross\n",
        "3. outer\n",
        "4. full\n",
        "5. full_outer\n",
        "6. left\n",
        "7. left_outer\n",
        "8. right\n",
        "9. right_outer\n",
        "10. left_semi\n",
        "11. left_anti"
      ],
      "id": "2510dfbe"
    },
    {
      "cell_type": "markdown",
      "metadata": {
        "id": "d3902fd7"
      },
      "source": [
        "###  Spark SQL\n",
        "\n",
        "SQL has been around since the 1970s, and so one can imagine the number of people who made it their bread and butter. As big data came into popularity, the number of professionals with the technical knowledge to deal with it was in shortage. This led to the creation of Spark SQL. To quote the docs:\n",
        "\n",
        "Spark SQL is a Spark module for structured data processing. Unlike the basic Spark RDD API, the interfaces provided by Spark SQL provide Spark with more information about the structure of both the data and the computation being performed. Internally, Spark SQL uses this extra information to perform extra optimizations.\n",
        "\n",
        "Basically, what you need to know is that Spark SQL is used to execute SQL queries on big data. Spark SQL can also be used to read data from Hive tables and views. Let me explain Spark SQL with an example."
      ],
      "id": "d3902fd7"
    },
    {
      "cell_type": "code",
      "metadata": {
        "id": "81ce2400",
        "outputId": "807fbbef-f3fc-4824-ea7d-583c0e5d4974"
      },
      "source": [
        "# Load data\n",
        "df = spark.read.csv('cars.csv', header=True, sep=\";\")\n",
        "# Register Temporary Table\n",
        "df.createOrReplaceTempView(\"temp\")\n",
        "# Select all data from temp table\n",
        "spark.sql(\"select * from temp limit 5\").show()\n",
        "# Select count of data in table\n",
        "spark.sql(\"select count(*) as total_count from temp\").show()"
      ],
      "id": "81ce2400",
      "execution_count": null,
      "outputs": [
        {
          "name": "stdout",
          "output_type": "stream",
          "text": [
            "+--------------------+----+---------+------------+----------+------+------------+-----+------+\n",
            "|                 Car| MPG|Cylinders|Displacement|Horsepower|Weight|Acceleration|Model|Origin|\n",
            "+--------------------+----+---------+------------+----------+------+------------+-----+------+\n",
            "|Chevrolet Chevell...|18.0|        8|       307.0|     130.0| 3504.|        12.0|   70|    US|\n",
            "|   Buick Skylark 320|15.0|        8|       350.0|     165.0| 3693.|        11.5|   70|    US|\n",
            "|  Plymouth Satellite|18.0|        8|       318.0|     150.0| 3436.|        11.0|   70|    US|\n",
            "|       AMC Rebel SST|16.0|        8|       304.0|     150.0| 3433.|        12.0|   70|    US|\n",
            "|         Ford Torino|17.0|        8|       302.0|     140.0| 3449.|        10.5|   70|    US|\n",
            "+--------------------+----+---------+------------+----------+------+------------+-----+------+\n",
            "\n",
            "+-----------+\n",
            "|total_count|\n",
            "+-----------+\n",
            "|        406|\n",
            "+-----------+\n",
            "\n"
          ]
        }
      ]
    },
    {
      "cell_type": "markdown",
      "metadata": {
        "id": "732e66c7"
      },
      "source": [
        "As you can see, we registered the dataframe as temporary table and then ran basic SQL queries on it. How amazing is that?!\n",
        "If you are a person who is more comfortable with SQL, then this feature is truly a blessing for you! But this raises a question:\n",
        "\n",
        "Should I just keep using Spark SQL all the time?\n",
        "\n",
        "And the answer is, it depends.\n",
        "So basically, the different functions acts in differnet ways, and depending upon the type of action you are trying to do, the speed at which it completes execution also differs. But as time progress, this feature is getting better and better, so hopefully the difference should be a small margin. There are plenty of analysis done on this, but nothing has a definite answer yet. You can read this comparative study done by horton works or the answer to this stackoverflow question if you are still curious about it."
      ],
      "id": "732e66c7"
    },
    {
      "cell_type": "markdown",
      "metadata": {
        "id": "2eaaf5f4"
      },
      "source": [
        "## RDD"
      ],
      "id": "2eaaf5f4"
    },
    {
      "cell_type": "markdown",
      "metadata": {
        "id": "b8e5f6a7"
      },
      "source": [
        "With map, you define a function and then apply it record by record. Flatmap returns a new RDD by first applying a function to all of the elements in RDDs and then flattening the result. Filter, returns a new RDD. Meaning only the elements that satisfy a condition. With reduce, we are taking neighboring elements and producing a single combined result. For example, let's say you have a set of numbers. You can reduce this to its sum by providing a function that takes as input two values and reduces them to one.\n",
        "\n",
        "Some of the reasons you would use a dataframe over RDD are:\n",
        "\n",
        "1. It's ability to represnt data as rows and columns. But this also means it can only hold structred and semi-structured data.\n",
        "2. It allows processing data in different formats (AVRO, CSV, JSON, and storage system HDFS, HIVE tables, MySQL).\n",
        "3. It's superior job Optimization capability.\n",
        "4. DataFrame API is very easy to use."
      ],
      "id": "b8e5f6a7"
    },
    {
      "cell_type": "code",
      "metadata": {
        "id": "9548d948",
        "outputId": "f4470e31-8bad-4e36-f4f3-ae9af04cde8b"
      },
      "source": [
        "cars = spark.sparkContext.textFile('cars.csv')\n",
        "print(cars.first())\n",
        "cars_header = cars.first()\n",
        "cars_rest = cars.filter(lambda line: line!=cars_header)\n",
        "print(cars_rest.first())"
      ],
      "id": "9548d948",
      "execution_count": null,
      "outputs": [
        {
          "name": "stdout",
          "output_type": "stream",
          "text": [
            "Car;MPG;Cylinders;Displacement;Horsepower;Weight;Acceleration;Model;Origin\n",
            "Chevrolet Chevelle Malibu;18.0;8;307.0;130.0;3504.;12.0;70;US\n"
          ]
        }
      ]
    },
    {
      "cell_type": "markdown",
      "metadata": {
        "id": "b9432231"
      },
      "source": [
        "#### How many cars are there in our csv data?"
      ],
      "id": "b9432231"
    },
    {
      "cell_type": "code",
      "metadata": {
        "id": "67f95c2c",
        "outputId": "db5e0f36-1232-4133-d374-6f73b08007ea"
      },
      "source": [
        "cars_rest.map(lambda line: line.split(\";\")).count()"
      ],
      "id": "67f95c2c",
      "execution_count": null,
      "outputs": [
        {
          "data": {
            "text/plain": [
              "406"
            ]
          },
          "execution_count": 56,
          "metadata": {},
          "output_type": "execute_result"
        }
      ]
    },
    {
      "cell_type": "markdown",
      "metadata": {
        "id": "74f1ee57"
      },
      "source": [
        "#### Display the Car name, MPG, Cylinders, Weight and Origin for the cars Originating in Europe"
      ],
      "id": "74f1ee57"
    },
    {
      "cell_type": "code",
      "metadata": {
        "scrolled": true,
        "id": "16b39116",
        "outputId": "d6f825d2-a11a-4a9e-86f9-f6415c677673"
      },
      "source": [
        "# Car name is column  0\n",
        "(cars_rest.filter(lambda line: line.split(\";\")[8]=='Europe').\n",
        " map(lambda line: (line.split(\";\")[0],\n",
        "    line.split(\";\")[1],\n",
        "    line.split(\";\")[2],\n",
        "    line.split(\";\")[5],\n",
        "    line.split(\";\")[8])).collect())"
      ],
      "id": "16b39116",
      "execution_count": null,
      "outputs": [
        {
          "data": {
            "text/plain": [
              "[('Citroen DS-21 Pallas', '0', '4', '3090.', 'Europe'),\n",
              " ('Volkswagen 1131 Deluxe Sedan', '26.0', '4', '1835.', 'Europe'),\n",
              " ('Peugeot 504', '25.0', '4', '2672.', 'Europe'),\n",
              " ('Audi 100 LS', '24.0', '4', '2430.', 'Europe'),\n",
              " ('Saab 99e', '25.0', '4', '2375.', 'Europe'),\n",
              " ('BMW 2002', '26.0', '4', '2234.', 'Europe'),\n",
              " ('Volkswagen Super Beetle 117', '0', '4', '1978.', 'Europe'),\n",
              " ('Opel 1900', '28.0', '4', '2123.', 'Europe'),\n",
              " ('Peugeot 304', '30.0', '4', '2074.', 'Europe'),\n",
              " ('Fiat 124B', '30.0', '4', '2065.', 'Europe'),\n",
              " ('Volkswagen Model 111', '27.0', '4', '1834.', 'Europe'),\n",
              " ('Volkswagen Type 3', '23.0', '4', '2254.', 'Europe'),\n",
              " ('Volvo 145e (sw)', '18.0', '4', '2933.', 'Europe'),\n",
              " ('Volkswagen 411 (sw)', '22.0', '4', '2511.', 'Europe'),\n",
              " ('Peugeot 504 (sw)', '21.0', '4', '2979.', 'Europe'),\n",
              " ('Renault 12 (sw)', '26.0', '4', '2189.', 'Europe'),\n",
              " ('Volkswagen Super Beetle', '26.0', '4', '1950.', 'Europe'),\n",
              " ('Fiat 124 Sport Coupe', '26.0', '4', '2265.', 'Europe'),\n",
              " ('Fiat 128', '29.0', '4', '1867.', 'Europe'),\n",
              " ('Opel Manta', '24.0', '4', '2158.', 'Europe'),\n",
              " ('Audi 100LS', '20.0', '4', '2582.', 'Europe'),\n",
              " ('Volvo 144ea', '19.0', '4', '2868.', 'Europe'),\n",
              " ('Saab 99le', '24.0', '4', '2660.', 'Europe'),\n",
              " ('Audi Fox', '29.0', '4', '2219.', 'Europe'),\n",
              " ('Volkswagen Dasher', '26.0', '4', '1963.', 'Europe'),\n",
              " ('Opel Manta', '26.0', '4', '2300.', 'Europe'),\n",
              " ('Fiat 128', '24.0', '4', '2108.', 'Europe'),\n",
              " ('Fiat 124 TC', '26.0', '4', '2246.', 'Europe'),\n",
              " ('Fiat x1.9', '31.0', '4', '2000.', 'Europe'),\n",
              " ('Volkswagen Dasher', '25.0', '4', '2223.', 'Europe'),\n",
              " ('Volkswagen Rabbit', '29.0', '4', '1937.', 'Europe'),\n",
              " ('Audi 100LS', '23.0', '4', '2694.', 'Europe'),\n",
              " ('Peugeot 504', '23.0', '4', '2957.', 'Europe'),\n",
              " ('Volvo 244DL', '22.0', '4', '2945.', 'Europe'),\n",
              " ('Saab 99LE', '25.0', '4', '2671.', 'Europe'),\n",
              " ('Fiat 131', '28.0', '4', '2464.', 'Europe'),\n",
              " ('Opel 1900', '25.0', '4', '2220.', 'Europe'),\n",
              " ('Renault 12tl', '27.0', '4', '2202.', 'Europe'),\n",
              " ('Volkswagen Rabbit', '29.0', '4', '1937.', 'Europe'),\n",
              " ('Volkswagen Rabbit', '29.5', '4', '1825.', 'Europe'),\n",
              " ('Volvo 245', '20.0', '4', '3150.', 'Europe'),\n",
              " ('Peugeot 504', '19.0', '4', '3270.', 'Europe'),\n",
              " ('Mercedes-Benz 280s', '16.5', '6', '3820.', 'Europe'),\n",
              " ('Renault 5 GTL', '36.0', '4', '1825.', 'Europe'),\n",
              " ('Volkswagen Rabbit Custom', '29.0', '4', '1940.', 'Europe'),\n",
              " ('Volkswagen Dasher', '30.5', '4', '2190.', 'Europe'),\n",
              " ('BMW 320i', '21.5', '4', '2600.', 'Europe'),\n",
              " ('Volkswagen Rabbit Custom Diesel', '43.1', '4', '1985.', 'Europe'),\n",
              " ('Audi 5000', '20.3', '5', '2830.', 'Europe'),\n",
              " ('Volvo 264gl', '17.0', '6', '3140.', 'Europe'),\n",
              " ('Saab 99gle', '21.6', '4', '2795.', 'Europe'),\n",
              " ('Peugeot 604sl', '16.2', '6', '3410.', 'Europe'),\n",
              " ('Volkswagen Scirocco', '31.5', '4', '1990.', 'Europe'),\n",
              " ('Volkswagen Rabbit Custom', '31.9', '4', '1925.', 'Europe'),\n",
              " ('Mercedes Benz 300d', '25.4', '5', '3530.', 'Europe'),\n",
              " ('Peugeot 504', '27.2', '4', '3190.', 'Europe'),\n",
              " ('Fiat Strada Custom', '37.3', '4', '2130.', 'Europe'),\n",
              " ('Volkswagen Rabbit', '41.5', '4', '2144.', 'Europe'),\n",
              " ('Audi 4000', '34.3', '4', '2188.', 'Europe'),\n",
              " ('Volkswagen Rabbit C (Diesel)', '44.3', '4', '2085.', 'Europe'),\n",
              " ('Volkswagen Dasher (diesel)', '43.4', '4', '2335.', 'Europe'),\n",
              " ('Audi 5000s (diesel)', '36.4', '5', '2950.', 'Europe'),\n",
              " ('Mercedes-Benz 240d', '30.0', '4', '3250.', 'Europe'),\n",
              " ('Renault Lecar Deluxe', '40.9', '4', '1835.', 'Europe'),\n",
              " ('Volkswagen Rabbit', '29.8', '4', '1845.', 'Europe'),\n",
              " ('Triumph TR7 Coupe', '35.0', '4', '2500.', 'Europe'),\n",
              " ('Volkswagen Jetta', '33.0', '4', '2190.', 'Europe'),\n",
              " ('Renault 18i', '34.5', '4', '2320.', 'Europe'),\n",
              " ('Peugeot 505s Turbo Diesel', '28.1', '4', '3230.', 'Europe'),\n",
              " ('Saab 900s', '0', '4', '2800.', 'Europe'),\n",
              " ('Volvo Diesel', '30.7', '6', '3160.', 'Europe'),\n",
              " ('Volkswagen Rabbit l', '36.0', '4', '1980.', 'Europe'),\n",
              " ('Volkswagen Pickup', '44.0', '4', '2130.', 'Europe')]"
            ]
          },
          "execution_count": 57,
          "metadata": {},
          "output_type": "execute_result"
        }
      ]
    }
  ]
}