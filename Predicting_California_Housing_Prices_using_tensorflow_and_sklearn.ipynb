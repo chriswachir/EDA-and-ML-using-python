{
  "nbformat": 4,
  "nbformat_minor": 0,
  "metadata": {
    "colab": {
      "name": "Predicting_California_Housing_Prices using tensorflow and sklearn.ipynb",
      "provenance": [],
      "collapsed_sections": []
    },
    "kernelspec": {
      "display_name": "Python 3",
      "language": "python",
      "name": "python3"
    },
    "language_info": {
      "codemirror_mode": {
        "name": "ipython",
        "version": 3
      },
      "file_extension": ".py",
      "mimetype": "text/x-python",
      "name": "python",
      "nbconvert_exporter": "python",
      "pygments_lexer": "ipython3",
      "version": "3.8.8"
    }
  },
  "cells": [
    {
      "cell_type": "markdown",
      "metadata": {
        "id": "htBqNVJL2G-S",
        "outputId": "46608c4f-20c1-478d-8435-35496e9d2139"
      },
      "source": [
        "### Tensorflow and sklearn"
      ]
    },
    {
      "cell_type": "code",
      "metadata": {
        "colab": {
          "base_uri": "https://localhost:8080/",
          "height": 442
        },
        "id": "7ceZ1BOS2Xws",
        "outputId": "6f0ac96d-907f-4130-fa92-30d417058cd5"
      },
      "source": [
        "import pandas as pd\n",
        "\n",
        "housing_pd = pd.read_csv('housing.csv')\n",
        "housing_pd.head()"
      ],
      "execution_count": null,
      "outputs": [
        {
          "data": {
            "text/html": [
              "<div>\n",
              "<style scoped>\n",
              "    .dataframe tbody tr th:only-of-type {\n",
              "        vertical-align: middle;\n",
              "    }\n",
              "\n",
              "    .dataframe tbody tr th {\n",
              "        vertical-align: top;\n",
              "    }\n",
              "\n",
              "    .dataframe thead th {\n",
              "        text-align: right;\n",
              "    }\n",
              "</style>\n",
              "<table border=\"1\" class=\"dataframe\">\n",
              "  <thead>\n",
              "    <tr style=\"text-align: right;\">\n",
              "      <th></th>\n",
              "      <th>longitude</th>\n",
              "      <th>latitude</th>\n",
              "      <th>housing_median_age</th>\n",
              "      <th>total_rooms</th>\n",
              "      <th>total_bedrooms</th>\n",
              "      <th>population</th>\n",
              "      <th>households</th>\n",
              "      <th>median_income</th>\n",
              "      <th>median_house_value</th>\n",
              "      <th>ocean_proximity</th>\n",
              "    </tr>\n",
              "  </thead>\n",
              "  <tbody>\n",
              "    <tr>\n",
              "      <th>0</th>\n",
              "      <td>-122.23</td>\n",
              "      <td>37.88</td>\n",
              "      <td>41.0</td>\n",
              "      <td>880.0</td>\n",
              "      <td>129.0</td>\n",
              "      <td>322.0</td>\n",
              "      <td>126.0</td>\n",
              "      <td>8.3252</td>\n",
              "      <td>452600.0</td>\n",
              "      <td>NEAR BAY</td>\n",
              "    </tr>\n",
              "    <tr>\n",
              "      <th>1</th>\n",
              "      <td>-122.22</td>\n",
              "      <td>37.86</td>\n",
              "      <td>21.0</td>\n",
              "      <td>7099.0</td>\n",
              "      <td>1106.0</td>\n",
              "      <td>2401.0</td>\n",
              "      <td>1138.0</td>\n",
              "      <td>8.3014</td>\n",
              "      <td>358500.0</td>\n",
              "      <td>NEAR BAY</td>\n",
              "    </tr>\n",
              "    <tr>\n",
              "      <th>2</th>\n",
              "      <td>-122.24</td>\n",
              "      <td>37.85</td>\n",
              "      <td>52.0</td>\n",
              "      <td>1467.0</td>\n",
              "      <td>190.0</td>\n",
              "      <td>496.0</td>\n",
              "      <td>177.0</td>\n",
              "      <td>7.2574</td>\n",
              "      <td>352100.0</td>\n",
              "      <td>NEAR BAY</td>\n",
              "    </tr>\n",
              "    <tr>\n",
              "      <th>3</th>\n",
              "      <td>-122.25</td>\n",
              "      <td>37.85</td>\n",
              "      <td>52.0</td>\n",
              "      <td>1274.0</td>\n",
              "      <td>235.0</td>\n",
              "      <td>558.0</td>\n",
              "      <td>219.0</td>\n",
              "      <td>5.6431</td>\n",
              "      <td>341300.0</td>\n",
              "      <td>NEAR BAY</td>\n",
              "    </tr>\n",
              "    <tr>\n",
              "      <th>4</th>\n",
              "      <td>-122.25</td>\n",
              "      <td>37.85</td>\n",
              "      <td>52.0</td>\n",
              "      <td>1627.0</td>\n",
              "      <td>280.0</td>\n",
              "      <td>565.0</td>\n",
              "      <td>259.0</td>\n",
              "      <td>3.8462</td>\n",
              "      <td>342200.0</td>\n",
              "      <td>NEAR BAY</td>\n",
              "    </tr>\n",
              "  </tbody>\n",
              "</table>\n",
              "</div>"
            ],
            "text/plain": [
              "   longitude  latitude  housing_median_age  total_rooms  total_bedrooms  \\\n",
              "0    -122.23     37.88                41.0        880.0           129.0   \n",
              "1    -122.22     37.86                21.0       7099.0          1106.0   \n",
              "2    -122.24     37.85                52.0       1467.0           190.0   \n",
              "3    -122.25     37.85                52.0       1274.0           235.0   \n",
              "4    -122.25     37.85                52.0       1627.0           280.0   \n",
              "\n",
              "   population  households  median_income  median_house_value ocean_proximity  \n",
              "0       322.0       126.0         8.3252            452600.0        NEAR BAY  \n",
              "1      2401.0      1138.0         8.3014            358500.0        NEAR BAY  \n",
              "2       496.0       177.0         7.2574            352100.0        NEAR BAY  \n",
              "3       558.0       219.0         5.6431            341300.0        NEAR BAY  \n",
              "4       565.0       259.0         3.8462            342200.0        NEAR BAY  "
            ]
          },
          "execution_count": 3,
          "metadata": {},
          "output_type": "execute_result"
        }
      ]
    },
    {
      "cell_type": "code",
      "metadata": {
        "colab": {
          "base_uri": "https://localhost:8080/"
        },
        "id": "JzHJWLxM2o2b",
        "outputId": "b2e2adfc-ade3-4153-82e1-75191ab3eb41"
      },
      "source": [
        "housing_pd['ocean_proximity'].value_counts()"
      ],
      "execution_count": null,
      "outputs": [
        {
          "data": {
            "text/plain": [
              "<1H OCEAN     9136\n",
              "INLAND        6551\n",
              "NEAR OCEAN    2658\n",
              "NEAR BAY      2290\n",
              "ISLAND           5\n",
              "Name: ocean_proximity, dtype: int64"
            ]
          },
          "execution_count": 4,
          "metadata": {},
          "output_type": "execute_result"
        }
      ]
    },
    {
      "cell_type": "markdown",
      "metadata": {
        "id": "uXtm1waieuI1"
      },
      "source": [
        "#### Shuffle the dataset to randomise the rows"
      ]
    },
    {
      "cell_type": "code",
      "metadata": {
        "colab": {
          "base_uri": "https://localhost:8080/",
          "height": 442
        },
        "id": "ZTGNg1P426ef",
        "outputId": "34e324bf-395c-484a-9a15-f85388b71799"
      },
      "source": [
        "housing_pd_shuffled = housing_pd.sample(n=len(housing_pd), random_state=1)\n",
        "housing_pd_shuffled.head()"
      ],
      "execution_count": null,
      "outputs": [
        {
          "data": {
            "text/html": [
              "<div>\n",
              "<style scoped>\n",
              "    .dataframe tbody tr th:only-of-type {\n",
              "        vertical-align: middle;\n",
              "    }\n",
              "\n",
              "    .dataframe tbody tr th {\n",
              "        vertical-align: top;\n",
              "    }\n",
              "\n",
              "    .dataframe thead th {\n",
              "        text-align: right;\n",
              "    }\n",
              "</style>\n",
              "<table border=\"1\" class=\"dataframe\">\n",
              "  <thead>\n",
              "    <tr style=\"text-align: right;\">\n",
              "      <th></th>\n",
              "      <th>longitude</th>\n",
              "      <th>latitude</th>\n",
              "      <th>housing_median_age</th>\n",
              "      <th>total_rooms</th>\n",
              "      <th>total_bedrooms</th>\n",
              "      <th>population</th>\n",
              "      <th>households</th>\n",
              "      <th>median_income</th>\n",
              "      <th>median_house_value</th>\n",
              "      <th>ocean_proximity</th>\n",
              "    </tr>\n",
              "  </thead>\n",
              "  <tbody>\n",
              "    <tr>\n",
              "      <th>4712</th>\n",
              "      <td>-118.36</td>\n",
              "      <td>34.06</td>\n",
              "      <td>39.0</td>\n",
              "      <td>2810.0</td>\n",
              "      <td>670.0</td>\n",
              "      <td>1109.0</td>\n",
              "      <td>624.0</td>\n",
              "      <td>3.2500</td>\n",
              "      <td>355000.0</td>\n",
              "      <td>&lt;1H OCEAN</td>\n",
              "    </tr>\n",
              "    <tr>\n",
              "      <th>2151</th>\n",
              "      <td>-119.78</td>\n",
              "      <td>36.78</td>\n",
              "      <td>37.0</td>\n",
              "      <td>2185.0</td>\n",
              "      <td>455.0</td>\n",
              "      <td>1143.0</td>\n",
              "      <td>438.0</td>\n",
              "      <td>1.9784</td>\n",
              "      <td>70700.0</td>\n",
              "      <td>INLAND</td>\n",
              "    </tr>\n",
              "    <tr>\n",
              "      <th>15927</th>\n",
              "      <td>-122.42</td>\n",
              "      <td>37.73</td>\n",
              "      <td>46.0</td>\n",
              "      <td>1819.0</td>\n",
              "      <td>411.0</td>\n",
              "      <td>1534.0</td>\n",
              "      <td>406.0</td>\n",
              "      <td>4.0132</td>\n",
              "      <td>229400.0</td>\n",
              "      <td>NEAR BAY</td>\n",
              "    </tr>\n",
              "    <tr>\n",
              "      <th>82</th>\n",
              "      <td>-122.28</td>\n",
              "      <td>37.81</td>\n",
              "      <td>52.0</td>\n",
              "      <td>340.0</td>\n",
              "      <td>97.0</td>\n",
              "      <td>200.0</td>\n",
              "      <td>87.0</td>\n",
              "      <td>1.5208</td>\n",
              "      <td>112500.0</td>\n",
              "      <td>NEAR BAY</td>\n",
              "    </tr>\n",
              "    <tr>\n",
              "      <th>8161</th>\n",
              "      <td>-118.13</td>\n",
              "      <td>33.82</td>\n",
              "      <td>37.0</td>\n",
              "      <td>1530.0</td>\n",
              "      <td>290.0</td>\n",
              "      <td>711.0</td>\n",
              "      <td>283.0</td>\n",
              "      <td>5.1795</td>\n",
              "      <td>225400.0</td>\n",
              "      <td>&lt;1H OCEAN</td>\n",
              "    </tr>\n",
              "  </tbody>\n",
              "</table>\n",
              "</div>"
            ],
            "text/plain": [
              "       longitude  latitude  housing_median_age  total_rooms  total_bedrooms  \\\n",
              "4712     -118.36     34.06                39.0       2810.0           670.0   \n",
              "2151     -119.78     36.78                37.0       2185.0           455.0   \n",
              "15927    -122.42     37.73                46.0       1819.0           411.0   \n",
              "82       -122.28     37.81                52.0        340.0            97.0   \n",
              "8161     -118.13     33.82                37.0       1530.0           290.0   \n",
              "\n",
              "       population  households  median_income  median_house_value  \\\n",
              "4712       1109.0       624.0         3.2500            355000.0   \n",
              "2151       1143.0       438.0         1.9784             70700.0   \n",
              "15927      1534.0       406.0         4.0132            229400.0   \n",
              "82          200.0        87.0         1.5208            112500.0   \n",
              "8161        711.0       283.0         5.1795            225400.0   \n",
              "\n",
              "      ocean_proximity  \n",
              "4712        <1H OCEAN  \n",
              "2151           INLAND  \n",
              "15927        NEAR BAY  \n",
              "82           NEAR BAY  \n",
              "8161        <1H OCEAN  "
            ]
          },
          "execution_count": 6,
          "metadata": {},
          "output_type": "execute_result"
        }
      ]
    },
    {
      "cell_type": "markdown",
      "metadata": {
        "id": "o-9Ps7hFeuI5"
      },
      "source": [
        "#### convert Ocean proximity column to numerical"
      ]
    },
    {
      "cell_type": "code",
      "metadata": {
        "colab": {
          "base_uri": "https://localhost:8080/",
          "height": 205
        },
        "id": "fUOSxYJg44xV",
        "scrolled": true,
        "outputId": "a097e8ea-eb2e-4a57-e3ed-1769c1b2704a"
      },
      "source": [
        "pd.get_dummies(housing_pd_shuffled['ocean_proximity']).head()"
      ],
      "execution_count": null,
      "outputs": [
        {
          "data": {
            "text/html": [
              "<div>\n",
              "<style scoped>\n",
              "    .dataframe tbody tr th:only-of-type {\n",
              "        vertical-align: middle;\n",
              "    }\n",
              "\n",
              "    .dataframe tbody tr th {\n",
              "        vertical-align: top;\n",
              "    }\n",
              "\n",
              "    .dataframe thead th {\n",
              "        text-align: right;\n",
              "    }\n",
              "</style>\n",
              "<table border=\"1\" class=\"dataframe\">\n",
              "  <thead>\n",
              "    <tr style=\"text-align: right;\">\n",
              "      <th></th>\n",
              "      <th>&lt;1H OCEAN</th>\n",
              "      <th>INLAND</th>\n",
              "      <th>ISLAND</th>\n",
              "      <th>NEAR BAY</th>\n",
              "      <th>NEAR OCEAN</th>\n",
              "    </tr>\n",
              "  </thead>\n",
              "  <tbody>\n",
              "    <tr>\n",
              "      <th>4712</th>\n",
              "      <td>1</td>\n",
              "      <td>0</td>\n",
              "      <td>0</td>\n",
              "      <td>0</td>\n",
              "      <td>0</td>\n",
              "    </tr>\n",
              "    <tr>\n",
              "      <th>2151</th>\n",
              "      <td>0</td>\n",
              "      <td>1</td>\n",
              "      <td>0</td>\n",
              "      <td>0</td>\n",
              "      <td>0</td>\n",
              "    </tr>\n",
              "    <tr>\n",
              "      <th>15927</th>\n",
              "      <td>0</td>\n",
              "      <td>0</td>\n",
              "      <td>0</td>\n",
              "      <td>1</td>\n",
              "      <td>0</td>\n",
              "    </tr>\n",
              "    <tr>\n",
              "      <th>82</th>\n",
              "      <td>0</td>\n",
              "      <td>0</td>\n",
              "      <td>0</td>\n",
              "      <td>1</td>\n",
              "      <td>0</td>\n",
              "    </tr>\n",
              "    <tr>\n",
              "      <th>8161</th>\n",
              "      <td>1</td>\n",
              "      <td>0</td>\n",
              "      <td>0</td>\n",
              "      <td>0</td>\n",
              "      <td>0</td>\n",
              "    </tr>\n",
              "  </tbody>\n",
              "</table>\n",
              "</div>"
            ],
            "text/plain": [
              "       <1H OCEAN  INLAND  ISLAND  NEAR BAY  NEAR OCEAN\n",
              "4712           1       0       0         0           0\n",
              "2151           0       1       0         0           0\n",
              "15927          0       0       0         1           0\n",
              "82             0       0       0         1           0\n",
              "8161           1       0       0         0           0"
            ]
          },
          "execution_count": 7,
          "metadata": {},
          "output_type": "execute_result"
        }
      ]
    },
    {
      "cell_type": "markdown",
      "metadata": {
        "id": "ppDNh928euI-"
      },
      "source": [
        "#### Drop ocean proximity column"
      ]
    },
    {
      "cell_type": "code",
      "metadata": {
        "colab": {
          "base_uri": "https://localhost:8080/",
          "height": 205
        },
        "id": "sSVaa5-L5KdJ",
        "scrolled": true,
        "outputId": "edfa66f1-fb08-4269-97d4-477a4e222cd8"
      },
      "source": [
        "housing_pd_shuffled.drop('ocean_proximity', axis=1).head()"
      ],
      "execution_count": null,
      "outputs": [
        {
          "data": {
            "text/html": [
              "<div>\n",
              "<style scoped>\n",
              "    .dataframe tbody tr th:only-of-type {\n",
              "        vertical-align: middle;\n",
              "    }\n",
              "\n",
              "    .dataframe tbody tr th {\n",
              "        vertical-align: top;\n",
              "    }\n",
              "\n",
              "    .dataframe thead th {\n",
              "        text-align: right;\n",
              "    }\n",
              "</style>\n",
              "<table border=\"1\" class=\"dataframe\">\n",
              "  <thead>\n",
              "    <tr style=\"text-align: right;\">\n",
              "      <th></th>\n",
              "      <th>longitude</th>\n",
              "      <th>latitude</th>\n",
              "      <th>housing_median_age</th>\n",
              "      <th>total_rooms</th>\n",
              "      <th>total_bedrooms</th>\n",
              "      <th>population</th>\n",
              "      <th>households</th>\n",
              "      <th>median_income</th>\n",
              "      <th>median_house_value</th>\n",
              "    </tr>\n",
              "  </thead>\n",
              "  <tbody>\n",
              "    <tr>\n",
              "      <th>4712</th>\n",
              "      <td>-118.36</td>\n",
              "      <td>34.06</td>\n",
              "      <td>39.0</td>\n",
              "      <td>2810.0</td>\n",
              "      <td>670.0</td>\n",
              "      <td>1109.0</td>\n",
              "      <td>624.0</td>\n",
              "      <td>3.2500</td>\n",
              "      <td>355000.0</td>\n",
              "    </tr>\n",
              "    <tr>\n",
              "      <th>2151</th>\n",
              "      <td>-119.78</td>\n",
              "      <td>36.78</td>\n",
              "      <td>37.0</td>\n",
              "      <td>2185.0</td>\n",
              "      <td>455.0</td>\n",
              "      <td>1143.0</td>\n",
              "      <td>438.0</td>\n",
              "      <td>1.9784</td>\n",
              "      <td>70700.0</td>\n",
              "    </tr>\n",
              "    <tr>\n",
              "      <th>15927</th>\n",
              "      <td>-122.42</td>\n",
              "      <td>37.73</td>\n",
              "      <td>46.0</td>\n",
              "      <td>1819.0</td>\n",
              "      <td>411.0</td>\n",
              "      <td>1534.0</td>\n",
              "      <td>406.0</td>\n",
              "      <td>4.0132</td>\n",
              "      <td>229400.0</td>\n",
              "    </tr>\n",
              "    <tr>\n",
              "      <th>82</th>\n",
              "      <td>-122.28</td>\n",
              "      <td>37.81</td>\n",
              "      <td>52.0</td>\n",
              "      <td>340.0</td>\n",
              "      <td>97.0</td>\n",
              "      <td>200.0</td>\n",
              "      <td>87.0</td>\n",
              "      <td>1.5208</td>\n",
              "      <td>112500.0</td>\n",
              "    </tr>\n",
              "    <tr>\n",
              "      <th>8161</th>\n",
              "      <td>-118.13</td>\n",
              "      <td>33.82</td>\n",
              "      <td>37.0</td>\n",
              "      <td>1530.0</td>\n",
              "      <td>290.0</td>\n",
              "      <td>711.0</td>\n",
              "      <td>283.0</td>\n",
              "      <td>5.1795</td>\n",
              "      <td>225400.0</td>\n",
              "    </tr>\n",
              "  </tbody>\n",
              "</table>\n",
              "</div>"
            ],
            "text/plain": [
              "       longitude  latitude  housing_median_age  total_rooms  total_bedrooms  \\\n",
              "4712     -118.36     34.06                39.0       2810.0           670.0   \n",
              "2151     -119.78     36.78                37.0       2185.0           455.0   \n",
              "15927    -122.42     37.73                46.0       1819.0           411.0   \n",
              "82       -122.28     37.81                52.0        340.0            97.0   \n",
              "8161     -118.13     33.82                37.0       1530.0           290.0   \n",
              "\n",
              "       population  households  median_income  median_house_value  \n",
              "4712       1109.0       624.0         3.2500            355000.0  \n",
              "2151       1143.0       438.0         1.9784             70700.0  \n",
              "15927      1534.0       406.0         4.0132            229400.0  \n",
              "82          200.0        87.0         1.5208            112500.0  \n",
              "8161        711.0       283.0         5.1795            225400.0  "
            ]
          },
          "execution_count": 8,
          "metadata": {},
          "output_type": "execute_result"
        }
      ]
    },
    {
      "cell_type": "markdown",
      "metadata": {
        "id": "l-uj8SDyeuJG"
      },
      "source": [
        "#### Replace with the numerical ocean proximity"
      ]
    },
    {
      "cell_type": "code",
      "metadata": {
        "colab": {
          "base_uri": "https://localhost:8080/",
          "height": 460
        },
        "id": "OwNfYrvC5nFN",
        "outputId": "7a16490e-9c95-4509-f85d-6a85b9bc119e"
      },
      "source": [
        "housing_pd_final = pd.concat([housing_pd_shuffled.drop('ocean_proximity', axis=1),\n",
        "                              pd.get_dummies(housing_pd_shuffled['ocean_proximity'])], axis=1)\n",
        "housing_pd_final"
      ],
      "execution_count": null,
      "outputs": [
        {
          "data": {
            "text/html": [
              "<div>\n",
              "<style scoped>\n",
              "    .dataframe tbody tr th:only-of-type {\n",
              "        vertical-align: middle;\n",
              "    }\n",
              "\n",
              "    .dataframe tbody tr th {\n",
              "        vertical-align: top;\n",
              "    }\n",
              "\n",
              "    .dataframe thead th {\n",
              "        text-align: right;\n",
              "    }\n",
              "</style>\n",
              "<table border=\"1\" class=\"dataframe\">\n",
              "  <thead>\n",
              "    <tr style=\"text-align: right;\">\n",
              "      <th></th>\n",
              "      <th>longitude</th>\n",
              "      <th>latitude</th>\n",
              "      <th>housing_median_age</th>\n",
              "      <th>total_rooms</th>\n",
              "      <th>total_bedrooms</th>\n",
              "      <th>population</th>\n",
              "      <th>households</th>\n",
              "      <th>median_income</th>\n",
              "      <th>median_house_value</th>\n",
              "      <th>&lt;1H OCEAN</th>\n",
              "      <th>INLAND</th>\n",
              "      <th>ISLAND</th>\n",
              "      <th>NEAR BAY</th>\n",
              "      <th>NEAR OCEAN</th>\n",
              "    </tr>\n",
              "  </thead>\n",
              "  <tbody>\n",
              "    <tr>\n",
              "      <th>4712</th>\n",
              "      <td>-118.36</td>\n",
              "      <td>34.06</td>\n",
              "      <td>39.0</td>\n",
              "      <td>2810.0</td>\n",
              "      <td>670.0</td>\n",
              "      <td>1109.0</td>\n",
              "      <td>624.0</td>\n",
              "      <td>3.2500</td>\n",
              "      <td>355000.0</td>\n",
              "      <td>1</td>\n",
              "      <td>0</td>\n",
              "      <td>0</td>\n",
              "      <td>0</td>\n",
              "      <td>0</td>\n",
              "    </tr>\n",
              "    <tr>\n",
              "      <th>2151</th>\n",
              "      <td>-119.78</td>\n",
              "      <td>36.78</td>\n",
              "      <td>37.0</td>\n",
              "      <td>2185.0</td>\n",
              "      <td>455.0</td>\n",
              "      <td>1143.0</td>\n",
              "      <td>438.0</td>\n",
              "      <td>1.9784</td>\n",
              "      <td>70700.0</td>\n",
              "      <td>0</td>\n",
              "      <td>1</td>\n",
              "      <td>0</td>\n",
              "      <td>0</td>\n",
              "      <td>0</td>\n",
              "    </tr>\n",
              "    <tr>\n",
              "      <th>15927</th>\n",
              "      <td>-122.42</td>\n",
              "      <td>37.73</td>\n",
              "      <td>46.0</td>\n",
              "      <td>1819.0</td>\n",
              "      <td>411.0</td>\n",
              "      <td>1534.0</td>\n",
              "      <td>406.0</td>\n",
              "      <td>4.0132</td>\n",
              "      <td>229400.0</td>\n",
              "      <td>0</td>\n",
              "      <td>0</td>\n",
              "      <td>0</td>\n",
              "      <td>1</td>\n",
              "      <td>0</td>\n",
              "    </tr>\n",
              "    <tr>\n",
              "      <th>82</th>\n",
              "      <td>-122.28</td>\n",
              "      <td>37.81</td>\n",
              "      <td>52.0</td>\n",
              "      <td>340.0</td>\n",
              "      <td>97.0</td>\n",
              "      <td>200.0</td>\n",
              "      <td>87.0</td>\n",
              "      <td>1.5208</td>\n",
              "      <td>112500.0</td>\n",
              "      <td>0</td>\n",
              "      <td>0</td>\n",
              "      <td>0</td>\n",
              "      <td>1</td>\n",
              "      <td>0</td>\n",
              "    </tr>\n",
              "    <tr>\n",
              "      <th>8161</th>\n",
              "      <td>-118.13</td>\n",
              "      <td>33.82</td>\n",
              "      <td>37.0</td>\n",
              "      <td>1530.0</td>\n",
              "      <td>290.0</td>\n",
              "      <td>711.0</td>\n",
              "      <td>283.0</td>\n",
              "      <td>5.1795</td>\n",
              "      <td>225400.0</td>\n",
              "      <td>1</td>\n",
              "      <td>0</td>\n",
              "      <td>0</td>\n",
              "      <td>0</td>\n",
              "      <td>0</td>\n",
              "    </tr>\n",
              "    <tr>\n",
              "      <th>...</th>\n",
              "      <td>...</td>\n",
              "      <td>...</td>\n",
              "      <td>...</td>\n",
              "      <td>...</td>\n",
              "      <td>...</td>\n",
              "      <td>...</td>\n",
              "      <td>...</td>\n",
              "      <td>...</td>\n",
              "      <td>...</td>\n",
              "      <td>...</td>\n",
              "      <td>...</td>\n",
              "      <td>...</td>\n",
              "      <td>...</td>\n",
              "      <td>...</td>\n",
              "    </tr>\n",
              "    <tr>\n",
              "      <th>10955</th>\n",
              "      <td>-117.88</td>\n",
              "      <td>33.76</td>\n",
              "      <td>17.0</td>\n",
              "      <td>1768.0</td>\n",
              "      <td>474.0</td>\n",
              "      <td>1079.0</td>\n",
              "      <td>436.0</td>\n",
              "      <td>1.7823</td>\n",
              "      <td>205300.0</td>\n",
              "      <td>1</td>\n",
              "      <td>0</td>\n",
              "      <td>0</td>\n",
              "      <td>0</td>\n",
              "      <td>0</td>\n",
              "    </tr>\n",
              "    <tr>\n",
              "      <th>17289</th>\n",
              "      <td>-119.63</td>\n",
              "      <td>34.42</td>\n",
              "      <td>42.0</td>\n",
              "      <td>1765.0</td>\n",
              "      <td>263.0</td>\n",
              "      <td>753.0</td>\n",
              "      <td>260.0</td>\n",
              "      <td>8.5608</td>\n",
              "      <td>500001.0</td>\n",
              "      <td>1</td>\n",
              "      <td>0</td>\n",
              "      <td>0</td>\n",
              "      <td>0</td>\n",
              "      <td>0</td>\n",
              "    </tr>\n",
              "    <tr>\n",
              "      <th>5192</th>\n",
              "      <td>-118.26</td>\n",
              "      <td>33.93</td>\n",
              "      <td>42.0</td>\n",
              "      <td>1433.0</td>\n",
              "      <td>295.0</td>\n",
              "      <td>775.0</td>\n",
              "      <td>293.0</td>\n",
              "      <td>1.1326</td>\n",
              "      <td>104800.0</td>\n",
              "      <td>1</td>\n",
              "      <td>0</td>\n",
              "      <td>0</td>\n",
              "      <td>0</td>\n",
              "      <td>0</td>\n",
              "    </tr>\n",
              "    <tr>\n",
              "      <th>12172</th>\n",
              "      <td>-117.16</td>\n",
              "      <td>33.73</td>\n",
              "      <td>10.0</td>\n",
              "      <td>2381.0</td>\n",
              "      <td>454.0</td>\n",
              "      <td>1323.0</td>\n",
              "      <td>477.0</td>\n",
              "      <td>2.6322</td>\n",
              "      <td>140700.0</td>\n",
              "      <td>0</td>\n",
              "      <td>1</td>\n",
              "      <td>0</td>\n",
              "      <td>0</td>\n",
              "      <td>0</td>\n",
              "    </tr>\n",
              "    <tr>\n",
              "      <th>235</th>\n",
              "      <td>-122.20</td>\n",
              "      <td>37.79</td>\n",
              "      <td>35.0</td>\n",
              "      <td>1802.0</td>\n",
              "      <td>459.0</td>\n",
              "      <td>1009.0</td>\n",
              "      <td>390.0</td>\n",
              "      <td>2.3036</td>\n",
              "      <td>126000.0</td>\n",
              "      <td>0</td>\n",
              "      <td>0</td>\n",
              "      <td>0</td>\n",
              "      <td>1</td>\n",
              "      <td>0</td>\n",
              "    </tr>\n",
              "  </tbody>\n",
              "</table>\n",
              "<p>20640 rows × 14 columns</p>\n",
              "</div>"
            ],
            "text/plain": [
              "       longitude  latitude  housing_median_age  total_rooms  total_bedrooms  \\\n",
              "4712     -118.36     34.06                39.0       2810.0           670.0   \n",
              "2151     -119.78     36.78                37.0       2185.0           455.0   \n",
              "15927    -122.42     37.73                46.0       1819.0           411.0   \n",
              "82       -122.28     37.81                52.0        340.0            97.0   \n",
              "8161     -118.13     33.82                37.0       1530.0           290.0   \n",
              "...          ...       ...                 ...          ...             ...   \n",
              "10955    -117.88     33.76                17.0       1768.0           474.0   \n",
              "17289    -119.63     34.42                42.0       1765.0           263.0   \n",
              "5192     -118.26     33.93                42.0       1433.0           295.0   \n",
              "12172    -117.16     33.73                10.0       2381.0           454.0   \n",
              "235      -122.20     37.79                35.0       1802.0           459.0   \n",
              "\n",
              "       population  households  median_income  median_house_value  <1H OCEAN  \\\n",
              "4712       1109.0       624.0         3.2500            355000.0          1   \n",
              "2151       1143.0       438.0         1.9784             70700.0          0   \n",
              "15927      1534.0       406.0         4.0132            229400.0          0   \n",
              "82          200.0        87.0         1.5208            112500.0          0   \n",
              "8161        711.0       283.0         5.1795            225400.0          1   \n",
              "...           ...         ...            ...                 ...        ...   \n",
              "10955      1079.0       436.0         1.7823            205300.0          1   \n",
              "17289       753.0       260.0         8.5608            500001.0          1   \n",
              "5192        775.0       293.0         1.1326            104800.0          1   \n",
              "12172      1323.0       477.0         2.6322            140700.0          0   \n",
              "235        1009.0       390.0         2.3036            126000.0          0   \n",
              "\n",
              "       INLAND  ISLAND  NEAR BAY  NEAR OCEAN  \n",
              "4712        0       0         0           0  \n",
              "2151        1       0         0           0  \n",
              "15927       0       0         1           0  \n",
              "82          0       0         1           0  \n",
              "8161        0       0         0           0  \n",
              "...       ...     ...       ...         ...  \n",
              "10955       0       0         0           0  \n",
              "17289       0       0         0           0  \n",
              "5192        0       0         0           0  \n",
              "12172       1       0         0           0  \n",
              "235         0       0         1           0  \n",
              "\n",
              "[20640 rows x 14 columns]"
            ]
          },
          "execution_count": 9,
          "metadata": {},
          "output_type": "execute_result"
        }
      ]
    },
    {
      "cell_type": "code",
      "metadata": {
        "colab": {
          "base_uri": "https://localhost:8080/",
          "height": 460
        },
        "id": "fWSyL6Wy57fo",
        "outputId": "c8c32e16-9eea-4fa1-c22d-76a1b7633b8b"
      },
      "source": [
        "# The input variables\n",
        "housing_pd_final = housing_pd_final[['longitude',\t'latitude',\t\n",
        "                                     'housing_median_age',\t'total_rooms',\t\n",
        "                                     'total_bedrooms',\t'population',\t\n",
        "                                     'households',\t'median_income',\t\n",
        "                                     '<1H OCEAN',\t\n",
        "                                     'INLAND',\t'ISLAND',\t\n",
        "                                     'NEAR BAY',\t'NEAR OCEAN', 'median_house_value']]\n",
        "housing_pd_final"
      ],
      "execution_count": null,
      "outputs": [
        {
          "data": {
            "text/html": [
              "<div>\n",
              "<style scoped>\n",
              "    .dataframe tbody tr th:only-of-type {\n",
              "        vertical-align: middle;\n",
              "    }\n",
              "\n",
              "    .dataframe tbody tr th {\n",
              "        vertical-align: top;\n",
              "    }\n",
              "\n",
              "    .dataframe thead th {\n",
              "        text-align: right;\n",
              "    }\n",
              "</style>\n",
              "<table border=\"1\" class=\"dataframe\">\n",
              "  <thead>\n",
              "    <tr style=\"text-align: right;\">\n",
              "      <th></th>\n",
              "      <th>longitude</th>\n",
              "      <th>latitude</th>\n",
              "      <th>housing_median_age</th>\n",
              "      <th>total_rooms</th>\n",
              "      <th>total_bedrooms</th>\n",
              "      <th>population</th>\n",
              "      <th>households</th>\n",
              "      <th>median_income</th>\n",
              "      <th>&lt;1H OCEAN</th>\n",
              "      <th>INLAND</th>\n",
              "      <th>ISLAND</th>\n",
              "      <th>NEAR BAY</th>\n",
              "      <th>NEAR OCEAN</th>\n",
              "      <th>median_house_value</th>\n",
              "    </tr>\n",
              "  </thead>\n",
              "  <tbody>\n",
              "    <tr>\n",
              "      <th>4712</th>\n",
              "      <td>-118.36</td>\n",
              "      <td>34.06</td>\n",
              "      <td>39.0</td>\n",
              "      <td>2810.0</td>\n",
              "      <td>670.0</td>\n",
              "      <td>1109.0</td>\n",
              "      <td>624.0</td>\n",
              "      <td>3.2500</td>\n",
              "      <td>1</td>\n",
              "      <td>0</td>\n",
              "      <td>0</td>\n",
              "      <td>0</td>\n",
              "      <td>0</td>\n",
              "      <td>355000.0</td>\n",
              "    </tr>\n",
              "    <tr>\n",
              "      <th>2151</th>\n",
              "      <td>-119.78</td>\n",
              "      <td>36.78</td>\n",
              "      <td>37.0</td>\n",
              "      <td>2185.0</td>\n",
              "      <td>455.0</td>\n",
              "      <td>1143.0</td>\n",
              "      <td>438.0</td>\n",
              "      <td>1.9784</td>\n",
              "      <td>0</td>\n",
              "      <td>1</td>\n",
              "      <td>0</td>\n",
              "      <td>0</td>\n",
              "      <td>0</td>\n",
              "      <td>70700.0</td>\n",
              "    </tr>\n",
              "    <tr>\n",
              "      <th>15927</th>\n",
              "      <td>-122.42</td>\n",
              "      <td>37.73</td>\n",
              "      <td>46.0</td>\n",
              "      <td>1819.0</td>\n",
              "      <td>411.0</td>\n",
              "      <td>1534.0</td>\n",
              "      <td>406.0</td>\n",
              "      <td>4.0132</td>\n",
              "      <td>0</td>\n",
              "      <td>0</td>\n",
              "      <td>0</td>\n",
              "      <td>1</td>\n",
              "      <td>0</td>\n",
              "      <td>229400.0</td>\n",
              "    </tr>\n",
              "    <tr>\n",
              "      <th>82</th>\n",
              "      <td>-122.28</td>\n",
              "      <td>37.81</td>\n",
              "      <td>52.0</td>\n",
              "      <td>340.0</td>\n",
              "      <td>97.0</td>\n",
              "      <td>200.0</td>\n",
              "      <td>87.0</td>\n",
              "      <td>1.5208</td>\n",
              "      <td>0</td>\n",
              "      <td>0</td>\n",
              "      <td>0</td>\n",
              "      <td>1</td>\n",
              "      <td>0</td>\n",
              "      <td>112500.0</td>\n",
              "    </tr>\n",
              "    <tr>\n",
              "      <th>8161</th>\n",
              "      <td>-118.13</td>\n",
              "      <td>33.82</td>\n",
              "      <td>37.0</td>\n",
              "      <td>1530.0</td>\n",
              "      <td>290.0</td>\n",
              "      <td>711.0</td>\n",
              "      <td>283.0</td>\n",
              "      <td>5.1795</td>\n",
              "      <td>1</td>\n",
              "      <td>0</td>\n",
              "      <td>0</td>\n",
              "      <td>0</td>\n",
              "      <td>0</td>\n",
              "      <td>225400.0</td>\n",
              "    </tr>\n",
              "    <tr>\n",
              "      <th>...</th>\n",
              "      <td>...</td>\n",
              "      <td>...</td>\n",
              "      <td>...</td>\n",
              "      <td>...</td>\n",
              "      <td>...</td>\n",
              "      <td>...</td>\n",
              "      <td>...</td>\n",
              "      <td>...</td>\n",
              "      <td>...</td>\n",
              "      <td>...</td>\n",
              "      <td>...</td>\n",
              "      <td>...</td>\n",
              "      <td>...</td>\n",
              "      <td>...</td>\n",
              "    </tr>\n",
              "    <tr>\n",
              "      <th>10955</th>\n",
              "      <td>-117.88</td>\n",
              "      <td>33.76</td>\n",
              "      <td>17.0</td>\n",
              "      <td>1768.0</td>\n",
              "      <td>474.0</td>\n",
              "      <td>1079.0</td>\n",
              "      <td>436.0</td>\n",
              "      <td>1.7823</td>\n",
              "      <td>1</td>\n",
              "      <td>0</td>\n",
              "      <td>0</td>\n",
              "      <td>0</td>\n",
              "      <td>0</td>\n",
              "      <td>205300.0</td>\n",
              "    </tr>\n",
              "    <tr>\n",
              "      <th>17289</th>\n",
              "      <td>-119.63</td>\n",
              "      <td>34.42</td>\n",
              "      <td>42.0</td>\n",
              "      <td>1765.0</td>\n",
              "      <td>263.0</td>\n",
              "      <td>753.0</td>\n",
              "      <td>260.0</td>\n",
              "      <td>8.5608</td>\n",
              "      <td>1</td>\n",
              "      <td>0</td>\n",
              "      <td>0</td>\n",
              "      <td>0</td>\n",
              "      <td>0</td>\n",
              "      <td>500001.0</td>\n",
              "    </tr>\n",
              "    <tr>\n",
              "      <th>5192</th>\n",
              "      <td>-118.26</td>\n",
              "      <td>33.93</td>\n",
              "      <td>42.0</td>\n",
              "      <td>1433.0</td>\n",
              "      <td>295.0</td>\n",
              "      <td>775.0</td>\n",
              "      <td>293.0</td>\n",
              "      <td>1.1326</td>\n",
              "      <td>1</td>\n",
              "      <td>0</td>\n",
              "      <td>0</td>\n",
              "      <td>0</td>\n",
              "      <td>0</td>\n",
              "      <td>104800.0</td>\n",
              "    </tr>\n",
              "    <tr>\n",
              "      <th>12172</th>\n",
              "      <td>-117.16</td>\n",
              "      <td>33.73</td>\n",
              "      <td>10.0</td>\n",
              "      <td>2381.0</td>\n",
              "      <td>454.0</td>\n",
              "      <td>1323.0</td>\n",
              "      <td>477.0</td>\n",
              "      <td>2.6322</td>\n",
              "      <td>0</td>\n",
              "      <td>1</td>\n",
              "      <td>0</td>\n",
              "      <td>0</td>\n",
              "      <td>0</td>\n",
              "      <td>140700.0</td>\n",
              "    </tr>\n",
              "    <tr>\n",
              "      <th>235</th>\n",
              "      <td>-122.20</td>\n",
              "      <td>37.79</td>\n",
              "      <td>35.0</td>\n",
              "      <td>1802.0</td>\n",
              "      <td>459.0</td>\n",
              "      <td>1009.0</td>\n",
              "      <td>390.0</td>\n",
              "      <td>2.3036</td>\n",
              "      <td>0</td>\n",
              "      <td>0</td>\n",
              "      <td>0</td>\n",
              "      <td>1</td>\n",
              "      <td>0</td>\n",
              "      <td>126000.0</td>\n",
              "    </tr>\n",
              "  </tbody>\n",
              "</table>\n",
              "<p>20640 rows × 14 columns</p>\n",
              "</div>"
            ],
            "text/plain": [
              "       longitude  latitude  housing_median_age  total_rooms  total_bedrooms  \\\n",
              "4712     -118.36     34.06                39.0       2810.0           670.0   \n",
              "2151     -119.78     36.78                37.0       2185.0           455.0   \n",
              "15927    -122.42     37.73                46.0       1819.0           411.0   \n",
              "82       -122.28     37.81                52.0        340.0            97.0   \n",
              "8161     -118.13     33.82                37.0       1530.0           290.0   \n",
              "...          ...       ...                 ...          ...             ...   \n",
              "10955    -117.88     33.76                17.0       1768.0           474.0   \n",
              "17289    -119.63     34.42                42.0       1765.0           263.0   \n",
              "5192     -118.26     33.93                42.0       1433.0           295.0   \n",
              "12172    -117.16     33.73                10.0       2381.0           454.0   \n",
              "235      -122.20     37.79                35.0       1802.0           459.0   \n",
              "\n",
              "       population  households  median_income  <1H OCEAN  INLAND  ISLAND  \\\n",
              "4712       1109.0       624.0         3.2500          1       0       0   \n",
              "2151       1143.0       438.0         1.9784          0       1       0   \n",
              "15927      1534.0       406.0         4.0132          0       0       0   \n",
              "82          200.0        87.0         1.5208          0       0       0   \n",
              "8161        711.0       283.0         5.1795          1       0       0   \n",
              "...           ...         ...            ...        ...     ...     ...   \n",
              "10955      1079.0       436.0         1.7823          1       0       0   \n",
              "17289       753.0       260.0         8.5608          1       0       0   \n",
              "5192        775.0       293.0         1.1326          1       0       0   \n",
              "12172      1323.0       477.0         2.6322          0       1       0   \n",
              "235        1009.0       390.0         2.3036          0       0       0   \n",
              "\n",
              "       NEAR BAY  NEAR OCEAN  median_house_value  \n",
              "4712          0           0            355000.0  \n",
              "2151          0           0             70700.0  \n",
              "15927         1           0            229400.0  \n",
              "82            1           0            112500.0  \n",
              "8161          0           0            225400.0  \n",
              "...         ...         ...                 ...  \n",
              "10955         0           0            205300.0  \n",
              "17289         0           0            500001.0  \n",
              "5192          0           0            104800.0  \n",
              "12172         0           0            140700.0  \n",
              "235           1           0            126000.0  \n",
              "\n",
              "[20640 rows x 14 columns]"
            ]
          },
          "execution_count": 10,
          "metadata": {},
          "output_type": "execute_result"
        }
      ]
    },
    {
      "cell_type": "markdown",
      "metadata": {
        "id": "t2i60lHyeuJL"
      },
      "source": [
        "#### Remove rows with the null values"
      ]
    },
    {
      "cell_type": "code",
      "metadata": {
        "colab": {
          "base_uri": "https://localhost:8080/"
        },
        "id": "D16rxevT6xve",
        "outputId": "e8d0d951-fa1c-413c-9265-4694460d1648"
      },
      "source": [
        "housing_pd_final = housing_pd_final.dropna()\n",
        "len(housing_pd_final)"
      ],
      "execution_count": null,
      "outputs": [
        {
          "data": {
            "text/plain": [
              "20433"
            ]
          },
          "execution_count": 11,
          "metadata": {},
          "output_type": "execute_result"
        }
      ]
    },
    {
      "cell_type": "markdown",
      "metadata": {
        "id": "3S1KPU5VeuJO"
      },
      "source": [
        "#### Split data to training, testing and validation sets"
      ]
    },
    {
      "cell_type": "code",
      "metadata": {
        "colab": {
          "base_uri": "https://localhost:8080/"
        },
        "id": "R97mZLVw87aA",
        "outputId": "6ebb8afa-5be2-4d6f-fed0-d50f6f8e6343"
      },
      "source": [
        "train_pd, test_pd, val_pd = housing_pd_final[:18000], housing_pd_final[18000:19217], housing_pd_final[19215:]\n",
        "len(train_pd), len(test_pd), len(val_pd)"
      ],
      "execution_count": null,
      "outputs": [
        {
          "data": {
            "text/plain": [
              "(18000, 1217, 1218)"
            ]
          },
          "execution_count": 12,
          "metadata": {},
          "output_type": "execute_result"
        }
      ]
    },
    {
      "cell_type": "code",
      "metadata": {
        "colab": {
          "base_uri": "https://localhost:8080/"
        },
        "id": "LwfTPXHf9Xac",
        "outputId": "12620658-fac7-4802-e647-49a5368f730a"
      },
      "source": [
        "X_train, y_train = train_pd.to_numpy()[:, :-1], train_pd.to_numpy()[:, -1]  # converts into numpy arrays\n",
        "X_val, y_val = val_pd.to_numpy()[:, :-1], val_pd.to_numpy()[:, -1]\n",
        "X_test, y_test = test_pd.to_numpy()[:, :-1], test_pd.to_numpy()[:, -1]\n",
        "\n",
        "X_train.shape, y_train.shape, X_val.shape, y_val.shape, X_test.shape, y_test.shape"
      ],
      "execution_count": null,
      "outputs": [
        {
          "data": {
            "text/plain": [
              "((18000, 13), (18000,), (1218, 13), (1218,), (1217, 13), (1217,))"
            ]
          },
          "execution_count": 19,
          "metadata": {},
          "output_type": "execute_result"
        }
      ]
    },
    {
      "cell_type": "markdown",
      "metadata": {
        "id": "49gfmPBveuJU"
      },
      "source": [
        "#### Scaling and preprocessing the data"
      ]
    },
    {
      "cell_type": "code",
      "metadata": {
        "id": "KTwC3xG3-ttV",
        "outputId": "490ec49a-ee2b-4fc3-8f05-ef40f35c20e4"
      },
      "source": [
        "from sklearn.preprocessing import StandardScaler\n",
        "import numpy as np\n",
        "\n",
        "scaler = StandardScaler().fit(X_train[:, :8]) # number of variables (7 +1) - first 7 columns\n",
        "\n",
        "def preprocessor(X):\n",
        "  A = np.copy(X)\n",
        "  A[:, :8] = scaler.transform(A[:, :8])\n",
        "  return A\n",
        "\n",
        "X_train, X_val, X_test = preprocessor(X_train), preprocessor(X_val), preprocessor(X_test)\n",
        "\n",
        "X_train_preprocessed = preprocessor(X_train)\n",
        "X_train_preprocessed"
      ],
      "execution_count": null,
      "outputs": [
        {
          "data": {
            "text/plain": [
              "array([[ 0.60344338, -0.73607301,  0.82084451, ...,  0.        ,\n",
              "         0.        ,  0.        ],\n",
              "       [-0.10512186,  0.53710782,  0.66177382, ...,  0.        ,\n",
              "         0.        ,  0.        ],\n",
              "       [-1.42245442,  0.98178495,  1.37759191, ...,  0.        ,\n",
              "         1.        ,  0.        ],\n",
              "       ...,\n",
              "       [ 0.59346359, -0.7313922 , -0.61079167, ...,  0.        ,\n",
              "         0.        ,  0.        ],\n",
              "       [ 1.12738246, -0.7313922 ,  0.90037985, ...,  0.        ,\n",
              "         0.        ,  0.        ],\n",
              "       [ 0.92279673, -0.94202873, -0.61079167, ...,  0.        ,\n",
              "         0.        ,  0.        ]])"
            ]
          },
          "execution_count": 26,
          "metadata": {},
          "output_type": "execute_result"
        }
      ]
    },
    {
      "cell_type": "code",
      "metadata": {
        "colab": {
          "base_uri": "https://localhost:8080/"
        },
        "id": "QGdkjnZIBwHe",
        "outputId": "7c82f39f-f525-4f74-a436-1907af265c64"
      },
      "source": [
        "X_train.shape, X_val.shape, X_test.shape"
      ],
      "execution_count": null,
      "outputs": [
        {
          "data": {
            "text/plain": [
              "((18000, 13), (1218, 13), (1217, 13))"
            ]
          },
          "execution_count": 27,
          "metadata": {},
          "output_type": "execute_result"
        }
      ]
    },
    {
      "cell_type": "code",
      "metadata": {
        "colab": {
          "base_uri": "https://localhost:8080/",
          "height": 205
        },
        "id": "35qhlLJXA6Tj",
        "outputId": "49602171-492d-43fc-a32c-32ffac018bd7"
      },
      "source": [
        "pd.DataFrame(X_train_preprocessed).head()"
      ],
      "execution_count": null,
      "outputs": [
        {
          "data": {
            "text/html": [
              "<div>\n",
              "<style scoped>\n",
              "    .dataframe tbody tr th:only-of-type {\n",
              "        vertical-align: middle;\n",
              "    }\n",
              "\n",
              "    .dataframe tbody tr th {\n",
              "        vertical-align: top;\n",
              "    }\n",
              "\n",
              "    .dataframe thead th {\n",
              "        text-align: right;\n",
              "    }\n",
              "</style>\n",
              "<table border=\"1\" class=\"dataframe\">\n",
              "  <thead>\n",
              "    <tr style=\"text-align: right;\">\n",
              "      <th></th>\n",
              "      <th>0</th>\n",
              "      <th>1</th>\n",
              "      <th>2</th>\n",
              "      <th>3</th>\n",
              "      <th>4</th>\n",
              "      <th>5</th>\n",
              "      <th>6</th>\n",
              "      <th>7</th>\n",
              "      <th>8</th>\n",
              "      <th>9</th>\n",
              "      <th>10</th>\n",
              "      <th>11</th>\n",
              "      <th>12</th>\n",
              "    </tr>\n",
              "  </thead>\n",
              "  <tbody>\n",
              "    <tr>\n",
              "      <th>0</th>\n",
              "      <td>0.603443</td>\n",
              "      <td>-0.736073</td>\n",
              "      <td>0.820845</td>\n",
              "      <td>0.081039</td>\n",
              "      <td>0.315396</td>\n",
              "      <td>-0.276840</td>\n",
              "      <td>0.328234</td>\n",
              "      <td>-0.326667</td>\n",
              "      <td>1.0</td>\n",
              "      <td>0.0</td>\n",
              "      <td>0.0</td>\n",
              "      <td>0.0</td>\n",
              "      <td>0.0</td>\n",
              "    </tr>\n",
              "    <tr>\n",
              "      <th>1</th>\n",
              "      <td>-0.105122</td>\n",
              "      <td>0.537108</td>\n",
              "      <td>0.661774</td>\n",
              "      <td>-0.206526</td>\n",
              "      <td>-0.196843</td>\n",
              "      <td>-0.246809</td>\n",
              "      <td>-0.160526</td>\n",
              "      <td>-0.995001</td>\n",
              "      <td>0.0</td>\n",
              "      <td>1.0</td>\n",
              "      <td>0.0</td>\n",
              "      <td>0.0</td>\n",
              "      <td>0.0</td>\n",
              "    </tr>\n",
              "    <tr>\n",
              "      <th>2</th>\n",
              "      <td>-1.422454</td>\n",
              "      <td>0.981785</td>\n",
              "      <td>1.377592</td>\n",
              "      <td>-0.374924</td>\n",
              "      <td>-0.301674</td>\n",
              "      <td>0.098553</td>\n",
              "      <td>-0.244613</td>\n",
              "      <td>0.074459</td>\n",
              "      <td>0.0</td>\n",
              "      <td>0.0</td>\n",
              "      <td>0.0</td>\n",
              "      <td>1.0</td>\n",
              "      <td>0.0</td>\n",
              "    </tr>\n",
              "    <tr>\n",
              "      <th>3</th>\n",
              "      <td>-1.352596</td>\n",
              "      <td>1.019231</td>\n",
              "      <td>1.854804</td>\n",
              "      <td>-1.055419</td>\n",
              "      <td>-1.049782</td>\n",
              "      <td>-1.079740</td>\n",
              "      <td>-1.082862</td>\n",
              "      <td>-1.235508</td>\n",
              "      <td>0.0</td>\n",
              "      <td>0.0</td>\n",
              "      <td>0.0</td>\n",
              "      <td>1.0</td>\n",
              "      <td>0.0</td>\n",
              "    </tr>\n",
              "    <tr>\n",
              "      <th>4</th>\n",
              "      <td>0.718211</td>\n",
              "      <td>-0.848412</td>\n",
              "      <td>0.661774</td>\n",
              "      <td>-0.507894</td>\n",
              "      <td>-0.589957</td>\n",
              "      <td>-0.628385</td>\n",
              "      <td>-0.567825</td>\n",
              "      <td>0.687448</td>\n",
              "      <td>1.0</td>\n",
              "      <td>0.0</td>\n",
              "      <td>0.0</td>\n",
              "      <td>0.0</td>\n",
              "      <td>0.0</td>\n",
              "    </tr>\n",
              "  </tbody>\n",
              "</table>\n",
              "</div>"
            ],
            "text/plain": [
              "         0         1         2         3         4         5         6   \\\n",
              "0  0.603443 -0.736073  0.820845  0.081039  0.315396 -0.276840  0.328234   \n",
              "1 -0.105122  0.537108  0.661774 -0.206526 -0.196843 -0.246809 -0.160526   \n",
              "2 -1.422454  0.981785  1.377592 -0.374924 -0.301674  0.098553 -0.244613   \n",
              "3 -1.352596  1.019231  1.854804 -1.055419 -1.049782 -1.079740 -1.082862   \n",
              "4  0.718211 -0.848412  0.661774 -0.507894 -0.589957 -0.628385 -0.567825   \n",
              "\n",
              "         7    8    9    10   11   12  \n",
              "0 -0.326667  1.0  0.0  0.0  0.0  0.0  \n",
              "1 -0.995001  0.0  1.0  0.0  0.0  0.0  \n",
              "2  0.074459  0.0  0.0  0.0  1.0  0.0  \n",
              "3 -1.235508  0.0  0.0  0.0  1.0  0.0  \n",
              "4  0.687448  1.0  0.0  0.0  0.0  0.0  "
            ]
          },
          "execution_count": 28,
          "metadata": {},
          "output_type": "execute_result"
        }
      ]
    },
    {
      "cell_type": "code",
      "metadata": {
        "colab": {
          "base_uri": "https://localhost:8080/",
          "height": 282
        },
        "id": "pYj6apKkBKtQ",
        "outputId": "9d193d75-19c1-455c-89b4-4583a9b00f8b"
      },
      "source": [
        "pd.DataFrame(X_train_preprocessed)[0].hist()"
      ],
      "execution_count": null,
      "outputs": [
        {
          "data": {
            "text/plain": [
              "<AxesSubplot:>"
            ]
          },
          "execution_count": 31,
          "metadata": {},
          "output_type": "execute_result"
        },
        {
          "data": {
            "image/png": "[encoded data removed]",
            "text/plain": [
              "<Figure size 432x288 with 1 Axes>"
            ]
          },
          "metadata": {
            "needs_background": "light"
          },
          "output_type": "display_data"
        }
      ]
    },
    {
      "cell_type": "code",
      "metadata": {
        "id": "XmYo6IRkeuJb"
      },
      "source": [
        ""
      ],
      "execution_count": null,
      "outputs": []
    },
    {
      "cell_type": "markdown",
      "metadata": {
        "id": "ktfIITOieuJc"
      },
      "source": [
        "#### Train the models using sklearn estimators"
      ]
    },
    {
      "cell_type": "code",
      "metadata": {
        "colab": {
          "base_uri": "https://localhost:8080/"
        },
        "id": "8qGMVzkiChUO",
        "outputId": "855dd2f9-826a-49e7-de95-77a82d3e150d"
      },
      "source": [
        "from sklearn.metrics import mean_squared_error as mse\n",
        "from sklearn.linear_model import LinearRegression\n",
        "\n",
        "lm = LinearRegression().fit(X_train, y_train)\n",
        "mse(lm.predict(X_train), y_train, squared=False), mse(lm.predict(X_val), y_val, squared=False) # compare the predictions with training and validation"
      ],
      "execution_count": null,
      "outputs": [
        {
          "data": {
            "text/plain": [
              "(68597.44105390602, 71436.82952222903)"
            ]
          },
          "execution_count": 32,
          "metadata": {},
          "output_type": "execute_result"
        }
      ]
    },
    {
      "cell_type": "code",
      "metadata": {
        "colab": {
          "base_uri": "https://localhost:8080/"
        },
        "id": "ZiCqR084C9ZB",
        "outputId": "254cf32c-efd1-460f-a4c2-e5f1fea7e02c"
      },
      "source": [
        "from sklearn.neighbors import KNeighborsRegressor\n",
        "\n",
        "knn = KNeighborsRegressor(n_neighbors=10).fit(X_train, y_train)\n",
        "mse(knn.predict(X_train), y_train, squared=False), mse(knn.predict(X_val), y_val, squared=False)"
      ],
      "execution_count": null,
      "outputs": [
        {
          "data": {
            "text/plain": [
              "(53759.09908812057, 62161.22860469906)"
            ]
          },
          "execution_count": 33,
          "metadata": {},
          "output_type": "execute_result"
        }
      ]
    },
    {
      "cell_type": "code",
      "metadata": {
        "colab": {
          "base_uri": "https://localhost:8080/"
        },
        "id": "YX3GllmBDxhh",
        "outputId": "13b092c6-861e-44bd-c2c3-935a57ba4cd1"
      },
      "source": [
        "from sklearn.ensemble import RandomForestRegressor\n",
        "\n",
        "rfr = RandomForestRegressor(max_depth=10).fit(X_train, y_train)\n",
        "mse(rfr.predict(X_train), y_train, squared=False), mse(rfr.predict(X_val), y_val, squared=False)"
      ],
      "execution_count": null,
      "outputs": [
        {
          "data": {
            "text/plain": [
              "(43586.05613172219, 53498.19191018823)"
            ]
          },
          "execution_count": 34,
          "metadata": {},
          "output_type": "execute_result"
        }
      ]
    },
    {
      "cell_type": "code",
      "metadata": {
        "colab": {
          "base_uri": "https://localhost:8080/"
        },
        "id": "VLuWncFHEV_q",
        "outputId": "c0a35a35-9e32-40b9-a1d4-be1c0d65394e"
      },
      "source": [
        "from sklearn.ensemble import GradientBoostingRegressor\n",
        "\n",
        "gbr = GradientBoostingRegressor(n_estimators=250).fit(X_train, y_train)\n",
        "mse(gbr.predict(X_train), y_train, squared=False), mse(gbr.predict(X_val), y_val, squared=False)"
      ],
      "execution_count": null,
      "outputs": [
        {
          "data": {
            "text/plain": [
              "(47274.82259072157, 51380.157990645246)"
            ]
          },
          "execution_count": 35,
          "metadata": {},
          "output_type": "execute_result"
        }
      ]
    },
    {
      "cell_type": "code",
      "metadata": {
        "id": "IyXiOBJ3euJr"
      },
      "source": [
        ""
      ],
      "execution_count": null,
      "outputs": []
    },
    {
      "cell_type": "code",
      "metadata": {
        "id": "yBgAyUddeuJr"
      },
      "source": [
        ""
      ],
      "execution_count": null,
      "outputs": []
    },
    {
      "cell_type": "markdown",
      "metadata": {
        "id": "D4uOfYmweuJs"
      },
      "source": [
        "### Lets make three different neural networks"
      ]
    },
    {
      "cell_type": "code",
      "metadata": {
        "id": "H7isnnEiE10q",
        "outputId": "0cb21369-3e6e-491d-d7b7-aa1ea7a5c9b3"
      },
      "source": [
        "from tensorflow.keras.models import Sequential # in order instead of layers\n",
        "from tensorflow.keras.layers import *\n",
        "from tensorflow.keras.callbacks import ModelCheckpoint\n",
        "from tensorflow.keras.metrics import RootMeanSquaredError\n",
        "from tensorflow.keras.optimizers import Adam\n",
        "\n",
        "# Simple neural network\n",
        "simple_nn = Sequential()\n",
        "simple_nn.add(InputLayer((13,))) # 13 inputs (the predictors)\n",
        "simple_nn.add(Dense(2, 'relu')) # reduce the predictors to two\n",
        "simple_nn.add(Dense(1, 'linear')) # linear means a continuous variable\n",
        "\n",
        "# optimiser\n",
        "opt = Adam(learning_rate=.1) # can change the rate like +10 but .1 does better\n",
        "cp = ModelCheckpoint('models/simple_nn', save_best_only=True)\n",
        "simple_nn.compile(optimizer=opt, loss='mse', metrics=[RootMeanSquaredError()])\n",
        "simple_nn.fit(x=X_train, y=y_train, validation_data=(X_val, y_val), callbacks=[cp], epochs=100) # Fit the model\n",
        "\n",
        "## check at the least val loss"
      ],
      "execution_count": null,
      "outputs": [
        {
          "name": "stdout",
          "output_type": "stream",
          "text": [
            "Epoch 1/100\n",
            "563/563 [==============================] - 6s 4ms/step - loss: 53841645568.0000 - root_mean_squared_error: 232038.0312 - val_loss: 49742569472.0000 - val_root_mean_squared_error: 223030.4219\n",
            "INFO:tensorflow:Assets written to: models\\simple_nn\\assets\n",
            "Epoch 2/100\n",
            "563/563 [==============================] - 2s 4ms/step - loss: 42032955392.0000 - root_mean_squared_error: 205019.4062 - val_loss: 34284482560.0000 - val_root_mean_squared_error: 185160.6875\n",
            "INFO:tensorflow:Assets written to: models\\simple_nn\\assets\n",
            "Epoch 3/100\n",
            "563/563 [==============================] - 2s 4ms/step - loss: 24941699072.0000 - root_mean_squared_error: 157929.4062 - val_loss: 17566236672.0000 - val_root_mean_squared_error: 132537.6875\n",
            "INFO:tensorflow:Assets written to: models\\simple_nn\\assets\n",
            "Epoch 4/100\n",
            "563/563 [==============================] - 2s 4ms/step - loss: 12080143360.0000 - root_mean_squared_error: 109909.7031 - val_loss: 8622441472.0000 - val_root_mean_squared_error: 92857.1016\n",
            "INFO:tensorflow:Assets written to: models\\simple_nn\\assets\n",
            "Epoch 5/100\n",
            "563/563 [==============================] - 3s 5ms/step - loss: 6665333248.0000 - root_mean_squared_error: 81641.4922 - val_loss: 5853822464.0000 - val_root_mean_squared_error: 76510.2734\n",
            "INFO:tensorflow:Assets written to: models\\simple_nn\\assets\n",
            "Epoch 6/100\n",
            "563/563 [==============================] - 2s 4ms/step - loss: 5256728064.0000 - root_mean_squared_error: 72503.2969 - val_loss: 5296989696.0000 - val_root_mean_squared_error: 72780.4219\n",
            "INFO:tensorflow:Assets written to: models\\simple_nn\\assets\n",
            "Epoch 7/100\n",
            "563/563 [==============================] - 2s 4ms/step - loss: 4937282560.0000 - root_mean_squared_error: 70265.7969 - val_loss: 5190025728.0000 - val_root_mean_squared_error: 72041.8359\n",
            "INFO:tensorflow:Assets written to: models\\simple_nn\\assets\n",
            "Epoch 8/100\n",
            "563/563 [==============================] - 3s 4ms/step - loss: 4822936064.0000 - root_mean_squared_error: 69447.3594 - val_loss: 5125859840.0000 - val_root_mean_squared_error: 71595.1094011138560.0000 - root_mean_squared_error: 70789. - ETA: 1s - loss: 5004253184.0000 - root_mean_squared - ETA: 1s - loss: 4902782976.0000 -\n",
            "INFO:tensorflow:Assets written to: models\\simple_nn\\assets\n",
            "Epoch 9/100\n",
            "563/563 [==============================] - 3s 5ms/step - loss: 4767107584.0000 - root_mean_squared_error: 69044.2422 - val_loss: 5135438848.0000 - val_root_mean_squared_error: 71661.9766\n",
            "Epoch 10/100\n",
            "563/563 [==============================] - 3s 5ms/step - loss: 4737038336.0000 - root_mean_squared_error: 68826.1484 - val_loss: 5112305152.0000 - val_root_mean_squared_error: 71500.3828\n",
            "INFO:tensorflow:Assets written to: models\\simple_nn\\assets\n",
            "Epoch 11/100\n",
            "563/563 [==============================] - 3s 5ms/step - loss: 4718633984.0000 - root_mean_squared_error: 68692.3125 - val_loss: 5112725504.0000 - val_root_mean_squared_error: 71503.3281\n",
            "Epoch 12/100\n",
            "563/563 [==============================] - 3s 5ms/step - loss: 4706685440.0000 - root_mean_squared_error: 68605.2891 - val_loss: 5112360448.0000 - val_root_mean_squared_error: 71500.7734\n",
            "Epoch 13/100\n",
            "563/563 [==============================] - 3s 5ms/step - loss: 4696509440.0000 - root_mean_squared_error: 68531.0859 - val_loss: 5103939584.0000 - val_root_mean_squared_error: 71441.8594\n",
            "INFO:tensorflow:Assets written to: models\\simple_nn\\assets\n",
            "Epoch 14/100\n",
            "563/563 [==============================] - 3s 5ms/step - loss: 4689177600.0000 - root_mean_squared_error: 68477.5703 - val_loss: 5106572800.0000 - val_root_mean_squared_error: 71460.2891\n",
            "Epoch 15/100\n",
            "563/563 [==============================] - 3s 5ms/step - loss: 4681538048.0000 - root_mean_squared_error: 68421.7656 - val_loss: 5092282368.0000 - val_root_mean_squared_error: 71360.22669465856.0000 - r\n",
            "INFO:tensorflow:Assets written to: models\\simple_nn\\assets\n",
            "Epoch 16/100\n",
            "563/563 [==============================] - 2s 4ms/step - loss: 4677364224.0000 - root_mean_squared_error: 68391.2578 - val_loss: 5092537344.0000 - val_root_mean_squared_error: 71362.0156\n",
            "Epoch 17/100\n",
            "563/563 [==============================] - 3s 5ms/step - loss: 4671872512.0000 - root_mean_squared_error: 68351.0938 - val_loss: 5091373056.0000 - val_root_mean_squared_error: 71353.8594\n",
            "INFO:tensorflow:Assets written to: models\\simple_nn\\assets\n",
            "Epoch 18/100\n",
            "563/563 [==============================] - 3s 4ms/step - loss: 4669312000.0000 - root_mean_squared_error: 68332.3672 - val_loss: 5103417344.0000 - val_root_mean_squared_error: 71438.2031\n",
            "Epoch 19/100\n",
            "563/563 [==============================] - 3s 6ms/step - loss: 4667453440.0000 - root_mean_squared_error: 68318.7656 - val_loss: 5096227840.0000 - val_root_mean_squared_error: 71387.8672\n",
            "Epoch 20/100\n",
            "563/563 [==============================] - 3s 5ms/step - loss: 4663036416.0000 - root_mean_squared_error: 68286.4297 - val_loss: 5104992768.0000 - val_root_mean_squared_error: 71449.2344\n",
            "Epoch 21/100\n",
            "563/563 [==============================] - 3s 5ms/step - loss: 4663163392.0000 - root_mean_squared_error: 68287.3594 - val_loss: 5091652608.0000 - val_root_mean_squared_error: 71355.8203\n",
            "Epoch 22/100\n",
            "563/563 [==============================] - 3s 5ms/step - loss: 4659964416.0000 - root_mean_squared_error: 68263.9297 - val_loss: 5083274752.0000 - val_root_mean_squared_error: 71297.0859\n",
            "INFO:tensorflow:Assets written to: models\\simple_nn\\assets\n",
            "Epoch 23/100\n",
            "563/563 [==============================] - 3s 5ms/step - loss: 4657469440.0000 - root_mean_squared_error: 68245.6562 - val_loss: 5089358336.0000 - val_root_mean_squared_error: 71339.7422\n",
            "Epoch 24/100\n",
            "563/563 [==============================] - 3s 5ms/step - loss: 4657456128.0000 - root_mean_squared_error: 68245.5547 - val_loss: 5084895232.0000 - val_root_mean_squared_error: 71308.4531\n",
            "Epoch 25/100\n",
            "563/563 [==============================] - 3s 5ms/step - loss: 4656005120.0000 - root_mean_squared_error: 68234.9297 - val_loss: 5084592128.0000 - val_root_mean_squared_error: 71306.3281\n",
            "Epoch 26/100\n",
            "563/563 [==============================] - 3s 5ms/step - loss: 4655662080.0000 - root_mean_squared_error: 68232.4141 - val_loss: 5079493632.0000 - val_root_mean_squared_error: 71270.5625\n",
            "INFO:tensorflow:Assets written to: models\\simple_nn\\assets\n",
            "Epoch 27/100\n",
            "563/563 [==============================] - 2s 4ms/step - loss: 4653614592.0000 - root_mean_squared_error: 68217.4062 - val_loss: 5089726976.0000 - val_root_mean_squared_error: 71342.3203\n",
            "Epoch 28/100\n",
            "563/563 [==============================] - 2s 4ms/step - loss: 4652487680.0000 - root_mean_squared_error: 68209.1484 - val_loss: 5068986880.0000 - val_root_mean_squared_error: 71196.8203\n",
            "INFO:tensorflow:Assets written to: models\\simple_nn\\assets\n",
            "Epoch 29/100\n",
            "563/563 [==============================] - 3s 5ms/step - loss: 4651984384.0000 - root_mean_squared_error: 68205.4609 - val_loss: 5071808512.0000 - val_root_mean_squared_error: 71216.6328\n",
            "Epoch 30/100\n",
            "563/563 [==============================] - 3s 5ms/step - loss: 4651599872.0000 - root_mean_squared_error: 68202.6406 - val_loss: 5069626880.0000 - val_root_mean_squared_error: 71201.3125\n",
            "Epoch 31/100\n",
            "563/563 [==============================] - 3s 5ms/step - loss: 4650755584.0000 - root_mean_squared_error: 68196.4453 - val_loss: 5087246848.0000 - val_root_mean_squared_error: 71324.9375\n",
            "Epoch 32/100\n",
            "563/563 [==============================] - 2s 3ms/step - loss: 4650198016.0000 - root_mean_squared_error: 68192.3594 - val_loss: 5073484800.0000 - val_root_mean_squared_error: 71228.3984\n",
            "Epoch 33/100\n",
            "563/563 [==============================] - 2s 3ms/step - loss: 4649027584.0000 - root_mean_squared_error: 68183.7812 - val_loss: 5073051136.0000 - val_root_mean_squared_error: 71225.3516\n",
            "Epoch 34/100\n",
            "563/563 [==============================] - 2s 4ms/step - loss: 4649352704.0000 - root_mean_squared_error: 68186.1641 - val_loss: 5076779520.0000 - val_root_mean_squared_error: 71251.5234\n",
            "Epoch 35/100\n",
            "563/563 [==============================] - 3s 4ms/step - loss: 4648751104.0000 - root_mean_squared_error: 68181.7500 - val_loss: 5071215104.0000 - val_root_mean_squared_error: 71212.4609\n",
            "Epoch 36/100\n",
            "563/563 [==============================] - 2s 4ms/step - loss: 4648573440.0000 - root_mean_squared_error: 68180.4453 - val_loss: 5078484992.0000 - val_root_mean_squared_error: 71263.4922\n",
            "Epoch 37/100\n",
            "563/563 [==============================] - 2s 3ms/step - loss: 4647247872.0000 - root_mean_squared_error: 68170.7266 - val_loss: 5078313984.0000 - val_root_mean_squared_error: 71262.2891\n",
            "Epoch 38/100\n",
            "563/563 [==============================] - 2s 3ms/step - loss: 4648651264.0000 - root_mean_squared_error: 68181.0156 - val_loss: 5063597056.0000 - val_root_mean_squared_error: 71158.9531\n",
            "INFO:tensorflow:Assets written to: models\\simple_nn\\assets\n",
            "Epoch 39/100\n",
            "563/563 [==============================] - 2s 3ms/step - loss: 4647100928.0000 - root_mean_squared_error: 68169.6484 - val_loss: 5071941632.0000 - val_root_mean_squared_error: 71217.5625oot_mean_squared_error: \n",
            "Epoch 40/100\n",
            "563/563 [==============================] - 2s 3ms/step - loss: 4646956032.0000 - root_mean_squared_error: 68168.5859 - val_loss: 5081131520.0000 - val_root_mean_squared_error: 71282.0547\n",
            "Epoch 41/100\n",
            "563/563 [==============================] - 2s 3ms/step - loss: 4646789632.0000 - root_mean_squared_error: 68167.3672 - val_loss: 5075244032.0000 - val_root_mean_squared_error: 71240.7500\n",
            "Epoch 42/100\n",
            "563/563 [==============================] - 2s 3ms/step - loss: 4644737536.0000 - root_mean_squared_error: 68152.3125 - val_loss: 5080880640.0000 - val_root_mean_squared_error: 71280.2969\n",
            "Epoch 43/100\n",
            "563/563 [==============================] - 2s 3ms/step - loss: 4646265856.0000 - root_mean_squared_error: 68163.5234 - val_loss: 5080065536.0000 - val_root_mean_squared_error: 71274.5781\n",
            "Epoch 44/100\n",
            "563/563 [==============================] - 2s 3ms/step - loss: 4646222848.0000 - root_mean_squared_error: 68163.2109 - val_loss: 5082046464.0000 - val_root_mean_squared_error: 71288.4766\n",
            "Epoch 45/100\n",
            "563/563 [==============================] - 2s 3ms/step - loss: 4644955648.0000 - root_mean_squared_error: 68153.9141 - val_loss: 5078579712.0000 - val_root_mean_squared_error: 71264.1562\n",
            "Epoch 46/100\n",
            "563/563 [==============================] - 2s 3ms/step - loss: 4645484544.0000 - root_mean_squared_error: 68157.7891 - val_loss: 5064742400.0000 - val_root_mean_squared_error: 71167.00000000 - root_mean_squared_error: 67 - ETA: 0s - loss: 4598481920.0000 - root_mean_squared_error: 67812.10 - ETA: 0s - loss: 4598667776.0000 - root_mean_squared_error\n",
            "Epoch 47/100\n",
            "563/563 [==============================] - 2s 4ms/step - loss: 4644566528.0000 - root_mean_squared_error: 68151.0547 - val_loss: 5076137472.0000 - val_root_mean_squared_error: 71247.0156\n",
            "Epoch 48/100\n",
            "563/563 [==============================] - 2s 3ms/step - loss: 4645257216.0000 - root_mean_squared_error: 68156.1250 - val_loss: 5072297984.0000 - val_root_mean_squared_error: 71220.0703\n",
            "Epoch 49/100\n",
            "563/563 [==============================] - 2s 3ms/step - loss: 4643997184.0000 - root_mean_squared_error: 68146.8828 - val_loss: 5069105152.0000 - val_root_mean_squared_error: 71197.6484584.0000 - root_mean_squared_err\n",
            "Epoch 50/100\n",
            "563/563 [==============================] - 2s 3ms/step - loss: 4643751424.0000 - root_mean_squared_error: 68145.0781 - val_loss: 5081895936.0000 - val_root_mean_squared_error: 71287.4141or: 68203.73\n",
            "Epoch 51/100\n",
            "563/563 [==============================] - 2s 3ms/step - loss: 4644371968.0000 - root_mean_squared_error: 68149.6328 - val_loss: 5077061120.0000 - val_root_mean_squared_error: 71253.5000\n",
            "Epoch 52/100\n",
            "563/563 [==============================] - 2s 3ms/step - loss: 4643317248.0000 - root_mean_squared_error: 68141.8906 - val_loss: 5068006912.0000 - val_root_mean_squared_error: 71189.9375\n",
            "Epoch 53/100\n",
            "563/563 [==============================] - 2s 3ms/step - loss: 4644312064.0000 - root_mean_squared_error: 68149.1875 - val_loss: 5065799168.0000 - val_root_mean_squared_error: 71174.4297\n",
            "Epoch 54/100\n",
            "563/563 [==============================] - 2s 3ms/step - loss: 4643927552.0000 - root_mean_squared_error: 68146.3672 - val_loss: 5075688448.0000 - val_root_mean_squared_error: 71243.8672\n",
            "Epoch 55/100\n",
            "563/563 [==============================] - 2s 3ms/step - loss: 4641926656.0000 - root_mean_squared_error: 68131.6875 - val_loss: 5096459264.0000 - val_root_mean_squared_error: 71389.4922\n",
            "Epoch 56/100\n",
            "563/563 [==============================] - 2s 4ms/step - loss: 4642837504.0000 - root_mean_squared_error: 68138.3672 - val_loss: 5084487680.0000 - val_root_mean_squared_error: 71305.5938\n",
            "Epoch 57/100\n",
            "563/563 [==============================] - 2s 3ms/step - loss: 4642681856.0000 - root_mean_squared_error: 68137.2266 - val_loss: 5075769856.0000 - val_root_mean_squared_error: 71244.4375\n",
            "Epoch 58/100\n",
            "563/563 [==============================] - 2s 3ms/step - loss: 4642011136.0000 - root_mean_squared_error: 68132.3047 - val_loss: 5075857408.0000 - val_root_mean_squared_error: 71245.0547t_mean_squared_e\n",
            "Epoch 59/100\n",
            "563/563 [==============================] - 2s 4ms/step - loss: 4640930304.0000 - root_mean_squared_error: 68124.3750 - val_loss: 5084891136.0000 - val_root_mean_squared_error: 71308.4219\n",
            "Epoch 60/100\n",
            "563/563 [==============================] - 2s 4ms/step - loss: 4642109440.0000 - root_mean_squared_error: 68133.0312 - val_loss: 5064999936.0000 - val_root_mean_squared_error: 71168.8125\n",
            "Epoch 61/100\n",
            "563/563 [==============================] - 2s 3ms/step - loss: 4641564672.0000 - root_mean_squared_error: 68129.0312 - val_loss: 5080199168.0000 - val_root_mean_squared_error: 71275.5156\n",
            "Epoch 62/100\n",
            "563/563 [==============================] - 2s 4ms/step - loss: 4642114560.0000 - root_mean_squared_error: 68133.0625 - val_loss: 5063305216.0000 - val_root_mean_squared_error: 71156.9062\n",
            "INFO:tensorflow:Assets written to: models\\simple_nn\\assets\n",
            "Epoch 63/100\n",
            "563/563 [==============================] - 2s 3ms/step - loss: 4640717312.0000 - root_mean_squared_error: 68122.8125 - val_loss: 5069216768.0000 - val_root_mean_squared_error: 71198.4297\n",
            "Epoch 64/100\n",
            "563/563 [==============================] - 2s 3ms/step - loss: 4641498624.0000 - root_mean_squared_error: 68128.5469 - val_loss: 5075071488.0000 - val_root_mean_squared_error: 71239.5391\n",
            "Epoch 65/100\n",
            "563/563 [==============================] - 2s 4ms/step - loss: 4640307200.0000 - root_mean_squared_error: 68119.7969 - val_loss: 5087437824.0000 - val_root_mean_squared_error: 71326.2734\n",
            "Epoch 66/100\n",
            "563/563 [==============================] - 2s 4ms/step - loss: 4641414656.0000 - root_mean_squared_error: 68127.9297 - val_loss: 5070903296.0000 - val_root_mean_squared_error: 71210.2734\n",
            "Epoch 67/100\n",
            "563/563 [==============================] - 2s 4ms/step - loss: 4640839680.0000 - root_mean_squared_error: 68123.7109 - val_loss: 5071670784.0000 - val_root_mean_squared_error: 71215.6641\n",
            "Epoch 68/100\n",
            "563/563 [==============================] - 2s 3ms/step - loss: 4641076736.0000 - root_mean_squared_error: 68125.4453 - val_loss: 5070501888.0000 - val_root_mean_squared_error: 71207.4531_squared_err\n",
            "Epoch 69/100\n",
            "563/563 [==============================] - 2s 3ms/step - loss: 4639828992.0000 - root_mean_squared_error: 68116.2891 - val_loss: 5084792832.0000 - val_root_mean_squared_error: 71307.7344\n",
            "Epoch 70/100\n",
            "563/563 [==============================] - 2s 4ms/step - loss: 4641100288.0000 - root_mean_squared_error: 68125.6250 - val_loss: 5080695296.0000 - val_root_mean_squared_error: 71279.0000\n",
            "Epoch 71/100\n",
            "563/563 [==============================] - 2s 4ms/step - loss: 4641089024.0000 - root_mean_squared_error: 68125.5391 - val_loss: 5073631744.0000 - val_root_mean_squared_error: 71229.4297\n",
            "Epoch 72/100\n",
            "563/563 [==============================] - 2s 3ms/step - loss: 4640011776.0000 - root_mean_squared_error: 68117.6328 - val_loss: 5079220224.0000 - val_root_mean_squared_error: 71268.6484\n",
            "Epoch 73/100\n",
            "563/563 [==============================] - 2s 3ms/step - loss: 4640013824.0000 - root_mean_squared_error: 68117.6484 - val_loss: 5063660032.0000 - val_root_mean_squared_error: 71159.3984\n",
            "Epoch 74/100\n",
            "563/563 [==============================] - 2s 3ms/step - loss: 4639919616.0000 - root_mean_squared_error: 68116.9531 - val_loss: 5083864064.0000 - val_root_mean_squared_error: 71301.2188\n",
            "Epoch 75/100\n",
            "563/563 [==============================] - 2s 3ms/step - loss: 4639517184.0000 - root_mean_squared_error: 68114.0000 - val_loss: 5070422528.0000 - val_root_mean_squared_error: 71206.8984\n",
            "Epoch 76/100\n",
            "563/563 [==============================] - 2s 3ms/step - loss: 4639280640.0000 - root_mean_squared_error: 68112.2656 - val_loss: 5073460224.0000 - val_root_mean_squared_error: 71228.2266_squared_error: 6798\n",
            "Epoch 77/100\n",
            "563/563 [==============================] - 2s 3ms/step - loss: 4639587840.0000 - root_mean_squared_error: 68114.5234 - val_loss: 5065564672.0000 - val_root_mean_squared_error: 71172.7812 4645312000.0000 - root_mean_squ\n",
            "Epoch 78/100\n",
            "563/563 [==============================] - 2s 3ms/step - loss: 4638707200.0000 - root_mean_squared_error: 68108.0547 - val_loss: 5084627968.0000 - val_root_mean_squared_error: 71306.5781\n",
            "Epoch 79/100\n",
            "563/563 [==============================] - 2s 3ms/step - loss: 4638101504.0000 - root_mean_squared_error: 68103.6094 - val_loss: 5070222336.0000 - val_root_mean_squared_error: 71205.4922\n",
            "Epoch 80/100\n",
            "563/563 [==============================] - 2s 3ms/step - loss: 4639074816.0000 - root_mean_squared_error: 68110.7578 - val_loss: 5075575296.0000 - val_root_mean_squared_error: 71243.0703\n",
            "Epoch 81/100\n",
            "563/563 [==============================] - 2s 3ms/step - loss: 4637327360.0000 - root_mean_squared_error: 68097.9219 - val_loss: 5089376256.0000 - val_root_mean_squared_error: 71339.867228256.0000 - root_mean_squared_e\n",
            "Epoch 82/100\n",
            "563/563 [==============================] - 2s 3ms/step - loss: 4637133312.0000 - root_mean_squared_error: 68096.5000 - val_loss: 5069712384.0000 - val_root_mean_squared_error: 71201.9141\n",
            "Epoch 83/100\n",
            "563/563 [==============================] - 2s 3ms/step - loss: 4639069184.0000 - root_mean_squared_error: 68110.7109 - val_loss: 5076208128.0000 - val_root_mean_squared_error: 71247.5156\n",
            "Epoch 84/100\n",
            "563/563 [==============================] - 2s 3ms/step - loss: 4639092224.0000 - root_mean_squared_error: 68110.8828 - val_loss: 5071488000.0000 - val_root_mean_squared_error: 71214.3828 root_mean_squared_err\n",
            "Epoch 85/100\n",
            "563/563 [==============================] - 2s 4ms/step - loss: 4637031424.0000 - root_mean_squared_error: 68095.7500 - val_loss: 5083552256.0000 - val_root_mean_squared_error: 71299.0312\n",
            "Epoch 86/100\n",
            "563/563 [==============================] - 3s 5ms/step - loss: 4639101440.0000 - root_mean_squared_error: 68110.9531 - val_loss: 5071725568.0000 - val_root_mean_squared_error: 71216.0469\n",
            "Epoch 87/100\n",
            "563/563 [==============================] - 2s 4ms/step - loss: 4638056448.0000 - root_mean_squared_error: 68103.2812 - val_loss: 5079922688.0000 - val_root_mean_squared_error: 71273.5781\n",
            "Epoch 88/100\n",
            "563/563 [==============================] - 2s 3ms/step - loss: 4638186496.0000 - root_mean_squared_error: 68104.2344 - val_loss: 5069344768.0000 - val_root_mean_squared_error: 71199.3281\n",
            "Epoch 89/100\n",
            "563/563 [==============================] - 2s 4ms/step - loss: 4637000192.0000 - root_mean_squared_error: 68095.5234 - val_loss: 5056697856.0000 - val_root_mean_squared_error: 71110.4609\n",
            "INFO:tensorflow:Assets written to: models\\simple_nn\\assets\n",
            "Epoch 90/100\n",
            "563/563 [==============================] - 3s 5ms/step - loss: 4638448640.0000 - root_mean_squared_error: 68106.1562 - val_loss: 5068811776.0000 - val_root_mean_squared_error: 71195.5859\n",
            "Epoch 91/100\n",
            "563/563 [==============================] - 3s 5ms/step - loss: 4637480448.0000 - root_mean_squared_error: 68099.0469 - val_loss: 5064577536.0000 - val_root_mean_squared_error: 71165.8438\n",
            "Epoch 92/100\n",
            "563/563 [==============================] - 3s 5ms/step - loss: 4637911040.0000 - root_mean_squared_error: 68102.2109 - val_loss: 5066726400.0000 - val_root_mean_squared_error: 71180.9375\n",
            "Epoch 93/100\n",
            "563/563 [==============================] - 3s 5ms/step - loss: 4638327296.0000 - root_mean_squared_error: 68105.2656 - val_loss: 5078424576.0000 - val_root_mean_squared_error: 71263.0625\n",
            "Epoch 94/100\n",
            "563/563 [==============================] - 3s 5ms/step - loss: 4637931520.0000 - root_mean_squared_error: 68102.3594 - val_loss: 5078896640.0000 - val_root_mean_squared_error: 71266.3750\n",
            "Epoch 95/100\n",
            "563/563 [==============================] - 3s 5ms/step - loss: 4637907456.0000 - root_mean_squared_error: 68102.1875 - val_loss: 5077496320.0000 - val_root_mean_squared_error: 71256.5547\n",
            "Epoch 96/100\n",
            "563/563 [==============================] - 3s 5ms/step - loss: 4636000768.0000 - root_mean_squared_error: 68088.1875 - val_loss: 5057794048.0000 - val_root_mean_squared_error: 71118.1719\n",
            "Epoch 97/100\n",
            "563/563 [==============================] - 3s 5ms/step - loss: 4637256704.0000 - root_mean_squared_error: 68097.4062 - val_loss: 5058157568.0000 - val_root_mean_squared_error: 71120.7266\n",
            "Epoch 98/100\n",
            "563/563 [==============================] - 3s 5ms/step - loss: 4637640192.0000 - root_mean_squared_error: 68100.2188 - val_loss: 5067742720.0000 - val_root_mean_squared_error: 71188.0781\n",
            "Epoch 99/100\n",
            "563/563 [==============================] - 2s 4ms/step - loss: 4637692928.0000 - root_mean_squared_error: 68100.6094 - val_loss: 5071928320.0000 - val_root_mean_squared_error: 71217.4688\n",
            "Epoch 100/100\n",
            "563/563 [==============================] - 3s 5ms/step - loss: 4636616192.0000 - root_mean_squared_error: 68092.7031 - val_loss: 5063755264.0000 - val_root_mean_squared_error: 71160.0703\n"
          ]
        },
        {
          "data": {
            "text/plain": [
              "<keras.callbacks.History at 0x25036d841c0>"
            ]
          },
          "execution_count": 36,
          "metadata": {},
          "output_type": "execute_result"
        }
      ]
    },
    {
      "cell_type": "code",
      "metadata": {
        "colab": {
          "base_uri": "https://localhost:8080/"
        },
        "id": "_SflsiTCGxVp",
        "outputId": "139c3d5d-829e-424b-a88a-b14f2c125328"
      },
      "source": [
        "# train model\n",
        "from tensorflow.keras.models import load_model\n",
        "\n",
        "simple_nn = load_model('models/simple_nn')\n",
        "mse(simple_nn.predict(X_train), y_train, squared=False), mse(simple_nn.predict(X_val), y_val, squared=False)"
      ],
      "execution_count": null,
      "outputs": [
        {
          "data": {
            "text/plain": [
              "(68105.09583438681, 71110.4627042067)"
            ]
          },
          "execution_count": 37,
          "metadata": {},
          "output_type": "execute_result"
        }
      ]
    },
    {
      "cell_type": "code",
      "metadata": {
        "id": "5QjunVx-euJu"
      },
      "source": [
        ""
      ],
      "execution_count": null,
      "outputs": []
    },
    {
      "cell_type": "code",
      "metadata": {
        "id": "kt4kE4WHeuJu"
      },
      "source": [
        ""
      ],
      "execution_count": null,
      "outputs": []
    },
    {
      "cell_type": "markdown",
      "metadata": {
        "id": "KAZ_NoGAeuJv"
      },
      "source": [
        "#### Medium neural network"
      ]
    },
    {
      "cell_type": "code",
      "metadata": {
        "id": "0QLS6aybID9Q",
        "scrolled": true,
        "outputId": "f3c0b77f-b5aa-42b0-b192-e448e5380cc9"
      },
      "source": [
        "medium_nn = Sequential()\n",
        "medium_nn.add(InputLayer((13,)))\n",
        "medium_nn.add(Dense(32, 'relu'))\n",
        "medium_nn.add(Dense(16, 'relu'))\n",
        "medium_nn.add(Dense(1, 'linear'))\n",
        "\n",
        "opt = Adam(learning_rate=.1)\n",
        "cp = ModelCheckpoint('models/medium_nn', save_best_only=True)\n",
        "medium_nn.compile(optimizer=opt, loss='mse', metrics=[RootMeanSquaredError()])\n",
        "medium_nn.fit(x=X_train, y=y_train, validation_data=(X_val, y_val), callbacks=[cp], epochs=100)"
      ],
      "execution_count": null,
      "outputs": [
        {
          "name": "stdout",
          "output_type": "stream",
          "text": [
            "Epoch 1/100\n",
            "563/563 [==============================] - 4s 5ms/step - loss: 8699912192.0000 - root_mean_squared_error: 93273.3203 - val_loss: 4887042048.0000 - val_root_mean_squared_error: 69907.3828\n",
            "INFO:tensorflow:Assets written to: models\\medium_nn\\assets\n",
            "Epoch 2/100\n",
            "563/563 [==============================] - 3s 5ms/step - loss: 4511618048.0000 - root_mean_squared_error: 67168.5781 - val_loss: 4787462144.0000 - val_root_mean_squared_error: 69191.4922 4558308352.\n",
            "INFO:tensorflow:Assets written to: models\\medium_nn\\assets\n",
            "Epoch 3/100\n",
            "563/563 [==============================] - 3s 5ms/step - loss: 4372787712.0000 - root_mean_squared_error: 66127.0547 - val_loss: 4883715072.0000 - val_root_mean_squared_error: 69883.5859t_mean_squared_error: 6460 - ETA: 1s - loss:\n",
            "Epoch 4/100\n",
            "563/563 [==============================] - 3s 5ms/step - loss: 4323586048.0000 - root_mean_squared_error: 65753.9844 - val_loss: 4523317248.0000 - val_root_mean_squared_error: 67255.6094\n",
            "INFO:tensorflow:Assets written to: models\\medium_nn\\assets\n",
            "Epoch 5/100\n",
            "563/563 [==============================] - 3s 4ms/step - loss: 4279919872.0000 - root_mean_squared_error: 65421.0977 - val_loss: 4591968768.0000 - val_root_mean_squared_error: 67764.0703\n",
            "Epoch 6/100\n",
            "563/563 [==============================] - 3s 5ms/step - loss: 4205069312.0000 - root_mean_squared_error: 64846.5039 - val_loss: 4439067136.0000 - val_root_mean_squared_error: 66626.3281: 1s - loss: 4077524736.0000 - root_mean_squared_error:  - ETA: 1s - loss: 4\n",
            "INFO:tensorflow:Assets written to: models\\medium_nn\\assets\n",
            "Epoch 7/100\n",
            "563/563 [==============================] - 3s 5ms/step - loss: 4162024192.0000 - root_mean_squared_error: 64513.7539 - val_loss: 4407657472.0000 - val_root_mean_squared_error: 66390.1875\n",
            "INFO:tensorflow:Assets written to: models\\medium_nn\\assets\n",
            "Epoch 8/100\n",
            "563/563 [==============================] - 3s 5ms/step - loss: 4172785920.0000 - root_mean_squared_error: 64597.1055 - val_loss: 4585400320.0000 - val_root_mean_squared_error: 67715.58591s - loss: 4232177664.0000 - roo - ETA: 0s - loss: 4139125504.0000 - root_mean_squared_error\n",
            "Epoch 9/100\n",
            "563/563 [==============================] - 3s 5ms/step - loss: 4117911808.0000 - root_mean_squared_error: 64170.9570 - val_loss: 4405420032.0000 - val_root_mean_squared_error: 66373.33590000 - root_\n",
            "INFO:tensorflow:Assets written to: models\\medium_nn\\assets\n",
            "Epoch 10/100\n",
            "563/563 [==============================] - 3s 5ms/step - loss: 4105532416.0000 - root_mean_squared_error: 64074.4297 - val_loss: 4542741504.0000 - val_root_mean_squared_error: 67399.8594\n",
            "Epoch 11/100\n",
            "563/563 [==============================] - 3s 5ms/step - loss: 4098566656.0000 - root_mean_squared_error: 64020.0508 - val_loss: 4373073408.0000 - val_root_mean_squared_error: 66129.2188\n",
            "INFO:tensorflow:Assets written to: models\\medium_nn\\assets\n",
            "Epoch 12/100\n",
            "563/563 [==============================] - 3s 5ms/step - loss: 4071584256.0000 - root_mean_squared_error: 63808.9688 - val_loss: 4334790144.0000 - val_root_mean_squared_error: 65839.1250\n",
            "INFO:tensorflow:Assets written to: models\\medium_nn\\assets\n",
            "Epoch 13/100\n",
            "563/563 [==============================] - 3s 5ms/step - loss: 4066471424.0000 - root_mean_squared_error: 63768.8906 - val_loss: 4299720704.0000 - val_root_mean_squared_error: 65572.2578\n",
            "INFO:tensorflow:Assets written to: models\\medium_nn\\assets\n",
            "Epoch 14/100\n",
            "563/563 [==============================] - 3s 6ms/step - loss: 4077619968.0000 - root_mean_squared_error: 63856.2461 - val_loss: 4316594176.0000 - val_root_mean_squared_error: 65700.7891 loss: 4066822656.0000 - roo - ETA: 1s - loss: 407\n",
            "Epoch 15/100\n",
            "563/563 [==============================] - 3s 6ms/step - loss: 4055814144.0000 - root_mean_squared_error: 63685.2734 - val_loss: 4307240448.0000 - val_root_mean_squared_error: 65629.5703\n",
            "Epoch 16/100\n",
            "563/563 [==============================] - 4s 6ms/step - loss: 4025342976.0000 - root_mean_squared_error: 63445.5898 - val_loss: 4344677376.0000 - val_root_mean_squared_error: 65914.1641\n",
            "Epoch 17/100\n",
            "563/563 [==============================] - 3s 5ms/step - loss: 4049039872.0000 - root_mean_squared_error: 63632.0664 - val_loss: 4244576768.0000 - val_root_mean_squared_error: 65150.4180\n",
            "INFO:tensorflow:Assets written to: models\\medium_nn\\assets\n",
            "Epoch 18/100\n",
            "563/563 [==============================] - 4s 6ms/step - loss: 4027817728.0000 - root_mean_squared_error: 63465.0898 - val_loss: 4221642240.0000 - val_root_mean_squared_error: 64974.1641\n",
            "INFO:tensorflow:Assets written to: models\\medium_nn\\assets\n",
            "Epoch 19/100\n",
            "563/563 [==============================] - 3s 6ms/step - loss: 4037976320.0000 - root_mean_squared_error: 63545.0742 - val_loss: 4595772928.0000 - val_root_mean_squared_error: 67792.1328\n",
            "Epoch 20/100\n",
            "563/563 [==============================] - 3s 6ms/step - loss: 4016711936.0000 - root_mean_squared_error: 63377.5352 - val_loss: 4418876928.0000 - val_root_mean_squared_error: 66474.6328\n",
            "Epoch 21/100\n",
            "563/563 [==============================] - 3s 5ms/step - loss: 4028710144.0000 - root_mean_squared_error: 63472.1211 - val_loss: 4567657984.0000 - val_root_mean_squared_error: 67584.4531\n",
            "Epoch 22/100\n",
            "563/563 [==============================] - 3s 5ms/step - loss: 4037459968.0000 - root_mean_squared_error: 63541.0117 - val_loss: 4285282048.0000 - val_root_mean_squared_error: 65462.0664\n",
            "Epoch 23/100\n",
            "563/563 [==============================] - 3s 5ms/step - loss: 4019017472.0000 - root_mean_squared_error: 63395.7227 - val_loss: 4277945600.0000 - val_root_mean_squared_error: 65406.0039\n",
            "Epoch 24/100\n",
            "563/563 [==============================] - 3s 5ms/step - loss: 4029031680.0000 - root_mean_squared_error: 63474.6523 - val_loss: 4653938176.0000 - val_root_mean_squared_error: 68219.7812oot_mean_squared_error: 63\n",
            "Epoch 25/100\n",
            "563/563 [==============================] - 3s 5ms/step - loss: 4009280256.0000 - root_mean_squared_error: 63318.8789 - val_loss: 4231930368.0000 - val_root_mean_squared_error: 65053.2891\n",
            "Epoch 26/100\n",
            "563/563 [==============================] - 3s 5ms/step - loss: 3909411840.0000 - root_mean_squared_error: 62525.2891 - val_loss: 4125966080.0000 - val_root_mean_squared_error: 64233.6836\n",
            "INFO:tensorflow:Assets written to: models\\medium_nn\\assets\n",
            "Epoch 27/100\n",
            "563/563 [==============================] - 3s 5ms/step - loss: 3781584640.0000 - root_mean_squared_error: 61494.5898 - val_loss: 4195523840.0000 - val_root_mean_squared_error: 64772.8633\n",
            "Epoch 28/100\n",
            "563/563 [==============================] - 3s 5ms/step - loss: 3697549312.0000 - root_mean_squared_error: 60807.4766 - val_loss: 4050624512.0000 - val_root_mean_squared_error: 63644.5156\n",
            "INFO:tensorflow:Assets written to: models\\medium_nn\\assets\n",
            "Epoch 29/100\n",
            "563/563 [==============================] - 3s 5ms/step - loss: 3619071744.0000 - root_mean_squared_error: 60158.7227 - val_loss: 4051313664.0000 - val_root_mean_squared_error: 63649.9297\n",
            "Epoch 30/100\n",
            "563/563 [==============================] - 3s 5ms/step - loss: 3549377280.0000 - root_mean_squared_error: 59576.6523 - val_loss: 3993588224.0000 - val_root_mean_squared_error: 63194.8438\n",
            "INFO:tensorflow:Assets written to: models\\medium_nn\\assets\n",
            "Epoch 31/100\n",
            "563/563 [==============================] - 3s 5ms/step - loss: 3533223424.0000 - root_mean_squared_error: 59440.9219 - val_loss: 4065704192.0000 - val_root_mean_squared_error: 63762.8750535505 - ETA: 0s - loss: 3501774080.0000 - root_mean_squared_error: 5917\n",
            "Epoch 32/100\n",
            "563/563 [==============================] - 3s 5ms/step - loss: 3478405120.0000 - root_mean_squared_error: 58978.0039 - val_loss: 3848680704.0000 - val_root_mean_squared_error: 62037.7344\n",
            "INFO:tensorflow:Assets written to: models\\medium_nn\\assets\n",
            "Epoch 33/100\n",
            "563/563 [==============================] - 3s 6ms/step - loss: 3470941440.0000 - root_mean_squared_error: 58914.6953 - val_loss: 3851446016.0000 - val_root_mean_squared_error: 62060.0195\n",
            "Epoch 34/100\n",
            "563/563 [==============================] - 3s 5ms/step - loss: 3426468096.0000 - root_mean_squared_error: 58536.0391 - val_loss: 3749869312.0000 - val_root_mean_squared_error: 61236.1758\n",
            "INFO:tensorflow:Assets written to: models\\medium_nn\\assets\n",
            "Epoch 35/100\n",
            "563/563 [==============================] - 2s 4ms/step - loss: 3391576064.0000 - root_mean_squared_error: 58237.2383 - val_loss: 3725203200.0000 - val_root_mean_squared_error: 61034.4414\n",
            "INFO:tensorflow:Assets written to: models\\medium_nn\\assets\n",
            "Epoch 36/100\n",
            "563/563 [==============================] - 2s 4ms/step - loss: 3383958784.0000 - root_mean_squared_error: 58171.8047 - val_loss: 3752651520.0000 - val_root_mean_squared_error: 61258.8906\n",
            "Epoch 37/100\n",
            "563/563 [==============================] - 2s 4ms/step - loss: 3344187904.0000 - root_mean_squared_error: 57828.9531 - val_loss: 3714800128.0000 - val_root_mean_squared_error: 60949.1602\n",
            "INFO:tensorflow:Assets written to: models\\medium_nn\\assets\n",
            "Epoch 38/100\n",
            "563/563 [==============================] - 2s 4ms/step - loss: 3317294080.0000 - root_mean_squared_error: 57595.9570 - val_loss: 3752765184.0000 - val_root_mean_squared_error: 61259.8164\n",
            "Epoch 39/100\n",
            "563/563 [==============================] - 2s 4ms/step - loss: 3319805184.0000 - root_mean_squared_error: 57617.7500 - val_loss: 3696044032.0000 - val_root_mean_squared_error: 60795.0977 - root_mean_squared_error: 5788 - ETA: 1s - loss: 3342953472.0000 - r - ETA: 0s - loss: 3324911616.0000 - root_mean_squared_error: 5766\n",
            "INFO:tensorflow:Assets written to: models\\medium_nn\\assets\n",
            "Epoch 40/100\n",
            "563/563 [==============================] - 2s 4ms/step - loss: 3266968576.0000 - root_mean_squared_error: 57157.4023 - val_loss: 3820450048.0000 - val_root_mean_squared_error: 61809.7891 3330417408.0000 - root_mean_squared_error: 57709.76 - ETA: 0s - loss: 3319866624.0000 - root_mean_squared_error: 57 - ETA: 0s - loss: 3310902784.0000 - root_mean_squared_error: 57\n",
            "Epoch 41/100\n",
            "563/563 [==============================] - 2s 4ms/step - loss: 3251821312.0000 - root_mean_squared_error: 57024.7422 - val_loss: 3604157696.0000 - val_root_mean_squared_error: 60034.6367\n",
            "INFO:tensorflow:Assets written to: models\\medium_nn\\assets\n",
            "Epoch 42/100\n",
            "563/563 [==============================] - 2s 4ms/step - loss: 3229682432.0000 - root_mean_squared_error: 56830.2969 - val_loss: 3591219968.0000 - val_root_mean_squared_error: 59926.7891\n",
            "INFO:tensorflow:Assets written to: models\\medium_nn\\assets\n",
            "Epoch 43/100\n",
            "563/563 [==============================] - 2s 4ms/step - loss: 3208682496.0000 - root_mean_squared_error: 56645.2344 - val_loss: 3590192128.0000 - val_root_mean_squared_error: 59918.2109mean_s\n",
            "INFO:tensorflow:Assets written to: models\\medium_nn\\assets\n",
            "Epoch 44/100\n",
            "563/563 [==============================] - 2s 4ms/step - loss: 3198256896.0000 - root_mean_squared_error: 56553.1328 - val_loss: 3608964608.0000 - val_root_mean_squared_error: 60074.6602\n",
            "Epoch 45/100\n",
            "563/563 [==============================] - ETA: 0s - loss: 3175006720.0000 - root_mean_squared_error: 56347.1992 ETA: 1s - loss: 3316967680.0000 - r - ETA: 0s - loss: 3176532992.0000 - root_mean_squar - 2s 4ms/step - loss: 3176306176.0000 - root_mean_squared_error: 56358.7266 - val_loss: 3467064576.0000 - val_root_mean_squared_error: 58881.7852\n",
            "INFO:tensorflow:Assets written to: models\\medium_nn\\assets\n",
            "Epoch 46/100\n",
            "563/563 [==============================] - 2s 4ms/step - loss: 3136885248.0000 - root_mean_squared_error: 56007.9023 - val_loss: 3823989248.0000 - val_root_mean_squared_error: 61838.4141\n",
            "Epoch 47/100\n",
            "563/563 [==============================] - 3s 5ms/step - loss: 3138397440.0000 - root_mean_squared_error: 56021.4023 - val_loss: 3594471680.0000 - val_root_mean_squared_error: 59953.9141\n",
            "Epoch 48/100\n",
            "563/563 [==============================] - 3s 6ms/step - loss: 3089069312.0000 - root_mean_squared_error: 55579.3945 - val_loss: 3510616832.0000 - val_root_mean_squared_error: 59250.4570\n",
            "Epoch 49/100\n",
            "563/563 [==============================] - 3s 5ms/step - loss: 3091625216.0000 - root_mean_squared_error: 55602.3867 - val_loss: 3470547200.0000 - val_root_mean_squared_error: 58911.3516020102656.0000 - root_ - ETA: 0s - loss: 3056093440.0000 - root_ - ETA: 0s - loss: 3067234816.0000 - root_mean_squared_error: 55382.\n",
            "Epoch 50/100\n",
            "563/563 [==============================] - 3s 5ms/step - loss: 3065987328.0000 - root_mean_squared_error: 55371.3594 - val_loss: 3391372544.0000 - val_root_mean_squared_error: 58235.4922\n",
            "INFO:tensorflow:Assets written to: models\\medium_nn\\assets\n",
            "Epoch 51/100\n",
            "563/563 [==============================] - 3s 5ms/step - loss: 3040359424.0000 - root_mean_squared_error: 55139.4531 - val_loss: 3391753984.0000 - val_root_mean_squared_error: 58238.76561s - loss: 2997495\n",
            "Epoch 52/100\n",
            "563/563 [==============================] - 3s 5ms/step - loss: 3076610816.0000 - root_mean_squared_error: 55467.2031 - val_loss: 3403595264.0000 - val_root_mean_squared_error: 58340.3398\n",
            "Epoch 53/100\n",
            "563/563 [==============================] - 3s 5ms/step - loss: 3026137344.0000 - root_mean_squared_error: 55010.3398 - val_loss: 3447931136.0000 - val_root_mean_squared_error: 58719.0859\n",
            "Epoch 54/100\n",
            "563/563 [==============================] - 3s 5ms/step - loss: 3015261952.0000 - root_mean_squared_error: 54911.4023 - val_loss: 3310983936.0000 - val_root_mean_squared_error: 57541.1484\n",
            "INFO:tensorflow:Assets written to: models\\medium_nn\\assets\n",
            "Epoch 55/100\n",
            "563/563 [==============================] - 3s 5ms/step - loss: 2964967424.0000 - root_mean_squared_error: 54451.5156 - val_loss: 3495943424.0000 - val_root_mean_squared_error: 59126.5039\n",
            "Epoch 56/100\n",
            "563/563 [==============================] - 3s 5ms/step - loss: 2981248256.0000 - root_mean_squared_error: 54600.8086 - val_loss: 3416897024.0000 - val_root_mean_squared_error: 58454.2305\n",
            "Epoch 57/100\n",
            "563/563 [==============================] - 2s 4ms/step - loss: 2955697920.0000 - root_mean_squared_error: 54366.3320 - val_loss: 3355997696.0000 - val_root_mean_squared_error: 57930.9727\n",
            "Epoch 58/100\n",
            "563/563 [==============================] - 3s 5ms/step - loss: 2942316800.0000 - root_mean_squared_error: 54243.1250 - val_loss: 3274484224.0000 - val_root_mean_squared_error: 57223.1094\n",
            "INFO:tensorflow:Assets written to: models\\medium_nn\\assets\n",
            "Epoch 59/100\n",
            "563/563 [==============================] - 3s 5ms/step - loss: 2914306048.0000 - root_mean_squared_error: 53984.3125 - val_loss: 3285632512.0000 - val_root_mean_squared_error: 57320.4375\n",
            "Epoch 60/100\n",
            "563/563 [==============================] - 3s 5ms/step - loss: 2911170816.0000 - root_mean_squared_error: 53955.2656 - val_loss: 3288329728.0000 - val_root_mean_squared_error: 57343.96090s - loss: 2889608960.0000 - root_mean_squared_error\n",
            "Epoch 61/100\n",
            "563/563 [==============================] - 3s 5ms/step - loss: 2890562048.0000 - root_mean_squared_error: 53763.9492 - val_loss: 3369592832.0000 - val_root_mean_squared_error: 58048.1953\n",
            "Epoch 62/100\n",
            "563/563 [==============================] - 3s 5ms/step - loss: 2881880832.0000 - root_mean_squared_error: 53683.1523 - val_loss: 3349318656.0000 - val_root_mean_squared_error: 57873.2969\n",
            "Epoch 63/100\n",
            "563/563 [==============================] - 3s 5ms/step - loss: 2887393792.0000 - root_mean_squared_error: 53734.4766 - val_loss: 3308559104.0000 - val_root_mean_squared_error: 57520.0742\n",
            "Epoch 64/100\n",
            "563/563 [==============================] - 3s 5ms/step - loss: 2869732352.0000 - root_mean_squared_error: 53569.8828 - val_loss: 3329699840.0000 - val_root_mean_squared_error: 57703.5508\n",
            "Epoch 65/100\n",
            "563/563 [==============================] - 3s 5ms/step - loss: 2867968512.0000 - root_mean_squared_error: 53553.4180 - val_loss: 3327393536.0000 - val_root_mean_squared_error: 57683.5625\n",
            "Epoch 66/100\n",
            "563/563 [==============================] - 3s 5ms/step - loss: 2886457856.0000 - root_mean_squared_error: 53725.7656 - val_loss: 3474314240.0000 - val_root_mean_squared_error: 58943.3125\n",
            "Epoch 67/100\n",
            "563/563 [==============================] - 3s 5ms/step - loss: 2862773248.0000 - root_mean_squared_error: 53504.8906 - val_loss: 3338745856.0000 - val_root_mean_squared_error: 57781.8828\n",
            "Epoch 68/100\n",
            "563/563 [==============================] - 3s 5ms/step - loss: 2851932672.0000 - root_mean_squared_error: 53403.4883 - val_loss: 3356111616.0000 - val_root_mean_squared_error: 57931.9570\n",
            "Epoch 69/100\n",
            "563/563 [==============================] - 2s 4ms/step - loss: 2860973312.0000 - root_mean_squared_error: 53488.0664 - val_loss: 3220187392.0000 - val_root_mean_squared_error: 56746.6953\n",
            "INFO:tensorflow:Assets written to: models\\medium_nn\\assets\n",
            "Epoch 70/100\n",
            "563/563 [==============================] - 2s 4ms/step - loss: 2842897152.0000 - root_mean_squared_error: 53318.8242 - val_loss: 3371713536.0000 - val_root_mean_squared_error: 58066.4570\n",
            "Epoch 71/100\n",
            "563/563 [==============================] - 2s 4ms/step - loss: 2828087296.0000 - root_mean_squared_error: 53179.7656 - val_loss: 3288482304.0000 - val_root_mean_squared_error: 57345.2891\n",
            "Epoch 72/100\n",
            "563/563 [==============================] - 2s 4ms/step - loss: 2835226624.0000 - root_mean_squared_error: 53246.8477 - val_loss: 3235684864.0000 - val_root_mean_squared_error: 56883.0820\n",
            "Epoch 73/100\n",
            "563/563 [==============================] - 2s 4ms/step - loss: 2823314688.0000 - root_mean_squared_error: 53134.8711 - val_loss: 3329572608.0000 - val_root_mean_squared_error: 57702.4492\n",
            "Epoch 74/100\n",
            "563/563 [==============================] - 2s 4ms/step - loss: 2834270208.0000 - root_mean_squared_error: 53237.8633 - val_loss: 3445613056.0000 - val_root_mean_squared_error: 58699.3438\n",
            "Epoch 75/100\n",
            "563/563 [==============================] - 2s 4ms/step - loss: 2833265152.0000 - root_mean_squared_error: 53228.4258 - val_loss: 3450417664.0000 - val_root_mean_squared_error: 58740.2578\n",
            "Epoch 76/100\n",
            "563/563 [==============================] - 2s 4ms/step - loss: 2806112000.0000 - root_mean_squared_error: 52972.7461 - val_loss: 3255791616.0000 - val_root_mean_squared_error: 57059.5430\n",
            "Epoch 77/100\n",
            "563/563 [==============================] - 2s 4ms/step - loss: 2799659776.0000 - root_mean_squared_error: 52911.8125 - val_loss: 3233530112.0000 - val_root_mean_squared_error: 56864.1367\n",
            "Epoch 78/100\n",
            "563/563 [==============================] - 3s 5ms/step - loss: 2815565824.0000 - root_mean_squared_error: 53061.9062 - val_loss: 3327132416.0000 - val_root_mean_squared_error: 57681.3008\n",
            "Epoch 79/100\n",
            "563/563 [==============================] - 3s 5ms/step - loss: 2804799488.0000 - root_mean_squared_error: 52960.3594 - val_loss: 3231686144.0000 - val_root_mean_squared_error: 56847.9219 - - ETA: 0s - loss: 2786675712.0000 - root_mean_s\n",
            "Epoch 80/100\n",
            "563/563 [==============================] - 3s 5ms/step - loss: 2804606976.0000 - root_mean_squared_error: 52958.5391 - val_loss: 3243553536.0000 - val_root_mean_squared_error: 56952.2031\n",
            "Epoch 81/100\n",
            "563/563 [==============================] - 3s 4ms/step - loss: 2785586688.0000 - root_mean_squared_error: 52778.6562 - val_loss: 3292384000.0000 - val_root_mean_squared_error: 57379.3008\n",
            "Epoch 82/100\n",
            "563/563 [==============================] - 2s 4ms/step - loss: 2795380224.0000 - root_mean_squared_error: 52871.3555 - val_loss: 3283428096.0000 - val_root_mean_squared_error: 57301.2031\n",
            "Epoch 83/100\n",
            "563/563 [==============================] - 3s 5ms/step - loss: 2797701376.0000 - root_mean_squared_error: 52893.3008 - val_loss: 3198675968.0000 - val_root_mean_squared_error: 56556.8398:  - ETA: 0s - loss: 2806081280.0000 - root_mean_squared\n",
            "INFO:tensorflow:Assets written to: models\\medium_nn\\assets\n",
            "Epoch 84/100\n",
            "563/563 [==============================] - 2s 4ms/step - loss: 2787107840.0000 - root_mean_squared_error: 52793.0664 - val_loss: 3235161344.0000 - val_root_mean_squared_error: 56878.4805\n",
            "Epoch 85/100\n",
            "563/563 [==============================] - 3s 5ms/step - loss: 2774473728.0000 - root_mean_squared_error: 52673.2734 - val_loss: 3271899904.0000 - val_root_mean_squared_error: 57200.5234\n",
            "Epoch 86/100\n",
            "563/563 [==============================] - 3s 4ms/step - loss: 2807449088.0000 - root_mean_squared_error: 52985.3672 - val_loss: 3347076864.0000 - val_root_mean_squared_error: 57853.9258\n",
            "Epoch 87/100\n",
            "563/563 [==============================] - 3s 4ms/step - loss: 2793189888.0000 - root_mean_squared_error: 52850.6367 - val_loss: 3178193152.0000 - val_root_mean_squared_error: 56375.4648\n",
            "INFO:tensorflow:Assets written to: models\\medium_nn\\assets\n",
            "Epoch 88/100\n",
            "563/563 [==============================] - 3s 5ms/step - loss: 2765392640.0000 - root_mean_squared_error: 52587.0000 - val_loss: 3153755136.0000 - val_root_mean_squared_error: 56158.3047\n",
            "INFO:tensorflow:Assets written to: models\\medium_nn\\assets\n",
            "Epoch 89/100\n",
            "563/563 [==============================] - 3s 5ms/step - loss: 2759395328.0000 - root_mean_squared_error: 52529.9453 - val_loss: 3254330624.0000 - val_root_mean_squared_error: 57046.7422\n",
            "Epoch 90/100\n",
            "563/563 [==============================] - 3s 5ms/step - loss: 2747956480.0000 - root_mean_squared_error: 52420.9531 - val_loss: 3236143104.0000 - val_root_mean_squared_error: 56887.1094\n",
            "Epoch 91/100\n",
            "563/563 [==============================] - 3s 5ms/step - loss: 2749019136.0000 - root_mean_squared_error: 52431.0898 - val_loss: 3257566720.0000 - val_root_mean_squared_error: 57075.0977\n",
            "Epoch 92/100\n",
            "563/563 [==============================] - 3s 5ms/step - loss: 2737405952.0000 - root_mean_squared_error: 52320.2266 - val_loss: 3314855424.0000 - val_root_mean_squared_error: 57574.7812\n",
            "Epoch 93/100\n",
            "563/563 [==============================] - 3s 5ms/step - loss: 2742852864.0000 - root_mean_squared_error: 52372.2539 - val_loss: 3248478720.0000 - val_root_mean_squared_error: 56995.4258\n",
            "Epoch 94/100\n",
            "563/563 [==============================] - 3s 5ms/step - loss: 2747101184.0000 - root_mean_squared_error: 52412.7969 - val_loss: 3281860608.0000 - val_root_mean_squared_error: 57287.5273\n",
            "Epoch 95/100\n",
            "563/563 [==============================] - 3s 5ms/step - loss: 2752747008.0000 - root_mean_squared_error: 52466.6289 - val_loss: 3144104704.0000 - val_root_mean_squared_error: 56072.3164\n",
            "INFO:tensorflow:Assets written to: models\\medium_nn\\assets\n",
            "Epoch 96/100\n",
            "563/563 [==============================] - 3s 5ms/step - loss: 2742788096.0000 - root_mean_squared_error: 52371.6328 - val_loss: 3223773696.0000 - val_root_mean_squared_error: 56778.2852\n",
            "Epoch 97/100\n",
            "563/563 [==============================] - 3s 4ms/step - loss: 2738690304.0000 - root_mean_squared_error: 52332.4961 - val_loss: 3304783872.0000 - val_root_mean_squared_error: 57487.2500\n",
            "Epoch 98/100\n",
            "563/563 [==============================] - 3s 5ms/step - loss: 2713636352.0000 - root_mean_squared_error: 52092.5742 - val_loss: 3104660480.0000 - val_root_mean_squared_error: 55719.4805\n",
            "INFO:tensorflow:Assets written to: models\\medium_nn\\assets\n",
            "Epoch 99/100\n",
            "563/563 [==============================] - 3s 5ms/step - loss: 2721877504.0000 - root_mean_squared_error: 52171.6172 - val_loss: 3186090752.0000 - val_root_mean_squared_error: 56445.4688\n",
            "Epoch 100/100\n",
            "563/563 [==============================] - 3s 5ms/step - loss: 2735192576.0000 - root_mean_squared_error: 52299.0703 - val_loss: 3217090816.0000 - val_root_mean_squared_error: 56719.4023\n"
          ]
        },
        {
          "data": {
            "text/plain": [
              "<keras.callbacks.History at 0x2503a5a15b0>"
            ]
          },
          "execution_count": 38,
          "metadata": {},
          "output_type": "execute_result"
        }
      ]
    },
    {
      "cell_type": "code",
      "metadata": {
        "colab": {
          "base_uri": "https://localhost:8080/"
        },
        "id": "RPwwpMMZIIrA",
        "outputId": "97378ea3-e00c-459e-9bbd-ae26f70c7cfe"
      },
      "source": [
        "# Train the model\n",
        "medium_nn = load_model('models/medium_nn')\n",
        "mse(medium_nn.predict(X_train), y_train, squared=False), mse(medium_nn.predict(X_val), y_val, squared=False)"
      ],
      "execution_count": null,
      "outputs": [
        {
          "data": {
            "text/plain": [
              "(51311.96112876573, 55719.479905283704)"
            ]
          },
          "execution_count": 39,
          "metadata": {},
          "output_type": "execute_result"
        }
      ]
    },
    {
      "cell_type": "code",
      "metadata": {
        "id": "H3bJPOl0euKN"
      },
      "source": [
        ""
      ],
      "execution_count": null,
      "outputs": []
    },
    {
      "cell_type": "code",
      "metadata": {
        "id": "rvaHqAIpeuKZ"
      },
      "source": [
        ""
      ],
      "execution_count": null,
      "outputs": []
    },
    {
      "cell_type": "markdown",
      "metadata": {
        "id": "IV4p06jIeuKZ"
      },
      "source": [
        "#### Large neural network"
      ]
    },
    {
      "cell_type": "code",
      "metadata": {
        "id": "vWoPfZ0HI9U_",
        "scrolled": true,
        "outputId": "c69ea30a-8d26-4dd6-91cb-ff6717bc75f6"
      },
      "source": [
        "large_nn = Sequential()\n",
        "large_nn.add(InputLayer((13,)))\n",
        "large_nn.add(Dense(256, 'relu')) #### Add some layers and divide by 2, maybe\n",
        "large_nn.add(Dense(128, 'relu'))\n",
        "large_nn.add(Dense(64, 'relu'))\n",
        "large_nn.add(Dense(32, 'relu'))\n",
        "large_nn.add(Dense(1, 'linear'))\n",
        "\n",
        "opt = Adam(learning_rate=.1)\n",
        "cp = ModelCheckpoint('models/large_nn', save_best_only=True)\n",
        "large_nn.compile(optimizer=opt, loss='mse', metrics=[RootMeanSquaredError()])\n",
        "large_nn.fit(x=X_train, y=y_train, validation_data=(X_val, y_val), callbacks=[cp], epochs=100)"
      ],
      "execution_count": null,
      "outputs": [
        {
          "name": "stdout",
          "output_type": "stream",
          "text": [
            "Epoch 1/100\n",
            "563/563 [==============================] - 6s 9ms/step - loss: 6239121920.0000 - root_mean_squared_error: 78988.1094 - val_loss: 4966287872.0000 - val_root_mean_squared_error: 70471.8906\n",
            "INFO:tensorflow:Assets written to: models\\large_nn\\assets\n",
            "Epoch 2/100\n",
            "563/563 [==============================] - 5s 8ms/step - loss: 4512237568.0000 - root_mean_squared_error: 67173.1875 - val_loss: 4893030912.0000 - val_root_mean_squared_error: 69950.2031\n",
            "INFO:tensorflow:Assets written to: models\\large_nn\\assets\n",
            "Epoch 3/100\n",
            "563/563 [==============================] - 4s 8ms/step - loss: 4133085696.0000 - root_mean_squared_error: 64289.0781 - val_loss: 4567281664.0000 - val_root_mean_squared_error: 67581.6641\n",
            "INFO:tensorflow:Assets written to: models\\large_nn\\assets\n",
            "Epoch 4/100\n",
            "563/563 [==============================] - 4s 7ms/step - loss: 3864426752.0000 - root_mean_squared_error: 62164.5117 - val_loss: 4501318656.0000 - val_root_mean_squared_error: 67091.8672\n",
            "INFO:tensorflow:Assets written to: models\\large_nn\\assets\n",
            "Epoch 5/100\n",
            "563/563 [==============================] - 6s 12ms/step - loss: 3657148416.0000 - root_mean_squared_error: 60474.3633 - val_loss: 5922763776.0000 - val_root_mean_squared_error: 76959.4922\n",
            "Epoch 6/100\n",
            "563/563 [==============================] - 5s 9ms/step - loss: 3615269376.0000 - root_mean_squared_error: 60127.1094 - val_loss: 3883088640.0000 - val_root_mean_squared_error: 62314.4336\n",
            "INFO:tensorflow:Assets written to: models\\large_nn\\assets\n",
            "Epoch 7/100\n",
            "563/563 [==============================] - 5s 9ms/step - loss: 3581795328.0000 - root_mean_squared_error: 59848.1016 - val_loss: 3887665152.0000 - val_root_mean_squared_error: 62351.1445\n",
            "Epoch 8/100\n",
            "563/563 [==============================] - 5s 9ms/step - loss: 3431417344.0000 - root_mean_squared_error: 58578.3008 - val_loss: 3812142848.0000 - val_root_mean_squared_error: 61742.5547ed\n",
            "INFO:tensorflow:Assets written to: models\\large_nn\\assets\n",
            "Epoch 9/100\n",
            "563/563 [==============================] - 5s 9ms/step - loss: 3412023808.0000 - root_mean_squared_error: 58412.5312 - val_loss: 3570677504.0000 - val_root_mean_squared_error: 59755.1445\n",
            "INFO:tensorflow:Assets written to: models\\large_nn\\assets\n",
            "Epoch 10/100\n",
            "563/563 [==============================] - 6s 11ms/step - loss: 3265272576.0000 - root_mean_squared_error: 57142.5625 - val_loss: 4155972864.0000 - val_root_mean_squared_error: 64466.8359\n",
            "Epoch 11/100\n",
            "563/563 [==============================] - 4s 6ms/step - loss: 3350588416.0000 - root_mean_squared_error: 57884.2656 - val_loss: 3486796288.0000 - val_root_mean_squared_error: 59049.1016\n",
            "INFO:tensorflow:Assets written to: models\\large_nn\\assets\n",
            "Epoch 12/100\n",
            "563/563 [==============================] - 3s 5ms/step - loss: 3238982912.0000 - root_mean_squared_error: 56912.0625 - val_loss: 3507620608.0000 - val_root_mean_squared_error: 59225.1680\n",
            "Epoch 13/100\n",
            "563/563 [==============================] - 3s 5ms/step - loss: 3186560256.0000 - root_mean_squared_error: 56449.6250 - val_loss: 3481197056.0000 - val_root_mean_squared_error: 59001.6719\n",
            "INFO:tensorflow:Assets written to: models\\large_nn\\assets\n",
            "Epoch 14/100\n",
            "563/563 [==============================] - 4s 6ms/step - loss: 3173602304.0000 - root_mean_squared_error: 56334.7344 - val_loss: 3643498240.0000 - val_root_mean_squared_error: 60361.3984\n",
            "Epoch 15/100\n",
            "563/563 [==============================] - 4s 8ms/step - loss: 3097086208.0000 - root_mean_squared_error: 55651.4727 - val_loss: 3318629376.0000 - val_root_mean_squared_error: 57607.5469\n",
            "INFO:tensorflow:Assets written to: models\\large_nn\\assets\n",
            "Epoch 16/100\n",
            "563/563 [==============================] - 5s 9ms/step - loss: 3052747264.0000 - root_mean_squared_error: 55251.6719 - val_loss: 3499945472.0000 - val_root_mean_squared_error: 59160.3359\n",
            "Epoch 17/100\n",
            "563/563 [==============================] - 5s 9ms/step - loss: 3035720192.0000 - root_mean_squared_error: 55097.3711 - val_loss: 3467401728.0000 - val_root_mean_squared_error: 58884.6484\n",
            "Epoch 18/100\n",
            "563/563 [==============================] - 4s 7ms/step - loss: 3008154368.0000 - root_mean_squared_error: 54846.6445 - val_loss: 3337689600.0000 - val_root_mean_squared_error: 57772.7422\n",
            "Epoch 19/100\n",
            "563/563 [==============================] - 6s 10ms/step - loss: 2956399360.0000 - root_mean_squared_error: 54372.7812 - val_loss: 3409356288.0000 - val_root_mean_squared_error: 58389.6914\n",
            "Epoch 20/100\n",
            "563/563 [==============================] - 5s 9ms/step - loss: 3000127744.0000 - root_mean_squared_error: 54773.4219 - val_loss: 3348815104.0000 - val_root_mean_squared_error: 57868.9492\n",
            "Epoch 21/100\n",
            "563/563 [==============================] - 5s 8ms/step - loss: 2944750592.0000 - root_mean_squared_error: 54265.5547 - val_loss: 3330509056.0000 - val_root_mean_squared_error: 57710.5625\n",
            "Epoch 22/100\n",
            "563/563 [==============================] - 4s 8ms/step - loss: 2848328192.0000 - root_mean_squared_error: 53369.7305 - val_loss: 3251671296.0000 - val_root_mean_squared_error: 57023.4258\n",
            "INFO:tensorflow:Assets written to: models\\large_nn\\assets\n",
            "Epoch 23/100\n",
            "563/563 [==============================] - 4s 8ms/step - loss: 2826404352.0000 - root_mean_squared_error: 53163.9375 - val_loss: 3293551872.0000 - val_root_mean_squared_error: 57389.4766\n",
            "Epoch 24/100\n",
            "563/563 [==============================] - 4s 8ms/step - loss: 2859644928.0000 - root_mean_squared_error: 53475.6484 - val_loss: 3304540416.0000 - val_root_mean_squared_error: 57485.1328072.0000 - root_mean_squared_error: 53525.\n",
            "Epoch 25/100\n",
            "563/563 [==============================] - 4s 8ms/step - loss: 2874745600.0000 - root_mean_squared_error: 53616.6523 - val_loss: 3159410176.0000 - val_root_mean_squared_error: 56208.6289\n",
            "INFO:tensorflow:Assets written to: models\\large_nn\\assets\n",
            "Epoch 26/100\n",
            "563/563 [==============================] - 5s 8ms/step - loss: 2835969792.0000 - root_mean_squared_error: 53253.8242 - val_loss: 3159834368.0000 - val_root_mean_squared_error: 56212.4023\n",
            "Epoch 27/100\n",
            "563/563 [==============================] - 5s 9ms/step - loss: 2785520896.0000 - root_mean_squared_error: 52778.0352 - val_loss: 3276456704.0000 - val_root_mean_squared_error: 57240.3398\n",
            "Epoch 28/100\n",
            "563/563 [==============================] - 5s 8ms/step - loss: 2792313600.0000 - root_mean_squared_error: 52842.3477 - val_loss: 3278454528.0000 - val_root_mean_squared_error: 57257.7891\n",
            "Epoch 29/100\n",
            "563/563 [==============================] - 5s 8ms/step - loss: 2774153728.0000 - root_mean_squared_error: 52670.2344 - val_loss: 3174594304.0000 - val_root_mean_squared_error: 56343.5391\n",
            "Epoch 30/100\n",
            "563/563 [==============================] - 5s 9ms/step - loss: 2804968192.0000 - root_mean_squared_error: 52961.9492 - val_loss: 3141384960.0000 - val_root_mean_squared_error: 56048.0586\n",
            "INFO:tensorflow:Assets written to: models\\large_nn\\assets\n",
            "Epoch 31/100\n",
            "563/563 [==============================] - 4s 8ms/step - loss: 2753069056.0000 - root_mean_squared_error: 52469.6953 - val_loss: 3680437248.0000 - val_root_mean_squared_error: 60666.6055\n",
            "Epoch 32/100\n",
            "563/563 [==============================] - 4s 8ms/step - loss: 2715655936.0000 - root_mean_squared_error: 52111.9570 - val_loss: 3375438336.0000 - val_root_mean_squared_error: 58098.5234\n",
            "Epoch 33/100\n",
            "563/563 [==============================] - 5s 8ms/step - loss: 2720409088.0000 - root_mean_squared_error: 52157.5430 - val_loss: 3140387584.0000 - val_root_mean_squared_error: 56039.1602\n",
            "INFO:tensorflow:Assets written to: models\\large_nn\\assets\n",
            "Epoch 34/100\n",
            "563/563 [==============================] - 5s 8ms/step - loss: 2755808768.0000 - root_mean_squared_error: 52495.7969 - val_loss: 3424525824.0000 - val_root_mean_squared_error: 58519.4492ared_error: 5256\n",
            "Epoch 35/100\n",
            "563/563 [==============================] - 6s 10ms/step - loss: 2709814272.0000 - root_mean_squared_error: 52055.8750 - val_loss: 3337240576.0000 - val_root_mean_squared_error: 57768.8555\n",
            "Epoch 36/100\n",
            "563/563 [==============================] - 4s 8ms/step - loss: 2675923712.0000 - root_mean_squared_error: 51729.3320 - val_loss: 3324167680.0000 - val_root_mean_squared_error: 57655.5938\n",
            "Epoch 37/100\n",
            "563/563 [==============================] - 4s 7ms/step - loss: 2725172480.0000 - root_mean_squared_error: 52203.1836 - val_loss: 3287226112.0000 - val_root_mean_squared_error: 57334.3359\n",
            "Epoch 38/100\n",
            "563/563 [==============================] - 5s 9ms/step - loss: 2676757504.0000 - root_mean_squared_error: 51737.3906 - val_loss: 3182957824.0000 - val_root_mean_squared_error: 56417.7070\n",
            "Epoch 39/100\n",
            "563/563 [==============================] - 5s 9ms/step - loss: 2679700224.0000 - root_mean_squared_error: 51765.8203 - val_loss: 3337501184.0000 - val_root_mean_squared_error: 57771.1094\n",
            "Epoch 40/100\n",
            "563/563 [==============================] - 4s 8ms/step - loss: 2658282240.0000 - root_mean_squared_error: 51558.5312 - val_loss: 3300832512.0000 - val_root_mean_squared_error: 57452.8711\n",
            "Epoch 41/100\n",
            "563/563 [==============================] - 4s 7ms/step - loss: 2665981184.0000 - root_mean_squared_error: 51633.1406 - val_loss: 3201757440.0000 - val_root_mean_squared_error: 56584.0742\n",
            "Epoch 42/100\n",
            "563/563 [==============================] - 4s 7ms/step - loss: 2705247232.0000 - root_mean_squared_error: 52011.9922 - val_loss: 3378950400.0000 - val_root_mean_squared_error: 58128.7383 - loss: 2664540416.0000 - root_mean_squared_error: 51 - ETA: 2s - loss: 2679299072.0000 -\n",
            "Epoch 43/100\n",
            "563/563 [==============================] - 4s 7ms/step - loss: 2664386560.0000 - root_mean_squared_error: 51617.6953 - val_loss: 3246012160.0000 - val_root_mean_squared_error: 56973.7852\n",
            "Epoch 44/100\n",
            "563/563 [==============================] - 4s 7ms/step - loss: 2639207936.0000 - root_mean_squared_error: 51373.2227 - val_loss: 3053685248.0000 - val_root_mean_squared_error: 55260.1602\n",
            "INFO:tensorflow:Assets written to: models\\large_nn\\assets\n",
            "Epoch 45/100\n",
            "563/563 [==============================] - 4s 7ms/step - loss: 2658274304.0000 - root_mean_squared_error: 51558.4570 - val_loss: 3204275968.0000 - val_root_mean_squared_error: 56606.3242\n",
            "Epoch 46/100\n",
            "563/563 [==============================] - 4s 6ms/step - loss: 2652553472.0000 - root_mean_squared_error: 51502.9453 - val_loss: 3295791872.0000 - val_root_mean_squared_error: 57408.9883\n",
            "Epoch 47/100\n",
            "563/563 [==============================] - 4s 7ms/step - loss: 2662714880.0000 - root_mean_squared_error: 51601.5000 - val_loss: 3159690240.0000 - val_root_mean_squared_error: 56211.1211\n",
            "Epoch 48/100\n",
            "563/563 [==============================] - 4s 8ms/step - loss: 2627583232.0000 - root_mean_squared_error: 51259.9570 - val_loss: 3076105216.0000 - val_root_mean_squared_error: 55462.6484\n",
            "Epoch 49/100\n",
            "563/563 [==============================] - 4s 8ms/step - loss: 2664324608.0000 - root_mean_squared_error: 51617.0977 - val_loss: 3053382144.0000 - val_root_mean_squared_error: 55257.4180\n",
            "INFO:tensorflow:Assets written to: models\\large_nn\\assets\n",
            "Epoch 50/100\n",
            "563/563 [==============================] - 4s 7ms/step - loss: 2580319232.0000 - root_mean_squared_error: 50796.8438 - val_loss: 3015159040.0000 - val_root_mean_squared_error: 54910.4648\n",
            "INFO:tensorflow:Assets written to: models\\large_nn\\assets\n",
            "Epoch 51/100\n",
            "563/563 [==============================] - 5s 9ms/step - loss: 2598741248.0000 - root_mean_squared_error: 50977.8516 - val_loss: 3026625280.0000 - val_root_mean_squared_error: 55014.7734\n",
            "Epoch 52/100\n",
            "563/563 [==============================] - 4s 8ms/step - loss: 2586284800.0000 - root_mean_squared_error: 50855.5273 - val_loss: 3089640192.0000 - val_root_mean_squared_error: 55584.5312\n",
            "Epoch 53/100\n",
            "563/563 [==============================] - 4s 7ms/step - loss: 2606684160.0000 - root_mean_squared_error: 51055.6953 - val_loss: 3125181440.0000 - val_root_mean_squared_error: 55903.3203\n",
            "Epoch 54/100\n",
            "563/563 [==============================] - 4s 7ms/step - loss: 2593095936.0000 - root_mean_squared_error: 50922.4492 - val_loss: 3052512512.0000 - val_root_mean_squared_error: 55249.5469\n",
            "Epoch 55/100\n",
            "563/563 [==============================] - 4s 7ms/step - loss: 2607666176.0000 - root_mean_squared_error: 51065.3125 - val_loss: 3040832256.0000 - val_root_mean_squared_error: 55143.7422\n",
            "Epoch 56/100\n",
            "563/563 [==============================] - 4s 7ms/step - loss: 2563882752.0000 - root_mean_squared_error: 50634.7969 - val_loss: 3117329920.0000 - val_root_mean_squared_error: 55833.0547\n",
            "Epoch 57/100\n",
            "563/563 [==============================] - 4s 7ms/step - loss: 2538610688.0000 - root_mean_squared_error: 50384.6289 - val_loss: 3076784384.0000 - val_root_mean_squared_error: 55468.7695\n",
            "Epoch 58/100\n",
            "563/563 [==============================] - 4s 7ms/step - loss: 2582586112.0000 - root_mean_squared_error: 50819.1523 - val_loss: 2987242496.0000 - val_root_mean_squared_error: 54655.6719523326208.0000 - root_mean_squ\n",
            "INFO:tensorflow:Assets written to: models\\large_nn\\assets\n",
            "Epoch 59/100\n",
            "563/563 [==============================] - 5s 9ms/step - loss: 2570967040.0000 - root_mean_squared_error: 50704.7031 - val_loss: 3077040640.0000 - val_root_mean_squared_error: 55471.0781\n",
            "Epoch 60/100\n",
            "563/563 [==============================] - 6s 11ms/step - loss: 2509603072.0000 - root_mean_squared_error: 50095.9375 - val_loss: 3115496448.0000 - val_root_mean_squared_error: 55816.6328s - loss: 2449741568.0000 - r - ETA: 1s - loss: 2477489152.0000 - root_mean_squared_error - ETA: 1s - loss: 2485205760. - ETA: 0s - loss: 2493769728.0000 - root_mean_squared_error: \n",
            "Epoch 61/100\n",
            "563/563 [==============================] - 8s 14ms/step - loss: 2558403072.0000 - root_mean_squared_error: 50580.6602 - val_loss: 3065488128.0000 - val_root_mean_squared_error: 55366.8516\n",
            "Epoch 62/100\n",
            "563/563 [==============================] - 8s 14ms/step - loss: 2530990080.0000 - root_mean_squared_error: 50308.9453 - val_loss: 2975161344.0000 - val_root_mean_squared_error: 54545.0391\n",
            "INFO:tensorflow:Assets written to: models\\large_nn\\assets\n",
            "Epoch 63/100\n",
            "563/563 [==============================] - 4s 8ms/step - loss: 3945087232.0000 - root_mean_squared_error: 62809.9297 - val_loss: 3327685888.0000 - val_root_mean_squared_error: 57686.0977\n",
            "Epoch 64/100\n",
            "563/563 [==============================] - 3s 6ms/step - loss: 2659636736.0000 - root_mean_squared_error: 51571.6680 - val_loss: 3143499520.0000 - val_root_mean_squared_error: 56066.9219\n",
            "Epoch 65/100\n",
            "563/563 [==============================] - 3s 6ms/step - loss: 2557912320.0000 - root_mean_squared_error: 50575.8086 - val_loss: 3152951040.0000 - val_root_mean_squared_error: 56151.1445\n",
            "Epoch 66/100\n",
            "563/563 [==============================] - 7s 12ms/step - loss: 2544122880.0000 - root_mean_squared_error: 50439.3008 - val_loss: 3058748416.0000 - val_root_mean_squared_error: 55305.9531\n",
            "Epoch 67/100\n",
            "563/563 [==============================] - 7s 12ms/step - loss: 2494143488.0000 - root_mean_squared_error: 49941.4023 - val_loss: 2976836352.0000 - val_root_mean_squared_error: 54560.3906\n",
            "Epoch 68/100\n",
            "563/563 [==============================] - 6s 11ms/step - loss: 2567169024.0000 - root_mean_squared_error: 50667.2383 - val_loss: 3095772672.0000 - val_root_mean_squared_error: 55639.6680\n",
            "Epoch 69/100\n",
            "563/563 [==============================] - 6s 11ms/step - loss: 2505497856.0000 - root_mean_squared_error: 50054.9492 - val_loss: 3022774528.0000 - val_root_mean_squared_error: 54979.7656\n",
            "Epoch 70/100\n",
            "563/563 [==============================] - 5s 9ms/step - loss: 2488408832.0000 - root_mean_squared_error: 49883.9531 - val_loss: 3215587072.0000 - val_root_mean_squared_error: 56706.1484\n",
            "Epoch 71/100\n",
            "563/563 [==============================] - 4s 7ms/step - loss: 2542356224.0000 - root_mean_squared_error: 50421.7852 - val_loss: 3101200640.0000 - val_root_mean_squared_error: 55688.4258\n",
            "Epoch 72/100\n",
            "563/563 [==============================] - 4s 7ms/step - loss: 2541871872.0000 - root_mean_squared_error: 50416.9805 - val_loss: 3196975872.0000 - val_root_mean_squared_error: 56541.8047 - ETA: 0s - loss: 2552539392.0000 - root_mean_squared_err\n",
            "Epoch 73/100\n",
            "563/563 [==============================] - 4s 7ms/step - loss: 2477713152.0000 - root_mean_squared_error: 49776.6328 - val_loss: 3156103168.0000 - val_root_mean_squared_error: 56179.2070\n",
            "Epoch 74/100\n",
            "563/563 [==============================] - 4s 7ms/step - loss: 2509988608.0000 - root_mean_squared_error: 50099.7852 - val_loss: 3289499136.0000 - val_root_mean_squared_error: 57354.1562\n",
            "Epoch 75/100\n",
            "563/563 [==============================] - 5s 8ms/step - loss: 2470192128.0000 - root_mean_squared_error: 49701.0273 - val_loss: 3566414592.0000 - val_root_mean_squared_error: 59719.4648\n",
            "Epoch 76/100\n",
            "563/563 [==============================] - 4s 8ms/step - loss: 2494936320.0000 - root_mean_squared_error: 49949.3359 - val_loss: 3274531328.0000 - val_root_mean_squared_error: 57223.5195\n",
            "Epoch 77/100\n",
            "563/563 [==============================] - 4s 7ms/step - loss: 2479946752.0000 - root_mean_squared_error: 49799.0625 - val_loss: 2988222720.0000 - val_root_mean_squared_error: 54664.6367\n",
            "Epoch 78/100\n",
            "563/563 [==============================] - 4s 7ms/step - loss: 2499014656.0000 - root_mean_squared_error: 49990.1445 - val_loss: 3428876032.0000 - val_root_mean_squared_error: 58556.6055\n",
            "Epoch 79/100\n",
            "563/563 [==============================] - 4s 7ms/step - loss: 2492779776.0000 - root_mean_squared_error: 49927.7461 - val_loss: 3139200768.0000 - val_root_mean_squared_error: 56028.5703\n",
            "Epoch 80/100\n",
            "563/563 [==============================] - 4s 7ms/step - loss: 2505872128.0000 - root_mean_squared_error: 50058.6875 - val_loss: 3135912960.0000 - val_root_mean_squared_error: 55999.2227\n",
            "Epoch 81/100\n",
            "563/563 [==============================] - 4s 7ms/step - loss: 2479852288.0000 - root_mean_squared_error: 49798.1172 - val_loss: 3334576384.0000 - val_root_mean_squared_error: 57745.7930\n",
            "Epoch 82/100\n",
            "563/563 [==============================] - 5s 9ms/step - loss: 2481686528.0000 - root_mean_squared_error: 49816.5273 - val_loss: 3479253760.0000 - val_root_mean_squared_error: 58985.1992\n",
            "Epoch 83/100\n",
            "563/563 [==============================] - 5s 9ms/step - loss: 2451400704.0000 - root_mean_squared_error: 49511.6211 - val_loss: 3222594048.0000 - val_root_mean_squared_error: 56767.8945\n",
            "Epoch 84/100\n",
            "563/563 [==============================] - 6s 10ms/step - loss: 2461763072.0000 - root_mean_squared_error: 49616.1562 - val_loss: 3472323840.0000 - val_root_mean_squared_error: 58926.4258\n",
            "Epoch 85/100\n",
            "563/563 [==============================] - 4s 7ms/step - loss: 2476430592.0000 - root_mean_squared_error: 49763.7461 - val_loss: 3079978752.0000 - val_root_mean_squared_error: 55497.5547\n",
            "Epoch 86/100\n",
            "563/563 [==============================] - 4s 7ms/step - loss: 2466626560.0000 - root_mean_squared_error: 49665.1445 - val_loss: 3093437696.0000 - val_root_mean_squared_error: 55618.6797\n",
            "Epoch 87/100\n",
            "563/563 [==============================] - 4s 7ms/step - loss: 2417887232.0000 - root_mean_squared_error: 49172.0156 - val_loss: 3022532608.0000 - val_root_mean_squared_error: 54977.5664 2400815360.0000 - root_mean_squared_error - ETA: 1s - loss: 2406164\n",
            "Epoch 88/100\n",
            "563/563 [==============================] - 3s 5ms/step - loss: 2466913536.0000 - root_mean_squared_error: 49668.0352 - val_loss: 3020292352.0000 - val_root_mean_squared_error: 54957.1875\n",
            "Epoch 89/100\n",
            "563/563 [==============================] - 3s 6ms/step - loss: 2444527104.0000 - root_mean_squared_error: 49442.1602 - val_loss: 3122914816.0000 - val_root_mean_squared_error: 55883.0469\n",
            "Epoch 90/100\n",
            "563/563 [==============================] - 3s 5ms/step - loss: 2445889024.0000 - root_mean_squared_error: 49455.9297 - val_loss: 3078273024.0000 - val_root_mean_squared_error: 55482.1875oss: 2435368192.0000 - r - ETA: 0s - loss: 2441862912.0000 - root_mean_squared_e\n",
            "Epoch 91/100\n",
            "563/563 [==============================] - 3s 5ms/step - loss: 2438299648.0000 - root_mean_squared_error: 49379.1406 - val_loss: 3055380224.0000 - val_root_mean_squared_error: 55275.4922\n",
            "Epoch 92/100\n",
            "563/563 [==============================] - 3s 5ms/step - loss: 2431828224.0000 - root_mean_squared_error: 49313.5703 - val_loss: 2967959296.0000 - val_root_mean_squared_error: 54478.9805\n",
            "INFO:tensorflow:Assets written to: models\\large_nn\\assets\n",
            "Epoch 93/100\n",
            "563/563 [==============================] - 3s 5ms/step - loss: 2467362816.0000 - root_mean_squared_error: 49672.5547 - val_loss: 3085354752.0000 - val_root_mean_squared_error: 55545.9688\n",
            "Epoch 94/100\n",
            "563/563 [==============================] - ETA: 0s - loss: 2437747712.0000 - root_mean_squared_error: 49373.5547 ETA: 2s - loss: 2478248704.0000 - root_mean_squared_error: 49 - ETA: 2s - loss: - ETA: 0s - loss: 2442628352.0000 - - 3s 5ms/step - loss: 2437704448.0000 - root_mean_squared_error: 49373.1133 - val_loss: 3062046720.0000 - val_root_mean_squared_error: 55335.7617\n",
            "Epoch 95/100\n",
            "563/563 [==============================] - 3s 5ms/step - loss: 2423236608.0000 - root_mean_squared_error: 49226.3828 - val_loss: 2987224832.0000 - val_root_mean_squared_error: 54655.5117\n",
            "Epoch 96/100\n",
            "563/563 [==============================] - 3s 5ms/step - loss: 2489809664.0000 - root_mean_squared_error: 49897.9922 - val_loss: 3088505088.0000 - val_root_mean_squared_error: 55574.3203oss:\n",
            "Epoch 97/100\n",
            "563/563 [==============================] - 3s 5ms/step - loss: 2701748480.0000 - root_mean_squared_error: 51978.3477 - val_loss: 2952351232.0000 - val_root_mean_squared_error: 54335.5430\n",
            "INFO:tensorflow:Assets written to: models\\large_nn\\assets\n",
            "Epoch 98/100\n",
            "563/563 [==============================] - 3s 5ms/step - loss: 2457618176.0000 - root_mean_squared_error: 49574.3711 - val_loss: 3103513344.0000 - val_root_mean_squared_error: 55709.18364819840.0000 - root_mean_squared_error: 4954\n",
            "Epoch 99/100\n",
            "563/563 [==============================] - 3s 5ms/step - loss: 2439154432.0000 - root_mean_squared_error: 49387.7969 - val_loss: 2917118208.0000 - val_root_mean_squared_error: 54010.3516\n",
            "INFO:tensorflow:Assets written to: models\\large_nn\\assets\n",
            "Epoch 100/100\n",
            "563/563 [==============================] - ETA: 0s - loss: 2405565440.0000 - root_mean_squared_error: 49046.5625 ETA: 2s - loss: 20590 - ETA: 1s - loss: 2 - 3s 5ms/step - loss: 2403994368.0000 - root_mean_squared_error: 49030.5469 - val_loss: 3130156800.0000 - val_root_mean_squared_error: 55947.8047\n"
          ]
        },
        {
          "data": {
            "text/plain": [
              "<keras.callbacks.History at 0x2503b773a60>"
            ]
          },
          "execution_count": 40,
          "metadata": {},
          "output_type": "execute_result"
        }
      ]
    },
    {
      "cell_type": "code",
      "metadata": {
        "id": "MRGzepxveuKa"
      },
      "source": [
        ""
      ],
      "execution_count": null,
      "outputs": []
    },
    {
      "cell_type": "code",
      "metadata": {
        "id": "fYclk8tpeuKb"
      },
      "source": [
        ""
      ],
      "execution_count": null,
      "outputs": []
    },
    {
      "cell_type": "markdown",
      "metadata": {
        "id": "5YpM1263euKb"
      },
      "source": [
        "#### To show how good the modelis"
      ]
    },
    {
      "cell_type": "code",
      "metadata": {
        "colab": {
          "base_uri": "https://localhost:8080/"
        },
        "id": "v5sa_qQVJByu",
        "outputId": "61c2aff1-ee4e-45fe-ee35-48d63a00d6c5"
      },
      "source": [
        "large_nn = load_model('models/large_nn')\n",
        "mse(large_nn.predict(X_train), y_train, squared=False), mse(large_nn.predict(X_val), y_val, squared=False)"
      ],
      "execution_count": null,
      "outputs": [
        {
          "data": {
            "text/plain": [
              "(46453.999894207904, 53604.151459795976)"
            ]
          },
          "execution_count": 74,
          "metadata": {},
          "output_type": "execute_result"
        }
      ]
    },
    {
      "cell_type": "code",
      "metadata": {
        "colab": {
          "base_uri": "https://localhost:8080/"
        },
        "id": "k9qTUZ1YKA64",
        "outputId": "6d3891d4-edbe-40d6-dcb0-2bca9f38e73e"
      },
      "source": [
        "mse(gbr.predict(X_test), y_test, squared=False)"
      ],
      "execution_count": null,
      "outputs": [
        {
          "data": {
            "text/plain": [
              "49343.558115024265"
            ]
          },
          "execution_count": 75,
          "metadata": {},
          "output_type": "execute_result"
        }
      ]
    },
    {
      "cell_type": "markdown",
      "metadata": {
        "id": "xJLzIm4NKGsU"
      },
      "source": [
        "#### Based on accuracy, we will choose Gradient boosting which gave the best results"
      ]
    },
    {
      "cell_type": "code",
      "metadata": {
        "id": "uAuC1R4aeuKe"
      },
      "source": [
        ""
      ],
      "execution_count": null,
      "outputs": []
    }
  ]
}